{
  "nbformat": 4,
  "nbformat_minor": 0,
  "metadata": {
    "colab": {
      "name": "movie_recc",
      "provenance": [],
      "collapsed_sections": [],
      "mount_file_id": "1kLlcRZT1rXfunVg1A4T0NvUQhMGhkcgb",
      "authorship_tag": "ABX9TyNkyzXZQFTZa4gTu3+ERAHa",
      "include_colab_link": true
    },
    "kernelspec": {
      "name": "python3",
      "display_name": "Python 3"
    },
    "language_info": {
      "name": "python"
    }
  },
  "cells": [
    {
      "cell_type": "markdown",
      "metadata": {
        "id": "view-in-github",
        "colab_type": "text"
      },
      "source": [
        "<a href=\"https://colab.research.google.com/github/DivyanshSareen/movi_rec/blob/main/movie_recc.ipynb\" target=\"_parent\"><img src=\"https://colab.research.google.com/assets/colab-badge.svg\" alt=\"Open In Colab\"/></a>"
      ]
    },
    {
      "cell_type": "code",
      "metadata": {
        "colab": {
          "base_uri": "https://localhost:8080/"
        },
        "id": "jcG6hZHyuUVF",
        "outputId": "00dd7db5-82fb-45dd-a7f4-f1cf1e1a4a20"
      },
      "source": [
        "!pip install requests"
      ],
      "execution_count": null,
      "outputs": [
        {
          "output_type": "stream",
          "name": "stdout",
          "text": [
            "Requirement already satisfied: requests in /usr/local/lib/python3.7/dist-packages (2.23.0)\n",
            "Requirement already satisfied: urllib3!=1.25.0,!=1.25.1,<1.26,>=1.21.1 in /usr/local/lib/python3.7/dist-packages (from requests) (1.24.3)\n",
            "Requirement already satisfied: idna<3,>=2.5 in /usr/local/lib/python3.7/dist-packages (from requests) (2.10)\n",
            "Requirement already satisfied: certifi>=2017.4.17 in /usr/local/lib/python3.7/dist-packages (from requests) (2021.5.30)\n",
            "Requirement already satisfied: chardet<4,>=3.0.2 in /usr/local/lib/python3.7/dist-packages (from requests) (3.0.4)\n"
          ]
        }
      ]
    },
    {
      "cell_type": "code",
      "metadata": {
        "id": "7fXUupt5vYgR"
      },
      "source": [
        "import requests\n",
        "import pandas as pd"
      ],
      "execution_count": 106,
      "outputs": []
    },
    {
      "cell_type": "code",
      "metadata": {
        "id": "DdFMch5w5gdO"
      },
      "source": [
        "api_key = \"\"    # tmdb api key here"
      ],
      "execution_count": null,
      "outputs": []
    },
    {
      "cell_type": "code",
      "metadata": {
        "colab": {
          "base_uri": "https://localhost:8080/"
        },
        "id": "3f5KT3MYvatj",
        "outputId": "7382c46f-8a8b-44ee-9524-403d47faea10"
      },
      "source": [
        "# demo request\n",
        "response = requests.get(\"https://api.themoviedb.org/3/movie/top_rated?api_key=\"+api_key)\n",
        "response\n",
        "type(response.json())"
      ],
      "execution_count": null,
      "outputs": [
        {
          "output_type": "execute_result",
          "data": {
            "text/plain": [
              "dict"
            ]
          },
          "metadata": {},
          "execution_count": 45
        }
      ]
    },
    {
      "cell_type": "code",
      "metadata": {
        "id": "x-IVqVCo5Lk9"
      },
      "source": [
        "# utility function\n",
        "def get_cast(credits):\n",
        "  cast = credits['cast']\n",
        "  act_li = []\n",
        "  i = 0\n",
        "  while i < 3:\n",
        "    if cast[i]['known_for_department'] == \"Acting\":\n",
        "      act_li.append(cast[i]['name'])\n",
        "    i = i + 1\n",
        "  return act_li\n",
        "\n",
        "def get_direc(credits):\n",
        "  cast = credits['crew']\n",
        "  direc_li = []\n",
        "  i = 0\n",
        "  for x in cast:\n",
        "    if 'job' in x:\n",
        "      direc_li.append(x['name'])\n",
        "      i = i + 1\n",
        "    if i < 2: break\n",
        "  return direc_li\n",
        "\n",
        "# returns a list of attributes corresponding to given movie id\n",
        "def movie_row(id):\n",
        "  # request url for single movie\n",
        "  url = \"https://api.themoviedb.org/3/movie/\"+str(id)+\"?api_key=\"+api_key+\"&language=en-US&append_to_response=credits\"\n",
        "  response = requests.get(url)\n",
        "  data = response.json()\n",
        "  # print(data.keys())\n",
        "  genres = [x['name'] for x in data['genres']]\n",
        "  overview = data['overview']\n",
        "  title = data['title']\n",
        "  cast = get_cast(data['credits'])\n",
        "  director = get_direc(data['credits'])\n",
        "  # print(director)\n",
        "  return [id, title, genres, overview, cast, director]"
      ],
      "execution_count": 117,
      "outputs": []
    },
    {
      "cell_type": "code",
      "metadata": {
        "colab": {
          "base_uri": "https://localhost:8080/"
        },
        "id": "BWFNfPTwwPJD",
        "outputId": "799ce652-8e1d-4e27-cac9-48697f59a518"
      },
      "source": [
        "# request URL for API\n",
        "url = \"https://api.themoviedb.org/3/movie/top_rated?api_key=\"+api_key+\"&language=en-US&page=\"\n",
        "\n",
        "# list for movie dataframe\n",
        "df_li = []\n",
        "\n",
        "# list of pages with issue\n",
        "error_pages = []\n",
        "\n",
        "# iterating over pages 1 to 19 \n",
        "for i in range(1,25):\n",
        "  response = requests.get(url+str(i))    # getting response for ith page\n",
        "  data = response.json()   \n",
        "  # iterating over all movies in a page \n",
        "  for j in data['results']:\n",
        "    # print(j['title'])\n",
        "    try:\n",
        "      row_li = movie_row(j['id'])\n",
        "      print(row_li)\n",
        "      df_li.append(row_li)\n",
        "    except:\n",
        "      error_pages.append(j)\n",
        "    \n",
        "print(\"Process complete! error in these pages:\")\n",
        "for i in error_pages:\n",
        "  print(i)\n",
        "\n",
        "df = pd.DataFrame(df_li, columns = ['id', 'title', 'genre', 'overview', 'cast', 'director'])"
      ],
      "execution_count": 119,
      "outputs": [
        {
          "output_type": "stream",
          "name": "stdout",
          "text": [
            "[19404, 'Dilwale Dulhania Le Jayenge', ['Comedy', 'Drama', 'Romance'], 'Raj is a rich, carefree, happy-go-lucky second generation NRI. Simran is the daughter of Chaudhary Baldev Singh, who in spite of being an NRI is very strict about adherence to Indian values. Simran has left for India to be married to her childhood fiancé. Raj leaves for India with a mission at his hands, to claim his lady love under the noses of her whole family. Thus begins a saga.', ['Shah Rukh Khan', 'Kajol', 'Amrish Puri'], ['Farah Khan']]\n",
            "[278, 'The Shawshank Redemption', ['Drama', 'Crime'], 'Framed in the 1940s for the double murder of his wife and her lover, upstanding banker Andy Dufresne begins a new life at the Shawshank prison, where he puts his accounting skills to work for an amoral warden. During his long stretch in prison, Dufresne comes to be admired by the other inmates -- including an older prisoner named Red -- for his integrity and unquenchable sense of hope.', ['Tim Robbins', 'Morgan Freeman', 'Bob Gunton'], ['Thomas Newman']]\n",
            "[238, 'The Godfather', ['Drama', 'Crime'], 'Spanning the years 1945 to 1955, a chronicle of the fictional Italian-American Corleone crime family. When organized crime family patriarch, Vito Corleone barely survives an attempt on his life, his youngest son, Michael steps in to take care of the would-be killers, launching a campaign of bloody revenge.', ['Marlon Brando', 'Al Pacino', 'James Caan'], ['Francis Ford Coppola']]\n",
            "[724089, \"Gabriel's Inferno Part II\", ['Romance'], \"Professor Gabriel Emerson finally learns the truth about Julia Mitchell's identity, but his realization comes a moment too late. Julia is done waiting for the well-respected Dante specialist to remember her and wants nothing more to do with him. Can Gabriel win back her heart before she finds love in another's arms?\", ['Melanie Zanetti', 'Giulio Berruti', 'James Andrew Fraser'], ['Denis Maloney']]\n",
            "[761053, \"Gabriel's Inferno Part III\", ['Romance', 'Comedy'], \"The final part of the film adaption of the erotic romance novel Gabriel's Inferno written by an anonymous Canadian author under the pen name Sylvain Reynard.\", ['Melanie Zanetti', 'Giulio Berruti', 'Rhett Wellington'], ['Tosca Musk']]\n",
            "[283566, 'Evangelion: 3.0+1.0 Thrice Upon a Time', ['Animation', 'Action', 'Drama', 'Science Fiction'], 'In the aftermath of the Fourth Impact, stranded without their Evangelions, Shinji, Asuka, and Rei find refuge in one of the rare pockets of humanity that still exist on the ruined planet Earth. There, each of them live a life far different from their days as an Evangelion pilot. However, the danger to the world is far from over. A new impact is looming on the horizon—one that will prove to be the true end of Evangelion.', ['Megumi Ogata', 'Yuko Miyamura', 'Megumi Hayashibara'], ['Shiro Sagisu']]\n",
            "[696374, \"Gabriel's Inferno\", ['Romance'], \"An intriguing and sinful exploration of seduction, forbidden love, and redemption, Gabriel's Inferno is a captivating and wildly passionate tale of one man's escape from his own personal hell as he tries to earn the impossible--forgiveness and love.\", ['Melanie Zanetti', 'Giulio Berruti', 'Kurt McKinney'], ['Tosca Musk']]\n",
            "[424, \"Schindler's List\", ['Drama', 'History', 'War'], 'The true story of how businessman Oskar Schindler saved over a thousand Jewish lives from the Nazis while they worked as slaves in his factory during World War II.', ['Liam Neeson', 'Ben Kingsley', 'Ralph Fiennes'], ['John Williams']]\n",
            "[240, 'The Godfather: Part II', ['Drama', 'Crime'], 'In the continuing saga of the Corleone crime family, a young Vito Corleone grows up in Sicily and in 1910s New York. In the 1950s, Michael Corleone attempts to expand the family business into Las Vegas, Hollywood and Cuba.', ['Al Pacino', 'Robert De Niro', 'Robert Duvall'], ['Walter Murch']]\n",
            "[255709, 'Hope', ['Drama'], 'After 8-year-old So-won narrowly survives a brutal sexual assault, her family labors to help her heal while coping with their own rage and grief.', ['Sol Kyung-gu', 'Uhm Ji-won', 'Lee Re'], ['Kim Sang-bum']]\n",
            "[372058, 'Your Name.', ['Romance', 'Animation', 'Drama'], 'High schoolers Mitsuha and Taki are complete strangers living separate lives. But one night, they suddenly switch places. Mitsuha wakes up in Taki’s body, and he in hers. This bizarre occurrence continues to happen randomly, and the two must adjust their lives around each other.', ['Ryunosuke Kamiki', 'Mone Kamishiraishi', 'Ryo Narita'], ['Takeshi Inamura']]\n",
            "[129, 'Spirited Away', ['Animation', 'Family', 'Fantasy'], 'A young girl, Chihiro, becomes trapped in a strange new world of spirits. When her parents undergo a mysterious transformation, she must call upon the courage she never knew she had to free her family.', ['Rumi Hiiragi', 'Miyu Irino', 'Mari Natsuki'], ['Hayao Miyazaki']]\n",
            "[632632, 'Given', ['Animation', 'Drama', 'Music', 'Romance'], \"The film centers on the love relationship among the band's bassist Haruki Nakayama, drummer Akihiko Kaji, and Akihiko's roommate and ex-boyfriend Ugetsu Murata.\", ['Takuya Eguchi', 'Masatomo Nakazawa', 'Shougo Yano'], ['Naoki Serizawa']]\n",
            "[496243, 'Parasite', ['Comedy', 'Thriller', 'Drama'], \"All unemployed, Ki-taek's family takes peculiar interest in the wealthy and glamorous Parks for their livelihood until they get entangled in an unexpected incident.\", ['Song Kang-ho', 'Lee Sun-kyun', 'Cho Yeo-jeong'], ['Bong Joon-ho']]\n",
            "[497, 'The Green Mile', ['Fantasy', 'Drama', 'Crime'], \"A supernatural tale set on death row in a Southern prison, where gentle giant John Coffey possesses the mysterious power to heal people's ailments. When the cell block's head guard, Paul Edgecomb, recognizes Coffey's miraculous gift, he tries desperately to help stave off the condemned man's execution.\", ['Tom Hanks', 'David Morse', 'Bonnie Hunt'], ['Thomas Newman']]\n",
            "[389, '12 Angry Men', ['Drama'], \"The defense and the prosecution have rested and the jury is filing into the jury room to decide if a young Spanish-American is guilty or innocent of murdering his father. What begins as an open and shut case soon becomes a mini-drama of each of the jurors' prejudices and preconceptions about the trial, the accused, and each other.\", ['Martin Balsam', 'John Fiedler', 'Lee J. Cobb'], ['Henry Fonda']]\n",
            "[441130, 'Wolfwalkers', ['Animation', 'Family', 'Adventure', 'Fantasy'], 'In a time of superstition and magic, when wolves are seen as demonic and nature an evil to be tamed, a young apprentice hunter comes to Ireland with her father to wipe out the last pack. But when she saves a wild native girl, their friendship leads her to discover the world of the Wolfwalkers and transform her into the very thing her father is tasked to destroy.', ['Honor Kneafsey', 'Eva Whittaker', 'Sean Bean'], ['Darren T. Holmes']]\n",
            "[644479, 'Dedicated to my ex', ['Drama', 'Comedy'], 'The film tells the story of Ariel, a 21-year-old who decides to form a rock band to compete for a prize of ten thousand dollars in a musical band contest, this as a last option when trying to get money to save their relationship and reunite with his ex-girlfriend, which breaks due to the trip she must make to Finland for an internship. Ariel with her friend Ortega, decides to make a casting to find the other members of the band, although they do not know nothing about music, thus forming a band with members that have diverse and opposite personalities.', ['Raúl Santana', 'Carlos Alcantara'], ['Nataly Valencia']]\n",
            "[572154, 'Rascal Does Not Dream of a Dreaming Girl', ['Animation', 'Comedy', 'Romance', 'Drama', 'Fantasy'], 'In Fujisawa, Sakuta Azusagawa is in his second year of high school. Blissful days with his girlfriend and upperclassman, Mai Sakurajima, are interrupted by the appearance of his first crush, Shoko Makinohara.', ['Kaito Ishikawa', 'Asami Seto', 'Inori Minase'], ['Masahiro Yokotani']]\n",
            "[680, 'Pulp Fiction', ['Thriller', 'Crime'], \"A burger-loving hit man, his philosophical partner, a drug-addled gangster's moll and a washed-up boxer converge in this sprawling, comedic crime caper. Their adventures unfurl in three stories that ingeniously trip back and forth in time.\", ['John Travolta', 'Samuel L. Jackson', 'Uma Thurman'], ['Quentin Tarantino']]\n",
            "[155, 'The Dark Knight', ['Drama', 'Action', 'Crime', 'Thriller'], 'Batman raises the stakes in his war on crime. With the help of Lt. Jim Gordon and District Attorney Harvey Dent, Batman sets out to dismantle the remaining criminal organizations that plague the streets. The partnership proves to be effective, but they soon find themselves prey to a reign of chaos unleashed by a rising criminal mastermind known to the terrified citizens of Gotham as the Joker.', ['Christian Bale', 'Heath Ledger', 'Michael Caine'], ['Lucinda Syson']]\n",
            "[40096, \"A Dog's Will\", ['Adventure', 'Comedy'], 'The lively Jack the Cricket and the sly Chicó are poor guys living in the hinterland who cheat a bunch of people in a small in Northeastern Brazil. When they die, they have to be judged by Christ, the Devil and the Virgin Mary before they are admitted to paradise.', ['Matheus Nachtergaele', 'Selton Mello', 'Virginia Cavendish'], ['Guel Arraes']]\n",
            "[122, 'The Lord of the Rings: The Return of the King', ['Adventure', 'Fantasy', 'Action'], \"Aragorn is revealed as the heir to the ancient kings as he, Gandalf and the other members of the broken fellowship struggle to save Gondor from Sauron's forces. Meanwhile, Frodo and Sam take the ring closer to the heart of Mordor, the dark lord's realm.\", ['Elijah Wood', 'Ian McKellen', 'Liv Tyler'], ['Barrie M. Osborne']]\n",
            "[592350, 'My Hero Academia: Heroes Rising', ['Animation', 'Action', 'Fantasy', 'Adventure'], \"Class 1-A visits Nabu Island where they finally get to do some real hero work. The place is so peaceful that it's more like a vacation … until they're attacked by a villain with an unfathomable Quirk! His power is eerily familiar, and it looks like Shigaraki had a hand in the plan. But with All Might retired and citizens' lives on the line, there's no time for questions. Deku and his friends are the next generation of heroes, and they're the island's only hope.\", ['Daiki Yamashita', 'Nobuhiko Okamoto', 'Yoshio Inoue'], ['Masafumi Mima']]\n",
            "[526702, 'Black Beauty', ['Drama'], 'Born free in the American West, Black Beauty is a horse rounded up and brought to Birtwick Stables, where she meets spirited teenager Jo Green. The two forge a bond that carries Beauty through the different chapters, challenges and adventures.', ['Kate Winslet', 'Mackenzie Foy', 'Iain Glen'], ['Jeremy Bolt']]\n",
            "[13, 'Forrest Gump', ['Comedy', 'Drama', 'Romance'], 'A man with a low IQ has accomplished great things in his life and been present during significant historic events—in each case, far exceeding what anyone imagined he could do. But despite all he has achieved, his one true love eludes him.', ['Tom Hanks', 'Robin Wright', 'Gary Sinise'], ['Alan Silvestri']]\n",
            "[532067, \"KonoSuba: God's Blessing on this Wonderful World! Legend of Crimson\", ['Adventure', 'Comedy', 'Animation', 'Fantasy'], \"It is not strange that the Demon Lord's forces fear the Crimson Demons, the clan from which Megumin and Yunyun originate. Even if the Demon Lord's generals attack their village, the Crimson Demons can just easily brush them off with their supreme mastery of advanced and overpowered magic.  When Yunyun receives a seemingly serious letter regarding a potential disaster coming to her hometown, she immediately informs Kazuma Satou and the rest of his party. After a series of wacky misunderstandings, it turns out to be a mere prank by her fellow demon who wants to be an author. Even so, Megumin becomes worried about her family and sets out toward the Crimson Demons' village with the gang.  There, Kazuma and the others decide to sightsee the wonders of Megumin's birthplace. However, they soon come to realize that the nonsense threat they received might have been more than just a joke.\", ['Jun Fukushima', 'Rie Takahashi', 'Sora Amamiya'], ['Yoshikazu Iwanami']]\n",
            "[429, 'The Good, the Bad and the Ugly', ['Western'], 'While the Civil War rages between the Union and the Confederacy, three men – a quiet loner, a ruthless hit man and a Mexican bandit – comb the American Southwest in search of a strongbox containing $200,000 in stolen gold.', ['Clint Eastwood', 'Eli Wallach', 'Lee Van Cleef'], ['Gray Frederickson']]\n",
            "[637, 'Life Is Beautiful', ['Comedy', 'Drama'], 'A touching story of an Italian book seller of Jewish ancestry who lives in his own little fairy tale. His creative and happy life would come to an abrupt halt when his entire family is deported to a concentration camp during World War II. While locked up he tries to convince his son that the whole thing is just a game.', ['Roberto Benigni', 'Nicoletta Braschi', 'Giorgio Cantarini'], ['John Davis']]\n",
            "[346, 'Seven Samurai', ['Action', 'Drama'], \"A samurai answers a village's request for protection after he falls on hard times. The town needs protection from bandits, so the samurai gathers six others to help him teach the people how to defend themselves, and the villagers provide the soldiers with food.\", ['Toshirō Mifune', 'Takashi Shimura', 'Yoshio Inaba'], ['Akira Kurosawa']]\n",
            "[11216, 'Cinema Paradiso', ['Drama', 'Romance'], \"A filmmaker recalls his childhood, when he fell in love with the movies at his village's theater and formed a deep friendship with the theater's projectionist.\", ['Philippe Noiret', 'Jacques Perrin', 'Marco Leonardi'], ['Ennio Morricone']]\n",
            "[769, 'GoodFellas', ['Drama', 'Crime'], 'The true story of Henry Hill, a half-Irish, half-Sicilian Brooklyn kid who is adopted by neighbourhood gangsters at an early age and climbs the ranks of a Mafia family under the guidance of Jimmy Conway.', ['Ray Liotta', 'Robert De Niro', 'Joe Pesci'], ['Martin Scorsese']]\n",
            "[556574, 'Hamilton', ['History', 'Drama'], 'Presenting the tale of American founding father Alexander Hamilton, this filmed version of the original Broadway smash hit is the story of America then, told by America now.', ['Lin-Manuel Miranda', 'Leslie Odom Jr.', 'Renée Elise Goldsberry'], ['Declan Quinn']]\n",
            "[311, 'Once Upon a Time in America', ['Drama', 'Crime'], 'A former Prohibition-era Jewish gangster returns to the Lower East Side of Manhattan over thirty years later, where he once again must confront the ghosts and regrets of his old life.', ['Robert De Niro', 'James Woods', 'Elizabeth McGovern'], ['Arnon Milchan']]\n",
            "[92321, 'Hotarubi no Mori e', ['Romance', 'Animation', 'Fantasy'], 'One hot summer day a little girl gets lost in an enchanted forest of the mountain god where spirits reside. A young boy appears before her, but she cannot touch him for fear of making him disappear. And so a wondrous adventure awaits...', ['Izumi Sawada', 'Hayato Taya', 'Ayane Sakura'], ['Eiko Morikawa']]\n",
            "[539, 'Psycho', ['Horror', 'Drama', 'Thriller'], 'When larcenous real estate clerk Marion Crane goes on the lam with a wad of cash and hopes of starting a new life, she ends up at the notorious Bates Motel, where manager Norman Bates cares for his housebound mother.', ['Anthony Perkins', 'Janet Leigh', 'Vera Miles'], ['Bernard Herrmann']]\n",
            "[378064, 'A Silent Voice: The Movie', ['Animation', 'Drama'], 'Shouya Ishida starts bullying the new girl in class, Shouko Nishimiya, because she is deaf. But as the teasing continues, the rest of the class starts to turn on Shouya for his lack of compassion. When they leave elementary school, Shouko and Shouya do not speak to each other again... until an older, wiser Shouya, tormented by his past behaviour, decides he must see Shouko once more. He wants to atone for his sins, but is it already too late...?', ['Miyu Irino', 'Saori Hayami', 'Aoi Yuki'], ['Roger Daltrey']]\n",
            "[550, 'Fight Club', ['Drama'], 'A ticking-time-bomb insomniac and a slippery soap salesman channel primal male aggression into a shocking new form of therapy. Their concept catches on, with underground \"fight clubs\" forming in every town, until an eccentric gets in the way and ignites an out-of-control spiral toward oblivion.', ['Edward Norton', 'Brad Pitt', 'Helena Bonham Carter'], ['Arnon Milchan']]\n",
            "[14537, 'Harakiri', ['Action', 'Drama', 'History'], \"An unusual request for ritual suicide on a feudal lord's property leads to the unwinding of a greater mystery that challenges the clan's integrity.\", ['Tatsuya Nakadai', 'Akira Ishihama', 'Shima Iwashita'], ['Shinobu Hashimoto']]\n",
            "[510, \"One Flew Over the Cuckoo's Nest\", ['Drama'], 'While serving time for insanity at a state mental hospital, implacable rabble-rouser, Randle Patrick McMurphy, inspires his fellow patients to rebel against the authoritarian rule of head nurse, Mildred Ratched.', ['Jack Nicholson', 'Louise Fletcher', 'Danny DeVito'], ['Jane Feinberg']]\n",
            "[12477, 'Grave of the Fireflies', ['Animation', 'Drama', 'War'], 'In the final months of World War II, 14-year-old Seita and his sister Setsuko are orphaned when their mother is killed during an air raid in Kobe, Japan. After a falling out with their aunt, they move into an abandoned bomb shelter. With no surviving relatives and their emergency rations depleted, Seita and Setsuko struggle to survive.', ['Ayano Shiraishi', 'Yoshiko Shinohara'], ['Isao Takahata']]\n",
            "[630566, 'Clouds', ['Music', 'Drama', 'Romance'], 'Young musician Zach Sobiech discovers his cancer has spread, leaving him just a few months to live. With limited time, he follows his dream and makes an album, unaware that it will soon be a viral music phenomenon.', ['Steffan Argus', 'Sabrina Carpenter', 'Madison Iseman'], ['Brian Tyler']]\n",
            "[447362, 'Life in a Year', ['Drama', 'Romance'], 'A 17 year old finds out that his girlfriend is dying, so he sets out to give her an entire life, in the last year she has left.', ['Jaden Smith', 'Cara Delevingne', 'Cuba Gooding Jr.'], ['Will Smith']]\n",
            "[598, 'City of God', ['Drama', 'Crime'], 'Buscapé was raised in a very violent environment. Despite the feeling that all odds were against him, he finds out that life can be seen with other eyes...', ['Alexandre Rodrigues', 'Leandro Firmino', 'Phellipe Haagensen'], ['Fernando Meirelles']]\n",
            "[640344, 'Me contro Te: Il film - La vendetta del Signor S', ['Comedy', 'Family'], 'A new adventure for Luì and Sofi (Me contro Te), once again against the evil Mr. S, this time at the cinema. Mr. S is plotting revenge and working on a plan to become the master of the world. They will be called to stop him, giving their little fans and all families fun and lots of surprises.', ['Sofia Scalia', 'Luigi Calagna', 'Antonella Carone'], ['Davide Crippa']]\n",
            "[324857, 'Spider-Man: Into the Spider-Verse', ['Action', 'Adventure', 'Animation', 'Science Fiction', 'Comedy'], 'Miles Morales is juggling his life between being a high school student and being a spider-man. When Wilson \"Kingpin\" Fisk uses a super collider, others from across the Spider-Verse are transported to this dimension.', ['Shameik Moore', 'Jake Johnson', 'Hailee Steinfeld'], ['Stan Lee']]\n",
            "[618344, 'Justice League Dark: Apokolips War', ['Animation', 'Action', 'Adventure', 'Fantasy', 'Science Fiction'], 'Earth is decimated after intergalactic tyrant Darkseid has devastated the Justice League in a poorly executed war by the DC Super Heroes. Now the remaining bastions of good – the Justice League, Teen Titans, Suicide Squad and assorted others – must regroup, strategize and take the war to Darkseid in order to save the planet and its surviving inhabitants.', ['Matt Ryan', \"Jerry O'Connell\", 'Taissa Farmiga'], ['Bob Kane']]\n",
            "[4935, \"Howl's Moving Castle\", ['Fantasy', 'Animation', 'Adventure'], 'When Sophie, a shy young woman, is cursed with an old body by a spiteful witch, her only chance of breaking the spell lies with a self-indulgent yet insecure young wizard and his companions in his legged, walking castle.', ['Chieko Baisho', 'Takuya Kimura', 'Akihiro Miwa'], ['John Lasseter']]\n",
            "[18491, 'Neon Genesis Evangelion: The End of Evangelion', ['Drama', 'Science Fiction', 'Animation', 'Action'], 'The second of two theatrically released follow-ups to the Neon Genesis Evangelion series. Comprising of two alternate episodes which were first intended to take the place of episodes 25 and 26, this finale answers many of the questions surrounding the series, while also opening up some new possibilities.', ['Megumi Ogata', 'Megumi Hayashibara', 'Kotono Mitsuishi'], ['Mitsuhisa Ishikawa']]\n",
            "[635302, 'Demon Slayer -Kimetsu no Yaiba- The Movie: Mugen Train', ['Animation', 'Action', 'Adventure', 'Fantasy'], \"Tanjirō Kamado, joined with Inosuke Hashibira, a boy raised by boars who wears a boar's head, and Zenitsu Agatsuma, a scared boy who reveals his true power when he sleeps, boards the Infinity Train on a new mission with the Fire Hashira, Kyōjurō Rengoku, to defeat a demon who has been tormenting the people and killing the demon slayers who oppose it!\", ['Natsuki Hanae', 'Akari Kito', 'Hiro Shimono'], ['Kazuo Ebisawa']]\n",
            "[599, 'Sunset Boulevard', ['Drama'], 'A hack screenwriter writes a screenplay for a former silent film star who has faded into Hollywood obscurity.', ['William Holden', 'Gloria Swanson', 'Erich von Stroheim'], ['Franz Waxman']]\n",
            "[537061, 'Steven Universe: The Movie', ['Animation', 'Family', 'Fantasy', 'Music', 'TV Movie', 'Science Fiction'], 'Two years after bringing peace to the galaxy, Steven Universe sees his past come back to haunt him in the form of a deranged Gem who wants to destroy the Earth.', ['Zach Callison', 'Deedee Magno', 'Estelle'], ['Chance the Rapper']]\n",
            "[522924, 'The Art of Racing in the Rain', ['Comedy', 'Drama', 'Romance'], \"A family dog - with a near-human soul and a philosopher's mind - evaluates his life through the lessons learned by his human owner, a race-car driver.\", ['Milo Ventimiglia', 'Kevin Costner', 'Amanda Seyfried'], ['Monique Prudhomme']]\n",
            "[1891, 'The Empire Strikes Back', ['Adventure', 'Action', 'Science Fiction'], 'The epic saga continues as Luke Skywalker, in hopes of defeating the evil Galactic Empire, learns the ways of the Jedi from aging master Yoda. But Darth Vader is more determined than ever to capture Luke. Meanwhile, rebel leader Princess Leia, cocky Han Solo, Chewbacca, and droids C-3PO and R2-D2 are thrown into various stages of capture, betrayal and despair.', ['Mark Hamill', 'Harrison Ford', 'Carrie Fisher'], ['George Lucas']]\n",
            "[476292, 'Maquia: When the Promised Flower Blooms', ['Animation', 'Fantasy', 'Romance', 'Drama'], \"Maquia is a member of a special race called the Iorph who can live for hundreds of years. However, Maquia has always felt lonely despite being surrounded by her people, as she was orphaned from a young age. She daydreams about the outside world, but dares not travel from her home due to the warnings of the clan's chief.  One day the kingdom of Mezarte invades her homeland. They already have what is left of the giant dragons, the Renato, under their control, and now their king wishes to add the immortality to his bloodline.  They ravage the Iorph homeland and kill most of its inhabitants. Caught in the midst of the attack, Maquia is carried off by one of the Renato. It soon dies, and she is left deserted in a forest, now truly alone save for the cries of a single baby off in the distance. Maquia finds the baby in a destroyed village and decides to raise him as her own, naming him Ariel. Although she knows nothing of the human world, how to raise a child that ages much faster than her.\", ['Manaka Iwami', 'Miyu Irino', 'Tomokazu Sugita'], ['Michiya Kato']]\n",
            "[3782, 'Ikiru', ['Drama'], 'Kanji Watanabe is a middle-aged man who has worked in the same monotonous bureaucratic position for decades. Learning he has cancer, he starts to look for the meaning of his life.', ['Takashi Shimura', 'Haruo Tanaka', 'Nobuo Kaneko'], ['Akira Kurosawa']]\n",
            "[423, 'The Pianist', ['Drama', 'War'], \"The true story of pianist Władysław Szpilman's experiences in Warsaw during the Nazi occupation. When the Jews of the city find themselves forced into a ghetto, Szpilman finds work playing in a café; and when his family is deported in 1942, he stays behind, works for a while as a laborer, and eventually goes into hiding in the ruins of the war-torn city.\", ['Adrien Brody', 'Thomas Kretschmann', 'Frank Finlay'], ['Celestia Fox']]\n",
            "[244786, 'Whiplash', ['Drama', 'Music'], 'Under the direction of a ruthless instructor, a talented young drummer begins to pursue perfection at any cost, even his humanity.', ['Miles Teller', 'J.K. Simmons', 'Paul Reiser'], ['Terri Taylor']]\n",
            "[791373, \"Zack Snyder's Justice League\", ['Action', 'Adventure', 'Fantasy', 'Science Fiction'], \"Determined to ensure Superman's ultimate sacrifice was not in vain, Bruce Wayne aligns forces with Diana Prince with plans to recruit a team of metahumans to protect the world from an approaching threat of catastrophic proportions.\", ['Ben Affleck', 'Henry Cavill', 'Gal Gadot'], ['Charles Roven']]\n",
            "[73, 'American History X', ['Drama'], \"Derek Vineyard is paroled after serving 3 years in prison for killing two African-American men. Through his brother, Danny Vineyard's narration, we learn that before going to prison, Derek was a skinhead and the leader of a violent white supremacist gang that committed acts of racial crime throughout L.A. and his actions greatly influenced Danny. Reformed and fresh out of prison, Derek severs contact with the gang and becomes determined to keep Danny from going down the same violent path as he did.\", ['Edward Norton', 'Edward Furlong', \"Beverly D'Angelo\"], ['Steve Tisch']]\n",
            "[610892, 'Violet Evergarden: Eternity and the Auto Memory Doll', ['Drama', 'Fantasy', 'Animation'], 'Isabella, the daughter of the noble York family, is enrolled in an all-girls academy to be groomed into a dame worthy of nobility. However, she has given up on her future, seeing the prestigious school as nothing more than a prison from the outside world. Her family notices her struggling in her lessons and decides to hire Violet Evergarden to personally tutor her under the guise of a handmaiden.  At first, Isabella treats Violet coldly. Violet seems to be able to do everything perfectly, leading Isabella to assume that she was born with a silver spoon. After some time, Isabella begins to realize that Violet has had her own struggles and starts to open up to her. Isabella soon reveals that she has lost contact with her beloved younger sister, whom she yearns to see again.  Having experienced the power of words through her past clientele, Violet asks if Isabella wishes to write a letter to Taylor. Will Violet be able to help Isabella convey her feelings to her long-lost sister?', ['Yui Ishikawa', 'Minako Kotobuki', 'Aoi Yuki'], ['Reiko Yoshida']]\n",
            "[120, 'The Lord of the Rings: The Fellowship of the Ring', ['Adventure', 'Fantasy', 'Action'], 'Young hobbit Frodo Baggins, after inheriting a mysterious ring from his uncle Bilbo, must leave his home in order to keep it from falling into the hands of its evil creator. Along the way, a fellowship is formed to protect the ringbearer and make sure that the ring arrives at its final destination: Mt. Doom, the only place where it can be destroyed.', ['Elijah Wood', 'Ian McKellen', 'Liv Tyler'], ['Barrie M. Osborne']]\n",
            "[12493, 'High and Low', ['Crime', 'Drama', 'Mystery', 'Thriller'], \"An executive of a shoe company becomes a victim of extortion when his chauffeur's son is kidnapped and held for ransom.\", ['Toshirō Mifune', 'Tatsuya Nakadai', 'Kyōko Kagawa'], ['Akira Kurosawa']]\n",
            "[914, 'The Great Dictator', ['Comedy'], \"Dictator Adenoid Hynkel tries to expand his empire while a poor Jewish barber tries to avoid persecution from Hynkel's regime.\", ['Charlie Chaplin', 'Jack Oakie', 'Reginald Gardiner'], ['Jack Cosgrove']]\n",
            "[567, 'Rear Window', ['Thriller', 'Mystery'], 'A wheelchair-bound photographer spies on his neighbors from his apartment window and becomes convinced one of them has committed murder.', ['James Stewart', 'Grace Kelly', 'Wendell Corey'], ['Alfred Hitchcock']]\n",
            "[843241, 'The Seven Deadly Sins: Cursed by Light', ['Animation', 'Action'], 'With the help of the \"Dragon Sin of Wrath\" Meliodas and the worst rebels in history, the Seven Deadly Sins, the \"Holy War\", in which four races, including Humans, Goddesses, Fairies and Giants fought against the Demons, is finally over. At the cost of the \"Lion Sin of Pride\" Escanor\\'s life, the Demon King was defeated and the world regained peace. After that, each of the Sins take their own path.', ['Yuki Kaji', 'Sora Amamiya', 'Misaki Kuno'], ['Takayuki Hamana']]\n",
            "[901, 'City Lights', ['Comedy', 'Drama', 'Romance'], 'In this sound-era silent film, a tramp falls in love with a beautiful blind flower seller.', ['Charlie Chaplin', 'Virginia Cherrill', 'Harry Myers'], ['Charles D. Hall']]\n",
            "[527641, 'Five Feet Apart', ['Romance', 'Drama'], \"Seventeen-year-old Stella spends most of her time in the hospital as a cystic fibrosis patient. Her life is full of routines, boundaries and self-control — all of which get put to the test when she meets Will, an impossibly charming teen who has the same illness. There's an instant flirtation, though restrictions dictate that they must maintain a safe distance between them. As their connection intensifies, so does the temptation to throw the rules out the window and embrace that attraction.\", ['Haley Lu Richardson', 'Cole Sprouse', 'Moisés Arias'], ['Walter Spencer']]\n",
            "[128, 'Princess Mononoke', ['Adventure', 'Fantasy', 'Animation'], 'Ashitaka, a prince of the disappearing Emishi people, is cursed by a demonized boar god and must journey to the west to find a cure. Along the way, he encounters San, a young human woman fighting to protect the forest, and Lady Eboshi, who is trying to destroy it. Ashitaka must find a way to bring balance to this conflict.', ['Yōji Matsuda', 'Yuriko Ishida', 'Yūko Tanaka'], ['Hayao Miyazaki']]\n",
            "[157336, 'Interstellar', ['Adventure', 'Drama', 'Science Fiction'], 'The adventures of a group of explorers who make use of a newly discovered wormhole to surpass the limitations on human space travel and conquer the vast distances involved in an interstellar voyage.', ['Matthew McConaughey', 'Anne Hathaway', 'Jessica Chastain'], ['Hans Zimmer']]\n",
            "[27205, 'Inception', ['Action', 'Science Fiction', 'Adventure'], 'Cobb, a skilled thief who commits corporate espionage by infiltrating the subconscious of his targets is offered a chance to regain his old life as payment for a task considered to be impossible: \"inception\", the implantation of another person\\'s idea into a target\\'s subconscious.', ['Leonardo DiCaprio', 'Joseph Gordon-Levitt', 'Ken Watanabe'], ['Hans Zimmer']]\n",
            "[121, 'The Lord of the Rings: The Two Towers', ['Adventure', 'Fantasy', 'Action'], 'Frodo and Sam are trekking to Mordor to destroy the One Ring of Power while Gimli, Legolas and Aragorn search for the orc-captured Merry and Pippin. All along, nefarious wizard Saruman awaits the Fellowship members at the Orthanc Tower in Isengard.', ['Elijah Wood', 'Ian McKellen', 'Liv Tyler'], ['Barrie M. Osborne']]\n",
            "[3082, 'Modern Times', ['Comedy', 'Drama'], 'The Tramp struggles to live in modern industrial society with the help of a young homeless woman.', ['Charlie Chaplin', 'Paulette Goddard', 'Henry Bergman'], ['Charles D. Hall']]\n",
            "[25237, 'Come and See', ['Drama', 'War', 'History'], \"The invasion of a village in Byelorussia by German forces sends young Florya into the forest to join the weary Resistance fighters, against his family's wishes. There he meets a girl, Glasha, who accompanies him back to his village. On returning home, Florya finds his family and fellow peasants massacred. His continued survival amidst the brutal debris of war becomes increasingly nightmarish, a battle between despair and hope.\", ['Aleksei Kravchenko', 'Olga Mironova', 'Liubomiras Laucevicius'], ['Alexey Rodionov']]\n",
            "[807, 'Se7en', ['Crime', 'Mystery', 'Thriller'], 'Two homicide detectives are on a desperate hunt for a serial killer whose crimes are based on the \"seven deadly sins\" in this dark and haunting film that takes viewers from the tortured remains of one victim to the next. The seasoned Det. Sommerset researches each sin in an effort to get inside the killer\\'s mind, while his novice partner, Mills, scoffs at his efforts to unravel the case.', ['Morgan Freeman', 'Brad Pitt', 'Gwyneth Paltrow'], ['Suzanne Smith']]\n",
            "[42269, 'We All Loved Each Other So Much', ['Drama', 'Comedy'], 'Three partisans bound by a strong friendship return home after the war, but the clash with everyday reality puts a strain on their bond.', ['Nino Manfredi', 'Vittorio Gassman', 'Stefania Sandrelli'], ['Agenore Incrocci']]\n",
            "[615457, 'Nobody', ['Action', 'Crime', 'Thriller', 'Drama'], 'Hutch Mansell, a suburban dad, overlooked husband, nothing neighbor — a \"nobody.\" When two thieves break into his home one night, Hutch\\'s unknown long-simmering rage is ignited and propels him on a brutal path that will uncover dark secrets he fought to leave behind.', ['Bob Odenkirk', 'Aleksey Serebryakov', 'Connie Nielsen'], ['Tobey Maguire']]\n",
            "[274, 'The Silence of the Lambs', ['Crime', 'Drama', 'Thriller', 'Horror'], \"Clarice Starling is a top student at the FBI's training academy. Jack Crawford wants Clarice to interview Dr. Hannibal Lecter, a brilliant psychiatrist who is also a violent psychopath, serving life behind bars for various acts of murder and cannibalism. Crawford believes that Lecter may have insight into a case and that Starling, as an attractive young woman, may be just the bait to draw him out.\", ['Jodie Foster', 'Anthony Hopkins', 'Scott Glenn'], ['Howard Shore']]\n",
            "[101, 'Léon: The Professional', ['Crime', 'Drama', 'Action'], 'Léon, the top hit man in New York, has earned a rep as an effective \"cleaner\". But when his next-door neighbors are wiped out by a loose-cannon DEA agent, he becomes the unwilling custodian of 12-year-old Mathilda. Before long, Mathilda\\'s thoughts turn to revenge, and she considers following in Léon\\'s footsteps.', ['Jean Reno', 'Natalie Portman', 'Gary Oldman'], ['Luc Besson']]\n",
            "[207, 'Dead Poets Society', ['Drama'], 'At an elite, old-fashioned boarding school in New England, a passionate English teacher inspires his students to rebel against convention and seize the potential of every day, courting the disdain of the stern headmaster.', ['Robin Williams', 'Ethan Hawke', 'Robert Sean Leonard'], ['Howard Feuer']]\n",
            "[18148, 'Tokyo Story', ['Drama'], \"The elderly Shukishi and his wife, Tomi, take the long journey from their small seaside village to visit their adult children in Tokyo. Their elder son, Koichi, a doctor, and their daughter, Shige, a hairdresser, don't have much time to spend with their aged parents, and so it falls to Noriko, the widow of their younger son who was killed in the war, to keep her in-laws company.\", ['Chishū Ryū', 'Chieko Higashiyama', 'Setsuko Hara'], ['Shōhei Imamura']]\n",
            "[664767, \"Mortal Kombat Legends: Scorpion's Revenge\", ['Animation', 'Action', 'Fantasy'], 'After the vicious slaughter of his family by stone-cold mercenary Sub-Zero, Hanzo Hasashi is exiled to the torturous Netherrealm. There, in exchange for his servitude to the sinister Quan Chi, he’s given a chance to avenge his family – and is resurrected as Scorpion, a lost soul bent on revenge. Back on Earthrealm, Lord Raiden gathers a team of elite warriors – Shaolin monk Liu Kang, Special Forces officer Sonya Blade and action star Johnny Cage – an unlikely band of heroes with one chance to save humanity. To do this, they must defeat Shang Tsung’s horde of Outworld gladiators and reign over the Mortal Kombat tournament.', ['Patrick Seitz', 'Jordan Rodrigues', 'Jennifer Carpenter'], ['Ed Boon']]\n",
            "[313106, 'Doctor Who: The Day of the Doctor', ['Science Fiction', 'Adventure'], \"In 2013, something terrible is awakening in London's National Gallery; in 1562, a murderous plot is afoot in Elizabethan England; and somewhere in space an ancient battle reaches its devastating conclusion. All of reality is at stake as the Doctor's own dangerous past comes back to haunt him.\", ['Matt Smith', 'David Tennant', 'John Hurt'], ['Andy Pryor']]\n",
            "[335, 'Once Upon a Time in the West', ['Drama', 'Western'], 'As the railroad builders advance unstoppably through the Arizona desert on their way to the sea, Jill arrives in the small town of Flagstone with the intention of starting a new life.', ['Claudia Cardinale', 'Henry Fonda', 'Jason Robards'], ['Ennio Morricone']]\n",
            "[16672, 'Woman in the Dunes', ['Drama', 'Thriller'], 'An entomologist suffers extreme psychological and sexual torture after being taken captive by the residents of a poor seaside village.', ['Eiji Okada', 'Kyōko Kishida', 'Ginzô Sekiguchi'], ['Toru Takemitsu']]\n",
            "[975, 'Paths of Glory', ['Drama', 'War'], 'A commanding officer defends three scapegoats on trial for a failed offensive that occurred within the French Army in 1916.', ['Kirk Douglas', 'Ralph Meeker', 'Adolphe Menjou'], ['Stanley Kubrick']]\n",
            "[663558, 'New Gods: Nezha Reborn', ['Animation', 'Action', 'Fantasy'], '3000 years after the boy-god Nezha conquers the Dragon King then disappears in mythological times, he returns as an ordinary man to find his own path to becoming a true hero.', ['Yang Tianxiang', 'Zhang He', 'Xuan Xiaoming'], ['Mu Chuan Chen']]\n",
            "[620683, 'My Mom is a Character 3', ['Comedy'], 'Dona Hermínia will have to rediscover and reinvent herself because her children are forming new families. This supermom will have to deal with a new life scenario: Marcelina is pregnant and Juliano is getting married.', ['Paulo Gustavo', 'Rodrigo Pandolfo', 'Mariana Xavier'], ['Mônica Costa']]\n",
            "[290098, 'The Handmaiden', ['Thriller', 'Drama', 'Romance'], \"1930s Korea, in the period of Japanese occupation, a young woman is hired as a handmaiden to a Japanese heiress who lives a secluded life on a large countryside estate with her domineering uncle, but she's involved in something greater that will soon be revealed.\", ['Kim Min-hee', 'Kim Tae-ri', 'Ha Jung-woo'], ['Park Chan-wook']]\n",
            "[10376, 'The Legend of 1900', ['Drama', 'Music', 'Romance'], 'The story of a virtuoso piano player who lives his entire life aboard an ocean liner. Born and raised on the ship, 1900 (Tim Roth) learned about the outside world through interactions with passengers, never setting foot on land, even for the love of his life. Years later, the ship may be destroyed, and a former band member fears that 1900 may still be aboard, willing to go down with the ship.', ['Tim Roth', 'Pruitt Taylor Vince', 'Mélanie Thierry'], ['Ennio Morricone']]\n",
            "[105, 'Back to the Future', ['Adventure', 'Comedy', 'Science Fiction', 'Family'], \"Eighties teenager Marty McFly is accidentally sent back in time to 1955, inadvertently disrupting his parents' first meeting and attracting his mother's romantic interest. Marty must repair the damage to history by rekindling his parents' romance and - with the help of his eccentric inventor friend Doc Brown - return to 1985.\", ['Michael J. Fox', 'Christopher Lloyd', 'Lea Thompson'], ['Alan Silvestri']]\n",
            "[265177, 'Mommy', ['Drama'], 'A peculiar neighbor offers hope to a recent widow who is struggling to raise a teenager who is unpredictable and, sometimes, violent.', ['Anne Dorval', 'Antoine Olivier Pilon', 'Suzanne Clément'], ['Mike Chute']]\n",
            "[678580, 'El mesero', ['Comedy'], 'A waiter pretends to be an important businessman in order to reach the upper class through his entrepreneurial dreams.', ['Vadhir Derbez', 'Bárbara López', 'Arturo Barba'], ['Raúl Martínez']]\n",
            "[637920, 'Miracle in Cell No. 7', ['Drama', 'Comedy', 'Family'], \"Separated from his daughter, a father with an intellectual disability must prove his innocence when he is jailed for the death of a commander's child.\", ['Aras Bulut İynemli', 'Nisa Sofiya Aksongur', 'İlker Aksum'], ['Kim Woo-taek']]\n",
            "[28, 'Apocalypse Now', ['Drama', 'War'], 'At the height of the Vietnam war, Captain Benjamin Willard is sent on a dangerous mission that, officially, \"does not exist, nor will it ever exist.\" His goal is to locate - and eliminate - a mysterious Green Beret Colonel named Walter Kurtz, who has been leading his personal army on illegal guerrilla missions into enemy territory.', ['Marlon Brando', 'Robert Duvall', 'Martin Sheen'], ['Walter Murch']]\n",
            "[5156, 'Bicycle Thieves', ['Drama'], \"A working man's livelihood is threatened when someone steals his bicycle.\", ['Lamberto Maggiorani', 'Enzo Staiola', 'Lianella Carell'], ['Giuseppe Amato']]\n",
            "[776503, 'CODA', ['Drama', 'Music', 'Romance'], \"As a CODA (Child of Deaf Adults), Ruby is the only hearing person in her deaf family. When the family's fishing business is threatened, Ruby finds herself torn between pursuing her love of music and her fear of abandoning her parents.\", ['Emilia Jones', 'Marlee Matlin', 'Troy Kotsur'], ['Deborah Aquila']]\n",
            "[508965, 'Klaus', ['Animation', 'Family', 'Adventure', 'Comedy'], \"When Jesper distinguishes himself as the Postal Academy's worst student, he is sent to Smeerensburg, a small village located on an icy island above the Arctic Circle, where grumpy inhabitants barely exchange words, let alone letters. Jesper is about to give up and abandon his duty as a postman when he meets local teacher Alva and Klaus, a mysterious carpenter who lives alone in a cabin full of handmade toys.\", ['Jason Schwartzman', 'J.K. Simmons', 'Rashida Jones'], ['Matthew Jon Beck']]\n",
            "[299534, 'Avengers: Endgame', ['Adventure', 'Science Fiction', 'Action'], \"After the devastating events of Avengers: Infinity War, the universe is in ruins due to the efforts of the Mad Titan, Thanos. With the help of remaining allies, the Avengers must assemble once more in order to undo Thanos' actions and restore order to the universe once and for all, no matter what consequences may be in store.\", ['Robert Downey Jr.', 'Chris Evans', 'Mark Ruffalo'], ['Alan Silvestri']]\n",
            "[110420, 'Wolf Children', ['Animation', 'Drama', 'Family', 'Fantasy'], \"After her werewolf lover unexpectedly dies in an accident, a woman must find a way to raise the son and daughter that she had with him. However, their inheritance of their father's traits prove to be a challenge for her.\", ['Haru Kuroki', 'Yukito Nishii', 'Aoi Miyazaki'], ['Shigeru Nishiyama']]\n",
            "[1398, 'Stalker', ['Science Fiction', 'Drama'], 'Near a gray and unnamed city is the Zone, a place guarded by barbed wire and soldiers, and where the normal laws of physics are victim to frequent anomalies. A stalker guides two men into the Zone, specifically to an area in which deep-seated desires are granted.', ['Aleksandr Kaydanovskiy', 'Anatoliy Solonitsyn', 'Nikolay Grinko'], ['Andrei Tarkovsky']]\n",
            "[10494, 'Perfect Blue', ['Animation', 'Thriller'], \"A retired pop singer turned actress' sense of reality is shaken when she is stalked by an obsessed fan and seemingly a ghost of her past.\", ['Junko Iwao', 'Rica Matsumoto', 'Shinpachi Tsuji'], ['Hisao Shirai']]\n",
            "[29259, 'Le Trou', ['Crime', 'Drama', 'Thriller', 'History'], 'Four prison inmates have been hatching a plan to literally dig out of jail when another prisoner, Claude Gaspard, is moved into their cell. They take a risk and share their plan with the newcomer. Over the course of three days, the prisoners and friends break through the concrete floor using a bed post and begin to make their way through the sewer system -- yet their escape is anything but assured.', ['Michel Constantin', 'Jean Keraudy', 'Philippe Leroy'], ['Georges Charlot']]\n",
            "[504253, 'I Want to Eat Your Pancreas', ['Animation', 'Drama', 'Romance', 'Family'], 'Spring time in April and the last of the cherry blossoms are still in bloom. The usually aloof bookworm with no interest in others comes across a book in a hospital waiting room. Handwritten on the cover are the words: \"Living with Dying.\" He soon discovers that it is a diary kept by his very popular and genuinely cheerful classmate, Sakura Yamauchi, who reveals to him that she is secretly suffering from a pancreatic illness and only has a limited time left. It is at this moment that she gains just one more person to share her secret. Trying to maintain a normal life as much as possible, Sakura is determined to live her life to the fullest until the very last day. As her free spirit and unpredictable actions throw him for a loop, his heart begins to gradually change.', ['Mahiro Takasugi', 'Lynn', 'Jun Fukushima'], ['Satoko Sudo']]\n",
            "[797, 'Persona', ['Drama'], 'A young nurse, Alma, is put in charge of Elisabeth Vogler: an actress who is seemingly healthy in all respects, but will not talk. As they spend time together, Alma speaks to Elisabeth constantly, never receiving any answer. The time they spend together only strengthens the crushing realization that one does not exist.', ['Bibi Andersson', 'Liv Ullmann', 'Margaretha Krook'], ['Ingmar Bergman']]\n",
            "[470044, 'The Hate U Give', ['Crime', 'Drama'], \"Raised in a poverty-stricken slum, a 16-year-old girl named Starr now attends a suburban prep school. After she witnesses a police officer shoot her unarmed best friend, she's torn between her two very different worlds as she tries to speak her truth.\", ['Amandla Stenberg', 'Regina Hall', 'Russell Hornsby'], ['Doug Jackson']]\n",
            "[843906, 'Straight Outta Nowhere: Scooby-Doo! Meets Courage the Cowardly Dog', ['Animation', 'Comedy', 'Mystery', 'Family', 'Fantasy'], 'With Mystery, Inc. on the tail of a strange object in Nowhere, Kansas, the strange hometown of Eustice, Muriel, and Courage, the gang soon find themselves contending with a giant cicada monster and her winged warriors.', ['Frank Welker', 'Matthew Lillard', 'Grey DeLisle'], ['Joseph Barbera']]\n",
            "[26451, 'Investigation of a Citizen Above Suspicion', ['Drama', 'Thriller'], 'Rome, Italy. After committing a heinous crime, a senior police officer exposes evidence incriminating him because his moral commitment prevents him from circumventing the law and the social order it protects.', ['Gian Maria Volonté', 'Florinda Bolkan', 'Gianni Santuccio'], ['Ennio Morricone']]\n",
            "[337404, 'Cruella', ['Comedy', 'Crime'], 'In 1970s London amidst the punk rock revolution, a young grifter named Estella is determined to make a name for herself with her designs. She befriends a pair of young thieves who appreciate her appetite for mischief, and together they are able to build a life for themselves on the London streets. One day, Estella’s flair for fashion catches the eye of the Baroness von Hellman, a fashion legend who is devastatingly chic and terrifyingly haute. But their relationship sets in motion a course of events and revelations that will cause Estella to embrace her wicked side and become the raucous, fashionable and revenge-bent Cruella.', ['Emma Stone', 'Emma Thompson', 'Joel Fry'], ['Glenn Close']]\n",
            "[670, 'Oldboy', ['Drama', 'Thriller', 'Mystery', 'Action'], 'With no clue how he came to be imprisoned, drugged and tortured for 15 years, a desperate businessman seeks revenge on his captors.', ['Choi Min-sik', 'Yoo Ji-tae', 'Kang Hye-jung'], ['Park Chan-wook']]\n",
            "[299536, 'Avengers: Infinity War', ['Adventure', 'Action', 'Science Fiction'], 'As the Avengers and their allies have continued to protect the world from threats too large for any one hero to handle, a new danger has emerged from the cosmic shadows: Thanos. A despot of intergalactic infamy, his goal is to collect all six Infinity Stones, artifacts of unimaginable power, and use them to inflict his twisted will on all of reality. Everything the Avengers have fought for has led up to this moment - the fate of Earth and existence itself has never been more uncertain.', ['Robert Downey Jr.', 'Chris Hemsworth', 'Mark Ruffalo'], ['Alan Silvestri']]\n",
            "[77338, 'The Intouchables', ['Drama', 'Comedy'], 'A true story of two men who should never have met – a quadriplegic aristocrat who was injured in a paragliding accident and a young man from the projects.', ['François Cluzet', 'Omar Sy', 'Audrey Fleurot'], ['Olivia Bloch-Lainé']]\n",
            "[1585, \"It's a Wonderful Life\", ['Drama', 'Family', 'Fantasy'], \"A holiday favourite for generations...  George Bailey has spent his entire life giving to the people of Bedford Falls.  All that prevents rich skinflint Mr. Potter from taking over the entire town is George's modest building and loan company.  But on Christmas Eve the business's $8,000 is lost and George's troubles begin.\", ['James Stewart', 'Donna Reed', 'Lionel Barrymore'], ['Frank Capra']]\n",
            "[37257, 'Witness for the Prosecution', ['Drama', 'Mystery', 'Crime'], 'When Leonard Vole is arrested for the sensational murder of a rich, middle-aged widow, the famous Sir Wilfrid Robarts agrees to appear on his behalf. Sir Wilfrid, recovering from a near-fatal heart attack, is supposed to be on a diet of bland, civil suits—but the lure of the criminal courts is too much for him, especially when the case is so difficult.', ['Tyrone Power', 'Marlene Dietrich', 'Charles Laughton'], ['Billy Wilder']]\n",
            "[20532, 'Sansho the Bailiff', ['Drama'], 'In medieval Japan a compassionate governor is sent into exile. His wife and children try to join him, but are separated, and the children grow up amid suffering and oppression.', ['Kinuyo Tanaka', 'Yoshiaki Hanayagi', 'Kyōko Kagawa'], ['Masaichi Nagata']]\n",
            "[422, '8½', ['Fantasy', 'Drama'], 'Guido Anselmi, a film director, finds himself creatively barren at the peak of his career. Urged by his doctors to rest, Anselmi heads for a luxurious resort, but a sorry group gathers—his producer, staff, actors, wife, mistress, and relatives—each one begging him to get on with the show. In retreat from their dependency, he fantasizes about past women and dreams of his childhood.', ['Marcello Mastroianni', 'Claudia Cardinale', 'Anouk Aimée'], ['Nino Rota']]\n",
            "[517814, 'Capernaum', ['Drama'], 'Zain, a 12-year-old boy scrambling to survive on the streets of Beirut, sues his parents for having brought him into such an unjust world, where being a refugee with no documents means that your rights can easily be denied.', ['Zain Al Rafeea', 'Yordanos Shifera', 'Boluwatife Treasure Bankole'], ['Danny Glover']]\n",
            "[490132, 'Green Book', ['Drama', 'Comedy', 'Music'], 'Tony Lip, a bouncer in 1962, is hired to drive pianist Don Shirley on a tour through the Deep South in the days when African Americans, forced to find alternate accommodations and services due to segregation laws below the Mason-Dixon Line, relied on a guide called The Negro Motorist Green Book.', ['Viggo Mortensen', 'Mahershala Ali', 'Linda Cardellini'], ['John Sloss']]\n",
            "[8587, 'The Lion King', ['Family', 'Animation', 'Drama'], 'A young lion prince is cast out of his pride by his cruel uncle, who claims he killed his father. While the uncle rules with an iron paw, the prince grows up beyond the Savannah, living by a philosophy: No worries for the rest of your days. But when his past comes to haunt him, the young prince must decide his fate: Will he remain an outcast or face his demons and become what he needs to be?', ['Matthew Broderick', 'James Earl Jones', 'Jeremy Irons'], ['Mark A. Mangini']]\n",
            "[398818, 'Call Me by Your Name', ['Romance', 'Drama'], \"In 1980s Italy, a relationship begins between seventeen-year-old teenage Elio and the older adult man hired as his father's research assistant.\", ['Timothée Chalamet', 'Armie Hammer', 'Michael Stuhlbarg'], ['James Ivory']]\n",
            "[531428, 'Portrait of a Lady on Fire', ['Drama', 'Romance'], 'On an isolated island in Brittany at the end of the eighteenth century, a female painter is obliged to paint a wedding portrait of a young woman.', ['Noémie Merlant', 'Adèle Haenel', 'Luàna Bajrami'], ['Valérie Deloof']]\n",
            "[550205, 'Wish Dragon', ['Animation', 'Family', 'Comedy', 'Fantasy'], 'Determined teen Din is longing to reconnect with his childhood best friend when he meets a wish-granting dragon who shows him the magic of possibilities.', ['Jimmy Wong', 'John Cho', 'Constance Wu'], ['Aron Warner']]\n",
            "[2457, 'Children of Paradise', ['Drama', 'Romance'], 'Filmed during the German occupation, this French milestone centers around the theatrical life of a beautiful courtesan and the four men who love her. Voted the “Best French Film in History” by the French Film Academy in 1990.', ['Arletty', 'Jean-Louis Barrault', 'Pierre Brasseur'], ['Raymond Borderie']]\n",
            "[158445, 'Miracle in Cell No. 7', ['Drama', 'Comedy', 'Family'], 'A story about a mentally ill man wrongfully accused of murder and his relationship with his lovingly adorable 6 year old daughter.', ['Ryu Seung-ryong', 'Park Shin-hye', 'Kal So-won'], ['Kim Woo-taek']]\n",
            "[550776, 'Believe Me: The Abduction of Lisa McVey', ['Drama', 'TV Movie'], \"On the night she plans on taking her own life, 17-year-old 'Lisa McVey' is kidnapped and finds herself fighting to stay alive and manages to be a victim of rape. She manages to talk her attacker into releasing her, but when she returns home, no one believes her story except for one detective, who suspects she was abducted by a serial killer. Based on horrifying true events.\", ['Katie Douglas', 'David James Elliott', 'Rossif Sutherland'], ['Jim Donovan']]\n",
            "[24188, 'Il Sorpasso', ['Drama', 'Comedy'], 'Roberto, a shy law student in Rome, meets Bruno, a forty-year-old exuberant, capricious man, who takes him for a drive through the Roman and Tuscany countries in the summer. When their journey starts to blend into their daily lives though, the pair’s newfound friendship is tested.', ['Vittorio Gassman', 'Catherine Spaak', 'Jean-Louis Trintignant'], ['Alfio Contini']]\n",
            "[284, 'The Apartment', ['Comedy', 'Drama', 'Romance'], \"Bud Baxter is a minor clerk in a huge New York insurance company, until he discovers a quick way to climb the corporate ladder. He lends out his apartment to the executives as a place to take their mistresses. Although he often has to deal with the aftermath of their visits, one night he's left with a major problem to solve.\", ['Jack Lemmon', 'Shirley MacLaine', 'Fred MacMurray'], ['John Williams']]\n",
            "[490, 'The Seventh Seal', ['Fantasy', 'Drama'], 'When disillusioned Swedish knight Antonius Block returns home from the Crusades to find his country in the grips of the Black Death, he challenges Death to a chess match for his life. Tormented by the belief that God does not exist, Block sets off on a journey, meeting up with traveling players Jof and his wife, Mia, and becoming determined to evade Death long enough to commit one redemptive act while he still lives.', ['Max von Sydow', 'Gunnar Björnstrand', 'Bengt Ekerot'], ['Ingmar Bergman']]\n",
            "[10098, 'The Kid', ['Comedy', 'Drama'], \"A tramp cares for a boy after he's abandoned as a newborn by his mother. Later the mother has a change of heart and aches to be reunited with her son.\", ['Charlie Chaplin', 'Jackie Coogan', 'Edna Purviance'], ['Charles D. Hall']]\n",
            "[518068, 'Along with the Gods: The Last 49 Days', ['Drama', 'Fantasy', 'Action'], 'In the afterlife, one guardian helps a man through his trials, while his two colleagues help a former guardian on earth.', ['Ha Jung-woo', 'Ju Ji-hoon', 'Kim Hyang-gi'], ['Bang Jun-seok']]\n",
            "[11659, 'The Best of Youth', ['Drama', 'History', 'Romance'], 'Spanning nearly four decades, from 1966 to 2003, this generational epic follows the different life paths of two Italian brothers from a middle-class family through some of the most significant events of recent Italian history.', ['Luigi Lo Cascio', 'Alessio Boni', 'Adriana Asti'], ['Roberto Missiroli']]\n",
            "[652722, 'In the Arms of an Assassin', ['Romance', 'Thriller'], 'Victor (William Levy) is one of the world’s most handsome  men, but he has a deep secret – he is a cold blooded assassin. Smooth talking and seductive, Victor was raised to do one thing only, which is to kill for money. When he is sent to the home of a brutal drug lord to collect payment for his most recent hit, he encounters the beautiful Sarai (Alicia Sanz), who has been forced to spend the last 9 years of her life with the drug lord.', ['William Levy', 'Alicia Sanz', 'Roberto Sosa'], ['William Levy']]\n",
            "[694, 'The Shining', ['Horror', 'Thriller'], \"Jack Torrance accepts a caretaker job at the Overlook Hotel, where he, along with his wife Wendy and their son Danny, must live isolated from the rest of the world for the winter. But they aren't prepared for the madness that lurks within.\", ['Jack Nicholson', 'Shelley Duvall', 'Scatman Crothers'], ['Michael Lamont']]\n",
            "[185, 'A Clockwork Orange', ['Science Fiction', 'Drama'], \"In a near-future Britain, young Alexander DeLarge and his pals get their kicks beating and raping anyone they please. When not destroying the lives of others, Alex swoons to the music of Beethoven. The state, eager to crack down on juvenile crime, gives an incarcerated Alex the option to undergo an invasive procedure that'll rob him of all personal agency. In a time when conscience is a commodity, can Alex change his tune?\", ['Malcolm McDowell', 'Patrick Magee', 'Adrienne Corri'], ['Stanley Kubrick']]\n",
            "[354912, 'Coco', ['Family', 'Animation', 'Fantasy', 'Music', 'Comedy', 'Adventure'], \"Despite his family’s baffling generations-old ban on music, Miguel dreams of becoming an accomplished musician like his idol, Ernesto de la Cruz. Desperate to prove his talent, Miguel finds himself in the stunning and colorful Land of the Dead following a mysterious chain of events. Along the way, he meets charming trickster Hector, and together, they set off on an extraordinary journey to unlock the real story behind Miguel's family history.\", ['Anthony Gonzalez', 'Gael García Bernal', 'Benjamin Bratt'], ['Lee Unkrich']]\n",
            "[426, 'Vertigo', ['Mystery', 'Romance', 'Thriller'], \"A retired San Francisco detective suffering from acrophobia investigates the strange activities of an old friend's wife, all the while becoming dangerously obsessed with her.\", ['James Stewart', 'Kim Novak', 'Barbara Bel Geddes'], ['Bernard Herrmann']]\n",
            "[600354, 'The Father', ['Drama'], 'A man refuses all assistance from his daughter as he ages and, as he tries to make sense of his changing circumstances, he begins to doubt his loved ones, his own mind and even the fabric of his reality.', ['Anthony Hopkins', 'Olivia Colman', 'Mark Gatiss'], ['Zygi Kamasa']]\n",
            "[508442, 'Soul', ['Animation', 'Comedy', 'Fantasy', 'Family'], 'Joe Gardner is a middle school teacher with a love for jazz music. After a successful audition at the Half Note Club, he suddenly gets into an accident that separates his soul from his body and is transported to the You Seminar, a center in which souls develop and gain passions before being transported to a newborn child. Joe must enlist help from the other souls-in-training, like 22, a soul who has spent eons in the You Seminar, in order to get back to Earth.', ['Jamie Foxx', 'Tina Fey', 'Graham Norton'], ['Trent Reznor']]\n",
            "[28422, 'Love Exposure', ['Action', 'Comedy', 'Drama', 'Romance'], 'The story of a teenage boy named Yu, who falls for Yoko, a girl he runs into while working as an \"up-skirt\" photographer in an offshoot of the porn industry. His attempts to woo her are complicated by a spot of cross-dressing - which convinces Yoko that she is lesbian - dalliances with kung-fu and crime, and a constant struggle with the guilt that\\'s a legacy of his Catholic upbringing.', ['Takahiro Nishijima', 'Hikari Mitsushima', 'Sakura Ando'], ['Sion Sono']]\n",
            "[785534, 'Paper Lives', ['Drama'], 'In the streets of Istanbul, ailing waste warehouse worker Mehmet takes a small boy under his wing and must soon confront his own traumatic childhood.', ['Çağatay Ulusoy', 'Emir Ali Dogrul', 'Ersin Arıcı'], ['Pelin Ekinci Kaya']]\n",
            "[16869, 'Inglourious Basterds', ['Drama', 'Action', 'Thriller', 'War'], 'In Nazi-occupied France during World War II, a group of Jewish-American soldiers known as \"The Basterds\" are chosen specifically to spread fear throughout the Third Reich by scalping and brutally killing Nazis. The Basterds, lead by Lt. Aldo Raine soon cross paths with a French-Jewish teenage girl who runs a movie theater in Paris which is targeted by the soldiers.', ['Brad Pitt', 'Mélanie Laurent', 'Christoph Waltz'], ['Quentin Tarantino']]\n",
            "[629, 'The Usual Suspects', ['Drama', 'Crime', 'Thriller'], \"Held in an L.A. interrogation room, Verbal Kint attempts to convince the feds that a mythic crime lord, Keyser Soze, not only exists, but was also responsible for drawing him and his four partners into a multi-million dollar heist that ended with an explosion in San Pedro harbor – leaving few survivors. Verbal lures his interrogators with an incredible story of the crime lord's almost supernatural prowess.\", ['Gabriel Byrne', 'Stephen Baldwin', 'Kevin Spacey'], ['Sara Andrews']]\n",
            "[11, 'Star Wars', ['Adventure', 'Action', 'Science Fiction'], 'Princess Leia is captured and held hostage by the evil Imperial forces in their effort to take over the galactic Empire. Venturesome Luke Skywalker and dashing captain Han Solo team together with the loveable robot duo R2-D2 and C-3PO to rescue the beautiful princess and restore peace and justice in the Empire.', ['Mark Hamill', 'Harrison Ford', 'Carrie Fisher'], ['George Lucas']]\n",
            "[992, 'Sherlock Jr.', ['Action', 'Comedy', 'Mystery'], \"A film projectionist longs to be a detective, and puts his meagre skills to work when he is framed by a rival for stealing his girlfriend's father's pocketwatch.\", ['Buster Keaton', 'Kathryn McGuire', 'Joe Keaton'], ['Buster Keaton']]\n",
            "[20914, 'My Friends', ['Comedy'], 'Four middle-aged friends in Florence organize together idle pranks (called zingarate, \"gypsy shenanigans\") in a continuous attempt to prolong childhood during their adult life.', ['Ugo Tognazzi', 'Gastone Moschin', 'Philippe Noiret'], ['Leonardo Benvenuti']]\n",
            "[406997, 'Wonder', ['Drama', 'Family'], 'The story of August Pullman – a boy with facial differences – who enters fifth grade, attending a mainstream elementary school for the first time.', ['Jacob Tremblay', 'Owen Wilson', 'Julia Roberts'], ['Don Burgess']]\n",
            "[77, 'Memento', ['Mystery', 'Thriller'], \"Leonard Shelby is tracking down the man who raped and murdered his wife. The difficulty of locating his wife's killer, however, is compounded by the fact that he suffers from a rare, untreatable form of short-term memory loss. Although he can recall details of life before his accident, Leonard cannot remember what happened fifteen minutes ago, where he's going, or why.\", ['Guy Pearce', 'Carrie-Anne Moss', 'Joe Pantoliano'], ['Christopher Nolan']]\n",
            "[895, 'Andrei Rublev', ['Drama', 'History'], 'An expansive Russian drama, this film focuses on the life of revered religious icon painter Andrei Rublev. Drifting from place to place in a tumultuous era, the peace-seeking monk eventually gains a reputation for his art. But after Rublev witnesses a brutal battle and unintentionally becomes involved, he takes a vow of silence and spends time away from his work. As he begins to ease his troubled soul, he takes steps towards becoming a painter once again.', ['Anatoliy Solonitsyn', 'Ivan Lapikov', 'Nikolay Grinko'], ['Andrei Tarkovsky']]\n",
            "[606856, 'Togo', ['Adventure', 'Family'], 'The untold true story set in the winter of 1925 that takes you across the treacherous terrain of the Alaskan tundra for an exhilarating and uplifting adventure that will test the strength, courage and determination of one man, Leonhard Seppala, and his lead sled dog, Togo.', ['Willem Dafoe', 'Julianne Nicholson', 'Christopher Heyerdahl'], ['Jeanne McCarthy']]\n",
            "[705, 'All About Eve', ['Drama'], \"From the moment she glimpses her idol at the stage door, Eve Harrington is determined to take the reins of power away from the great actress Margo Channing. Eve maneuvers her way into Margo's Broadway role, becomes a sensation and even causes turmoil in the lives of Margo's director boyfriend, her playwright and his wife. Only the cynical drama critic sees through Eve, admiring her audacity and perfect pattern of deceit.\", ['Bette Davis', 'Anne Baxter', 'George Sanders'], ['Lyle R. Wheeler']]\n",
            "[11878, 'Yojimbo', ['Drama', 'Thriller'], 'A nameless ronin, or samurai with no master, enters a small village in feudal Japan where two rival businessmen are struggling for control of the local gambling trade. Taking the name Sanjuro Kuwabatake, the ronin convinces both silk merchant Tazaemon and sake merchant Tokuemon to hire him as a personal bodyguard, then artfully sets in motion a full-scale gang war between the two ambitious and unscrupulous men.', ['Toshirō Mifune', 'Tatsuya Nakadai', 'Yôko Tsukasa'], ['Akira Kurosawa']]\n",
            "[1124, 'The Prestige', ['Drama', 'Mystery', 'Thriller'], 'A mysterious story of two magicians whose intense rivalry leads them on a life-long battle for supremacy -- full of obsession, deceit and jealousy with dangerous and deadly consequences.', ['Christian Bale', 'Hugh Jackman', 'Michael Caine'], ['Christopher Nolan']]\n",
            "[103, 'Taxi Driver', ['Crime', 'Drama'], 'A mentally unstable Vietnam War veteran works as a night-time taxi driver in New York City where the perceived decadence and sleaze feed his urge for violent action, attempting to save a preadolescent prostitute in the process.', ['Robert De Niro', 'Jodie Foster', 'Albert Brooks'], ['Bernard Herrmann']]\n",
            "[638507, 'How to Train Your Dragon: Homecoming', ['Animation', 'Fantasy', 'Adventure', 'Action', 'Family'], \"It's been ten years since the dragons moved to the Hidden World, and even though Toothless doesn't live in New Berk anymore, Hiccup continues the holiday traditions he once shared with his best friend. But the Vikings of New Berk were beginning to forget about their friendship with dragons. Hiccup, Astrid, and Gobber know just what to do to keep the dragons in the villagers' hearts. And across the sea, the dragons have a plan of their own...\", ['Jay Baruchel', 'America Ferrera', 'Gerard Butler'], ['Tim Johnson']]\n",
            "[857, 'Saving Private Ryan', ['Drama', 'History', 'War'], 'As U.S. troops storm the beaches of Normandy, three brothers lie dead on the battlefield, with a fourth trapped behind enemy lines. Ranger captain John Miller and seven men are tasked with penetrating German-held territory and bringing the boy home.', ['Tom Hanks', 'Tom Sizemore', 'Edward Burns'], ['John Williams']]\n",
            "[19, 'Metropolis', ['Drama', 'Science Fiction'], \"In a futuristic city sharply divided between the working class and the city planners, the son of the city's mastermind falls in love with a working class prophet who predicts the coming of a savior to mediate their differences.\", ['Gustav Fröhlich', 'Brigitte Helm', 'Alfred Abel'], ['Erich Pommer']]\n",
            "[98, 'Gladiator', ['Action', 'Drama', 'Adventure'], \"In the year 180, the death of emperor Marcus Aurelius throws the Roman Empire into chaos.  Maximus is one of the Roman army's most capable and trusted generals and a key advisor to the emperor.  As Marcus' devious son Commodus ascends to the throne, Maximus is set to be executed.  He escapes, but is captured by slave traders.  Renamed Spaniard and forced to become a gladiator, Maximus must battle to the death with other men for the amusement of paying audiences.\", ['Russell Crowe', 'Joaquin Phoenix', 'Connie Nielsen'], ['Hans Zimmer']]\n",
            "[996, 'Double Indemnity', ['Crime', 'Drama', 'Mystery', 'Thriller'], 'A rich woman and a calculating insurance agent plot to kill her unsuspecting husband after he signs a double indemnity policy. Against a backdrop of distinctly Californian settings, the partners in crime plan the perfect murder to collect the insurance, which pays double if the death is accidental.', ['Fred MacMurray', 'Barbara Stanwyck', 'Edward G. Robinson'], ['Billy Wilder']]\n",
            "[548, 'Rashomon', ['Crime', 'Drama', 'Mystery'], 'Brimming with action while incisively examining the nature of truth, \"Rashomon\" is perhaps the finest film ever to investigate the philosophy of justice. Through an ingenious use of camera and flashbacks, Kurosawa reveals the complexities of human nature as four people recount different versions of the story of a man\\'s murder and the rape of his wife.', ['Toshirō Mifune', 'Machiko Kyō', 'Takashi Shimura'], ['Akira Kurosawa']]\n",
            "[439, 'La Dolce Vita', ['Comedy', 'Drama'], \"Journalist and man-about-town Marcello struggles to find his place in the world, torn between the allure of Rome's elite social scene and the stifling domesticity offered by his girlfriend, all the while searching for a way to become a serious writer.\", ['Marcello Mastroianni', 'Anita Ekberg', 'Anouk Aimée'], ['Nino Rota']]\n",
            "[11324, 'Shutter Island', ['Drama', 'Thriller', 'Mystery'], 'World War II soldier-turned-U.S. Marshal Teddy Daniels investigates the disappearance of a patient from a hospital for the criminally insane, but his efforts are compromised by his troubling visions and also by a mysterious doctor.', ['Leonardo DiCaprio', 'Mark Ruffalo', 'Ben Kingsley'], ['Robert Richardson']]\n",
            "[872, \"Singin' in the Rain\", ['Comedy', 'Music', 'Romance'], 'In 1927 Hollywood, a silent film production company and cast make a difficult transition to sound.', ['Gene Kelly', \"Donald O'Connor\", 'Debbie Reynolds'], ['Sydney Guilaroff']]\n",
            "[100, 'Lock, Stock and Two Smoking Barrels', ['Comedy', 'Crime'], 'A card shark and his unwillingly-enlisted friends need to make a lot of cash quick after losing a sketchy poker match. To do this they decide to pull a heist on a small-time gang who happen to be operating out of the flat next door.', ['Jason Flemyng', 'Dexter Fletcher', 'Nick Moran'], ['John Murphy']]\n",
            "[50014, 'The Help', ['Drama'], 'Aibileen Clark is a middle-aged African-American maid who has spent her life raising white children and has recently lost her only son; Minny Jackson is an African-American maid who has often offended her employers despite her family\\'s struggles with money and her desperate need for jobs; and Eugenia \"Skeeter\" Phelan is a young white woman who has recently moved back home after graduating college to find out her childhood maid has mysteriously disappeared. These three stories intertwine to explain how life in Jackson, Mississippi revolves around \"the help\"; yet they are always kept at a certain distance because of racial lines.', ['Emma Stone', 'Viola Davis', 'Octavia Spencer'], ['Thomas Newman']]\n",
            "[475557, 'Joker', ['Crime', 'Thriller', 'Drama'], 'During the 1980s, a failed stand-up comedian is driven insane and turns to a life of crime and chaos in Gotham City while becoming an infamous psychopathic crime figure.', ['Joaquin Phoenix', 'Robert De Niro', 'Zazie Beetz'], ['Scott Silver']]\n",
            "[666, 'Central Station', ['Drama'], 'An emotive journey of a former school teacher, who writes letters for illiterate people, and a young boy, whose mother has just died, as they search for the father he never knew.', ['Fernanda Montenegro', 'Vinícius de Oliveira', 'Marília Pêra'], ['Robert Redford']]\n",
            "[437068, 'A Taxi Driver', ['Action', 'Drama', 'History'], 'May, 1980. Man-seob is a taxi driver in Seoul who lives from hand to mouth, raising his young daughter alone. One day, he hears that there is a foreigner who will pay big money for a drive down to Gwangju city. Not knowing that he’s a German journalist with a hidden agenda, Man-seob takes the job.', ['Song Kang-ho', 'Thomas Kretschmann', 'Yoo Hae-jin'], ['Kim Sang-bum']]\n",
            "[133919, 'Scenes from a Marriage', ['Drama', 'Romance'], \"Johan and Marianne are married and seem to have it all. Their happiness, however, is a façade for a troubled relationship, which becomes even rockier when Johan admits that he's having an affair. Before long, the spouses separate and move towards finalizing their divorce, but they make attempts at reconciling. Even as they pursue other relationships, Johan and Marianne realize that they have a significant bond, but also many issues that hinder that connection.\", ['Liv Ullmann', 'Erland Josephson', 'Bibi Andersson'], ['Ingmar Bergman']]\n",
            "[24382, 'Big Deal on Madonna Street', ['Comedy', 'Crime'], \"Best friends Peppe and Mario are thieves, but they're not very good at it. Still, Peppe thinks that he's finally devised a master heist that will make them rich. With the help of some fellow criminals, he plans to dig a tunnel from a rented apartment to the pawnshop next door, where they can rob the safe. But his plan is far from foolproof, and the fact that no one in the group has any experience digging tunnels proves to be the least of their problems.\", ['Vittorio Gassman', 'Marcello Mastroianni', 'Renato Salvatori'], ['Franco Cristaldi']]\n",
            "[610461, 'Veinteañera, Divorciada y Fantástica', ['Comedy'], 'Regina, our young protagonist, always dreamed of getting married. And she did it - but the dream lasted much less than she thought and now she has to face life in a very funny way as a divorcee.', ['Paulina Goto', 'Jesús Zavala', 'Vadhir Derbez'], ['Naomi Crespo']]\n",
            "[603, 'The Matrix', ['Action', 'Science Fiction'], 'Set in the 22nd century, The Matrix tells the story of a computer hacker who joins a group of underground insurgents fighting the vast and powerful computers who now rule the earth.', ['Keanu Reeves', 'Laurence Fishburne', 'Carrie-Anne Moss'], ['Barrie M. Osborne']]\n",
            "[289, 'Casablanca', ['Drama', 'Romance'], 'In Casablanca, Morocco in December 1941, a cynical American expatriate meets a former lover, with unforeseen complications.', ['Humphrey Bogart', 'Ingrid Bergman', 'Paul Henreid'], ['Arthur Edeson']]\n",
            "[324786, 'Hacksaw Ridge', ['Drama', 'History', 'War'], 'WWII American Army Medic Desmond T. Doss, who served during the Battle of Okinawa, refuses to kill people and becomes the first Conscientious Objector in American history to receive the Congressional Medal of Honor.', ['Andrew Garfield', 'Sam Worthington', 'Vince Vaughn'], ['Lawrence Bender']]\n",
            "[3780, 'Red Beard', ['Drama'], 'Aspiring to an easy job as personal physician to a wealthy family, Noboru Yasumoto is disappointed when his first post after medical school takes him to a small country clinic under the gruff doctor Red Beard. Yasumoto rebels in numerous ways, but Red Beard proves a wise and patient teacher. He gradually introduces his student to the unglamorous side of the profession, ultimately assigning him to care for a prostitute rescued from a local brothel.', ['Toshirō Mifune', 'Yûzô Kayama', 'Tsutomu Yamazaki'], ['Akira Kurosawa']]\n",
            "[411088, 'The Invisible Guest', ['Drama', 'Mystery', 'Thriller'], 'Barcelona, Spain. Adrián Doria, a young and successful businessman accused of murder, meets one night with Virginia Goodman, an expert interrogation lawyer, in order to devise a defense strategy.', ['Mario Casas', 'Ana Wagener', 'Jose Coronado'], ['Albert Manera']]\n",
            "[21634, 'Prayers for Bobby', ['Drama', 'History', 'TV Movie'], \"Bobby Griffith was his mother's favorite son, the perfect all-American boy growing up under deeply religious influences in Walnut Creek, California. Bobby was also gay. Struggling with a conflict no one knew of, much less understood, Bobby finally came out to his family.\", ['Ryan Kelley', 'Sigourney Weaver', 'Henry Czerny'], ['Victor Du Bois']]\n",
            "[1422, 'The Departed', ['Drama', 'Thriller', 'Crime'], \"To take down South Boston's Irish Mafia, the police send in one of their own to infiltrate the underworld, not realizing the syndicate has done likewise. While an undercover cop curries favor with the mob kingpin, a career criminal rises through the police ranks. But both sides soon discover there's a mole among them.\", ['Jack Nicholson', 'Leonardo DiCaprio', 'Matt Damon'], ['Howard Shore']]\n",
            "[239, 'Some Like It Hot', ['Comedy', 'Music', 'Romance', 'Crime'], 'Two musicians witness a mob hit and struggle to find a way out of the city before they are found by the gangsters. Their only opportunity is to join an all-girl band as they leave on a tour. To make their getaway they must first disguise themselves as women, then keep their identities secret and deal with the problems this brings - such as an attractive bandmate and a very determined suitor.', ['Marilyn Monroe', 'Tony Curtis', 'Jack Lemmon'], ['Billy Wilder']]\n",
            "[111, 'Scarface', ['Action', 'Crime', 'Drama', 'Thriller'], 'After getting a green card in exchange for assassinating a Cuban government official, Tony Montana stakes a claim on the drug trade in Miami. Viciously murdering anyone who stands in his way, Tony eventually becomes the biggest drug lord in the state, controlling nearly all the cocaine that comes through Miami. But increased pressure from the police, wars with Colombian drug cartels and his own drug-fueled paranoia serve to fuel the flames of his eventual downfall.', ['Al Pacino', 'Steven Bauer', 'Michelle Pfeiffer'], ['Gerald B. Greenberg']]\n",
            "[614, 'Wild Strawberries', ['Drama'], \"Crotchety retired doctor Isak Borg travels from Stockholm to Lund, Sweden, with his pregnant and unhappy daughter-in-law, Marianne, in order to receive an honorary degree from his alma mater. Along the way, they encounter a series of hitchhikers, each of whom causes the elderly doctor to muse upon the pleasures and failures of his own life. These include the vivacious young Sara, a dead ringer for the doctor's own first love.\", ['Ingrid Thulin', 'Bibi Andersson'], ['Katinka Faragó']]\n",
            "[92060, \"Michael Jackson's Thriller\", ['Horror', 'Music'], 'A night at the movies turns into a nightmare when Michael and his date are attacked by a hoard of bloody-thirsty zombies.', ['Michael Jackson', 'Ola Ray', 'Vincent Price'], ['John Landis']]\n",
            "[5801, 'Pather Panchali', ['Drama'], \"Impoverished priest Harihar Ray, dreaming of a better life for himself and his family, leaves his rural Bengal village in search of work. Alone, his wife, Sarbojaya, looks after her rebellious daughter, Durga, and her young son, Apu, as well as Harihar's elderly aunt Indir. The children enjoy the small pleasures of their difficult life, while their parents suffer the daily indignities heaped upon them.\", ['Subir Banerjee', 'Uma Das Gupta', 'Karuna Banerjee'], ['Satyajit Ray']]\n",
            "[500, 'Reservoir Dogs', ['Crime', 'Thriller'], 'A botched robbery indicates a police informant, and the pressure mounts in the aftermath at a warehouse. Crime begets violence as the survivors -- veteran Mr. White, newcomer Mr. Orange, psychopathic parolee Mr. Blonde, bickering weasel Mr. Pink and Nice Guy Eddie -- unravel.', ['Harvey Keitel', 'Tim Roth', 'Michael Madsen'], ['Quentin Tarantino']]\n",
            "[426618, 'Where Hands Touch', ['War', 'Drama', 'Romance'], 'Germany, 1944. Leyna, the 15-year old daughter of a white German mother and a black African father, meets Lutz, a compassionate member of the Hitler Youth whose father is a prominent Nazi soldier, and they form an unlikely connection in this quickly changing world.', ['Amandla Stenberg', 'George MacKay', 'Abbie Cornish'], ['Remi Adefarasin']]\n",
            "[55823, 'The Great War', ['Drama', 'Comedy', 'War'], 'Italy, 1916. Oreste Jacovacci and Giovanni Busacca are called, as all the Italian youths, to serve the army in the WWI. They both try in every way to avoid serving the army.', ['Alberto Sordi', 'Vittorio Gassman', 'Bernard Blier'], ['Nino Rota']]\n",
            "[9764, 'Dersu Uzala', ['Action', 'Adventure', 'Drama'], 'A military explorer meets and befriends a Goldi man in Russia’s unmapped forests. A deep and abiding bond evolves between the two men, one civilized in the usual sense, the other at home in the glacial Siberian woods.', ['Yuriy Solomin', 'Maksim Munzuk', 'Mikhail Bychkov'], ['Akira Kurosawa']]\n",
            "[568160, 'Weathering with You', ['Fantasy', 'Animation', 'Romance', 'Drama'], 'The summer of his high school freshman year, Hodaka runs away from his remote island home to Tokyo, and quickly finds himself pushed to his financial and personal limits. The weather is unusually gloomy and rainy every day, as if taking its cue from his life. After many days of solitude, he finally finds work as a freelance writer for a mysterious occult magazine. Then, one day, Hodaka meets Hina on a busy street corner. This bright and strong-willed girl possesses a strange and wonderful ability: the power to stop the rain and clear the sky.', ['Kotaro Daigo', 'Nana Mori', 'Tsubasa Honda'], ['Hiroshi Katou']]\n",
            "[935, 'Dr. Strangelove', ['Drama', 'Comedy', 'War'], 'After the insane General Jack D. Ripper initiates a nuclear strike on the Soviet Union, a war room full of politicians, generals and a Russian diplomat all frantically try to stop the nuclear strike.', ['Peter Sellers', 'George C. Scott', 'Sterling Hayden'], ['Gilbert Taylor']]\n",
            "[42229, 'A Special Day', ['Drama', 'Romance'], 'The film is set during the late 1930s: the occasion is the first meeting between Mussolini and Hitler. Left alone in her tenement home when her fascist husband runs off to attend the historic event, Antonietta strikes up a friendship with her neighbor Gabriele. As the day segues into night, Antonietta and Gabriele develop a very special relationship that will radically alter both of their outlooks on life.', ['Sophia Loren', 'Marcello Mastroianni', 'John Vernon'], ['Carlo Ponti']]\n",
            "[654299, 'Out Of The Clear Blue Sky', ['Comedy', 'Drama', 'Music'], 'Returning to Earth as an imitator, the legendary Mexican artist Pedro Infante must prove that he is no longer a womanizer to enter paradise.', ['Omar Chaparro', 'Ana Claudia Talancón', 'Stephanie Cayo'], ['Pepe Bojórquez']]\n",
            "[600, 'Full Metal Jacket', ['Drama', 'War'], 'A pragmatic U.S. Marine observes the dehumanizing effects the U.S.-Vietnam War has on his fellow recruits from their brutal boot camp training to the bloody street fighting in Hue.', ['Matthew Modine', 'Adam Baldwin', \"Vincent D'Onofrio\"], ['Stanley Kubrick']]\n",
            "[655, 'Paris, Texas', ['Drama'], 'A man wanders out of the desert not knowing who he is. His brother finds him, and helps to pull his memory back of the life he led before he walked out on his family and disappeared four years earlier.', ['Harry Dean Stanton', 'Nastassja Kinski', 'Dean Stockwell'], ['Allison Anders']]\n",
            "[489, 'Good Will Hunting', ['Drama'], 'Will Hunting has a genius-level IQ but chooses to work as a janitor at MIT. When he solves a difficult graduate-level math problem, his talents are discovered by Professor Gerald Lambeau, who decides to help the misguided youth reach his potential. When Will is arrested for attacking a police officer, Professor Lambeau makes a deal to get leniency for him if he will get treatment from therapist Sean Maguire.', ['Matt Damon', 'Robin Williams', 'Ben Affleck'], ['Lawrence Bender']]\n",
            "[68718, 'Django Unchained', ['Drama', 'Western'], 'With the help of a German bounty hunter, a freed slave sets out to rescue his wife from a brutal Mississippi plantation owner.', ['Jamie Foxx', 'Christoph Waltz', 'Leonardo DiCaprio'], ['Robert Rodriguez']]\n",
            "[115929, \"Cool Kids Don't Cry\", ['Romance', 'Drama', 'Family'], \"Adaptation of one of Benelux most famous children's novels. Tough prime school girl Akkie loves soccer and can be a real bully. Love is the only thing she's scared of. When Akkie is diagnosed with Leukemia, she has to fight for her life. On the verge of going to high school, Akkie has to allow love to enter her life, and thus gain courage to accept the inevitable.\", ['Hanna Obbeek', 'Nils Verkooijen', 'Fiona Livingston'], ['Janusz Gosschalk']]\n",
            "[149871, 'The Tale of The Princess Kaguya', ['Animation', 'Drama', 'Fantasy'], 'Found inside a shining stalk of bamboo by an old bamboo cutter and his wife, a tiny girl grows rapidly into an exquisite young lady. The mysterious young princess enthrals all who encounter her. But, ultimately, she must confront her fate, the punishment for her crime.', ['Aki Asakura', 'Kengo Kora', 'Takeo Chii'], ['Isao Takahata']]\n",
            "[81481, 'Silenced', ['Drama'], 'Based on actual events that took place at Gwangju Inhwa School for the hearing-impaired, where young deaf students were the victims of repeated sexual assaults by faculty members over a period of five years in the early 2000s.', ['Gong Yoo', 'Jung Yu-mi', 'Kim Hyun-soo'], ['Bae Jeong-min']]\n",
            "[20530, 'Late Spring', ['Drama'], \"Noriko is perfectly happy living at home with her widowed father, Shukichi, and has no plans to marry -- that is, until her aunt Masa convinces Shukichi that unless he marries off his 27-year-old daughter soon, she will likely remain alone for the rest of her life. When Noriko resists Masa's matchmaking, Shukichi is forced to deceive his daughter and sacrifice his own happiness to do what he believes is right.\", ['Chishū Ryū', 'Setsuko Hara', 'Yumeji Tsukioka'], ['Yasujirō Ozu']]\n",
            "[348, 'Alien', ['Horror', 'Science Fiction'], 'During its return to the earth, commercial spaceship Nostromo intercepts a distress signal from a distant planet. When a three-member team of the crew discovers a chamber containing thousands of eggs on the planet, a creature inside one of the eggs attacks an explorer. The entire crew is unaware of the impending nightmare set to descend upon them when the alien parasite planted inside its unfortunate host is birthed.', ['Sigourney Weaver', 'Tom Skerritt', 'John Hurt'], ['Ridley Scott']]\n",
            "[449176, 'Love, Simon', ['Comedy', 'Drama', 'Romance'], \"Everyone deserves a great love story. But for seventeen-year old Simon Spier it's a little more complicated: he's yet to tell his family or friends he's gay and he doesn't know the identity of the anonymous classmate he's fallen for online.\", ['Nick Robinson', 'Jennifer Garner', 'Josh Duhamel'], ['Denise Chamian']]\n",
            "[1396, 'Mirror', ['Drama', 'History'], 'A dying man in his forties recalls his childhood, his mother, the war and personal moments that tell of and juxtapose pivotal moments in Soviet history with daily life.', ['Margarita Terekhova', 'Ignat Daniltsev', 'Larisa Tarkovskaya'], ['Andrei Tarkovsky']]\n",
            "[832, 'M', ['Drama', 'Action', 'Thriller', 'Crime'], \"In this classic German thriller, Hans Beckert, a serial killer who preys on children, becomes the focus of a massive Berlin police manhunt. Beckert's heinous crimes are so repellant and disruptive to city life that he is even targeted by others in the seedy underworld network. With both cops and criminals in pursuit, the murderer soon realizes that people are on his trail, sending him into a tense, panicked attempt to escape justice.\", ['Peter Lorre', 'Ellen Widmann', 'Inge Landgut'], ['Fritz Lang']]\n",
            "[19542, 'The Red Shoes', ['Drama', 'Romance'], 'In this classic drama, Vicky Page is an aspiring ballerina torn between her dedication to dance and her desire to love. While her imperious instructor, Boris Lermontov, urges to her to forget anything but ballet, Vicky begins to fall for the charming young composer Julian Craster. Eventually Vicky, under great emotional stress, must choose to pursue either her art or her romance, a decision that carries serious consequences.', ['Moira Shearer', 'Adolf Wohlbrück', 'Marius Goring'], ['Jack Cardiff']]\n",
            "[522518, \"A Dog's Journey\", ['Family', 'Adventure', 'Drama'], 'A dog finds the meaning of his own existence through the lives of the humans he meets.', ['Marg Helgenberger', 'Betty Gilpin', 'Henry Lau'], ['Eric Fraser']]\n",
            "[334543, 'Lion', ['Drama'], 'A five-year-old Indian boy gets lost on the streets of Calcutta, thousands of kilometers from home. He survives many challenges before being adopted by a couple in Australia; 25 years later, he sets out to find his lost family.', ['Dev Patel', 'Rooney Mara', 'David Wenham'], ['Bob Weinstein']]\n",
            "[12445, 'Harry Potter and the Deathly Hallows: Part 2', ['Fantasy', 'Adventure'], \"Harry, Ron and Hermione continue their quest to vanquish the evil Voldemort once and for all. Just as things begin to look hopeless for the young wizards, Harry discovers a trio of magical objects that endow him with powers to rival Voldemort's formidable skills.\", ['Daniel Radcliffe', 'Rupert Grint', 'Emma Watson'], ['Alexandre Desplat']]\n",
            "[359940, 'Three Billboards Outside Ebbing, Missouri', ['Crime', 'Drama'], \"After seven months have passed without a culprit in her daughter's murder case, Mildred Hayes makes a bold move, painting three signs leading into her town with a controversial message directed at Bill Willoughby, the town's revered chief of police. When his second-in-command Officer Jason Dixon, an immature mother's boy with a penchant for violence, gets involved, the battle between Mildred and Ebbing's law enforcement is only exacerbated.\", ['Frances McDormand', 'Sam Rockwell', 'Lucas Hedges'], ['Peter Kohn']]\n",
            "[472454, 'Ayla: The Daughter of War', ['Drama', 'War', 'History'], \"In 1950, amidst the ravages of the Korean War, Sergeant Süleyman stumbles upon a a half-frozen little girl, with no parents and no help in sight. Frantic, scared and on the verge of death, this little girl captures the heart of Süleyman, who risks his own life to save her, smuggling her into his Army base and out of harms way. Not knowing her name and unable to communicate with her, Süleyman names her Ayla, in reminiscence of the moon on the fateful night during which they met. The two form an instantaneous and inseparable bond, and Ayla, almost effortlessly, brings an uncanny joy to the Turkish brigade in the grip of war. As the war comes to a close however, Süleyman's brigade is told that they will be returning home. Süleyman cannot bear abandoning Ayla, and does everything within his power to take her with him. After repeated failure, he is forced to give Ayla to an orphanage, but doesn't give up on the hope of one day reuniting with her. Will the two ever get back together?\", ['İsmail Hacıoğlu', 'Kim Seol', 'Ali Atay'], ['Fahir Atakoğlu']]\n",
            "[55960, 'Toto, Peppino, and the Hussy', ['Comedy'], 'Antonio, Peppino and Lucia are three brothers who live in the country near Naples. Lucia\\'s son, Gianni, goes to Naples to study medicine, but there he knows a ballet dancer. They fall in love and, when she goes to Milan, Gianni follows her. Informed of this and afraid that their nephew will stop studying, the three Caponi brothers leave for Milan to persuade Gianni to come back and continue studying and abandon the \"Malafemmina\" (bad girl).', ['Totò', 'Peppino De Filippo', 'Dorian Gray'], ['Sandro Continenza']]\n",
            "[103663, 'The Hunt', ['Drama'], 'A teacher lives a lonely life, all the while struggling over his son’s custody. His life slowly gets better as he finds love and receives good news from his son, but his new luck is about to be brutally shattered by an innocent little lie.', ['Mads Mikkelsen', 'Thomas Bo Larsen', 'Annika Wedderkopp'], ['Manon Rasmussen']]\n",
            "[397567, 'Along with the Gods: The Two Worlds', ['Drama', 'Fantasy', 'Action'], 'Having died unexpectedly, firefighter Ja-hong is taken to the afterlife by 3 afterlife guardians. Only when he passes 7 trials over 49 days and proves he was innocent in human life, he’s able to reincarnate, and his 3 afterlife guardians are by his side to defend him in trial.', ['Ha Jung-woo', 'Cha Tae-hyun', 'Ju Ji-hoon'], ['Bang Jun-seok']]\n",
            "[7345, 'There Will Be Blood', ['Drama'], \"Ruthless silver miner, turned oil prospector, Daniel Plainview, moves to oil-rich California. Using his son to project a trustworthy, family-man image, Plainview cons local landowners into selling him their valuable properties for a pittance. However, local preacher Eli Sunday suspects Plainview's motives and intentions, starting a slow-burning feud that threatens both their lives.\", ['Daniel Day-Lewis', 'Paul Dano', \"Kevin J. O'Connor\"], ['Dylan Tichenor']]\n",
            "[843, 'In the Mood for Love', ['Drama', 'Romance'], 'Hong Kong, 1962: Chow Mo-Wan (Tony Leung Chiu Wai) and Su Li-Zhen (Maggie Cheung Man Yuk) move into neighboring apartments on the same day. Their encounters are formal and polite—until a discovery about their spouses creates an intimate bond between them.', ['Tony Leung Chiu-wai', 'Maggie Cheung', 'Rebecca Pan'], ['Christopher Doyle']]\n",
            "[632322, 'All My Life', ['Romance', 'Drama'], 'It was a chance meeting started by one of Sol’s friends trying to chat up Jennifer. However, in the end, it was those two who hit it off. Sol enjoyed Jen’s smile, her effort, and how silly she could be. Jen enjoyed Sol’s cooking, his athleticism, and that he would join her in fun moments. As you can imagine, love bloomed, and things got serious. Jen’s investment in Sol led to her pushing him to follow his dreams and even move in to save money. Sol’s investment in Jen well, it led to him proposing. But what started as a liver tumor grew into full-on cancer, so with a diagnosis of 6 months to live, Sol and Jennifer try to make the best of it.', ['Jessica Rothe', 'Harry Shum Jr.', 'Michael Masini'], ['David Moritz']]\n",
            "[14696, 'Ugetsu', ['Fantasy', 'Drama', 'Mystery'], \"In 16th century Japan, peasants Genjuro and Tobei sell their earthenware pots to a group of soldiers in a nearby village, in defiance of a local sage's warning against seeking to profit from warfare. Genjuro's pursuit of both riches and the mysterious Lady Wakasa, as well as Tobei's desire to become a samurai, run the risk of destroying both themselves and their wives, Miyagi and Ohama.\", ['Machiko Kyō', 'Mitsuko Mito', 'Kinuyo Tanaka'], ['Masaichi Nagata']]\n",
            "[37165, 'The Truman Show', ['Comedy', 'Drama'], 'Truman Burbank is the star of The Truman Show, a 24-hour-a-day reality TV show that broadcasts every aspect of his life without his knowledge. His entire life has been an unending soap opera for consumption by the rest of the world. And everyone he knows, including his wife and his best friend is really an actor, paid to be part of his life.', ['Jim Carrey', 'Laura Linney', 'Noah Emmerich'], ['Nancy Haigh']]\n",
            "[800, 'The Young and the Damned', ['Crime', 'Drama'], 'A group of juvenile delinquents lives a criminal, violent life in the festering slums of Mexico City, among them the young Pedro, whose morality is gradually corrupted and destroyed by the others.', ['Alfonso Mejía', 'Estela Inda', 'Efraín Arauz'], ['Luis Buñuel']]\n",
            "[339877, 'Loving Vincent', ['Animation', 'Drama', 'Mystery', 'History'], 'The film brings the paintings of Vincent van Gogh to life to tell his remarkable story. Every one of the 65,000 frames of the film is an oil-painting hand-painted by 125 professional oil-painters who travelled from all across the world to the Loving Vincent studios in Poland and Greece to be a part of the production. As remarkable as Vincent’s brilliant paintings are his passionate and ill-fated life and mysterious death.', ['Douglas Booth', 'Eleanor Tomlinson', 'Robert Gulaczyk'], ['Sallie Jaye']]\n",
            "[780, 'The Passion of Joan of Arc', ['Drama', 'History'], \"A classic of the silent age, this film tells the story of the doomed but ultimately canonized 15th-century teenage warrior. On trial for claiming she'd spoken to God, Jeanne d'Arc is subjected to inhumane treatment and scare tactics at the hands of church court officials. Initially bullied into changing her story, Jeanne eventually opts for what she sees as the truth. Her punishment, a famously brutal execution, earns her perpetual martyrdom.\", ['Maria Falconetti', 'Eugène Silvain', 'André Berley'], ['Rudolph Maté']]\n",
            "[147, 'The 400 Blows', ['Drama'], 'For young Parisian boy Antoine Doinel, life is one difficult situation after another. Surrounded by inconsiderate adults, including his neglectful parents, Antoine spends his days with his best friend, Rene, trying to plan for a better life. When one of their schemes goes awry, Antoine ends up in trouble with the law, leading to even more conflicts with unsympathetic authority figures.', ['Jean-Pierre Léaud', 'Claire Maurier', 'Albert Rémy'], ['François Truffaut']]\n",
            "[515001, 'Jojo Rabbit', ['Comedy', 'War', 'Drama'], 'A World War II satire that follows a lonely German boy whose world view is turned upside down when he discovers his single mother is hiding a young Jewish girl in their attic. Aided only by his idiotic imaginary friend, Adolf Hitler, Jojo must confront his blind nationalism.', ['Roman Griffin Davis', 'Thomasin McKenzie', 'Scarlett Johansson'], ['Des Hamilton']]\n",
            "[406, 'La Haine', ['Drama'], 'After a chaotic night of rioting in a marginal suburb of Paris, three young friends, Vinz, Hubert and Saïd, wander around unoccupied waiting for news about the state of health of a mutual friend who has been seriously injured when confronting the police.', ['Vincent Cassel', 'Hubert Koundé', 'Saïd Taghmaoui'], ['Mathieu Kassovitz']]\n",
            "[46738, 'Incendies', ['Drama', 'War', 'Mystery'], \"A mother's last wishes send twins Jeanne and Simon on a journey to Middle East in search of their tangled roots. Adapted from Wajdi Mouawad's acclaimed play, Incendies tells the powerful and moving tale of two young adults' voyage to the core of deep-rooted hatred, never-ending wars and enduring love.\", ['Lubna Azabal', 'Mélissa Désormeaux-Poulin', 'Maxim Gaudette'], ['Louis Craig']]\n",
            "[11645, 'Ran', ['Action', 'Drama', 'History'], \"With Ran, legendary director Akira Kurosawa reimagines Shakespeare's King Lear as a singular historical epic set in sixteenth-century Japan. Majestic in scope, the film is Kurosawa's late-life masterpiece, a profound examination of the folly of war and the crumbling of one family under the weight of betrayal, greed, and the insatiable thirst for power.\", ['Tatsuya Nakadai', 'Akira Terao', 'Jinpachi Nezu'], ['Akira Kurosawa']]\n",
            "[573164, 'Eggs Run', ['Animation', 'Comedy'], 'A rooster and his fowl partner embark on a dangerous trip to the Congo to recover their stolen eggs from a group of Russian goons.', ['Bruno Bichir', 'Maite Perroni', 'Carlos Espejel'], ['Rodolfo Riva Palacio Alatriste']]\n",
            "[8422, 'Rocco and His Brothers', ['Crime', 'Drama'], 'When a widow’s family moves to the big city, two of her sons become romantic rivals with deadly results.', ['Alain Delon', 'Renato Salvatori', 'Annie Girardot'], ['Nino Rota']]\n",
            "[554596, 'No Manches Frida 2', ['Comedy'], 'Ex-con Zequi and company come back for a new adventure.', ['Omar Chaparro', 'Martha Higareda', 'Carla Adell'], ['Martha Higareda']]\n",
            "[458302, \"Remi, Nobody's Boy\", ['Family', 'Adventure', 'Romance'], 'The adventures of the young Rémi, an orphan, collected by the gentle Madam Barberin. At the age of 10 years, he is snatched from his adoptive mother and entrusted to the signor Vitalis, a mysterious itinerant musician. Has its sides, he will learn the harsh life of acrobat and sing to win his bread. Accompanied by the faithful dog capi and of the small monkey Joli-Coeur, his long trip through France, made for meetings, friendships and mutual assistance, leads him to the secret of its origins.', ['Maleaume Paquin', 'Daniel Auteuil', 'Virginie Ledoyen'], ['Hector Malot']]\n",
            "[378108, 'In This Corner of the World', ['Drama', 'Animation', 'Romance', 'War', 'History'], 'Japan, 1943, during World War II. Young Suzu leaves her village near Hiroshima to marry and live with her in-laws in Kure, a military harbor. Her creativity to overcome deprivation quickly makes her indispensable at home. Inhabited by an ancestral wisdom, Suzu impregnates the simple gestures of everyday life with poetry and beauty. The many hardships, the loss of loved ones, the frequent air raids of the enemy, nothing alters her enthusiasm…', ['Non', 'Daisuke Ono', 'Mayumi Shintani'], ['Yōji Takeshige']]\n",
            "[38, 'Eternal Sunshine of the Spotless Mind', ['Science Fiction', 'Drama', 'Romance'], 'Joel Barish, heartbroken that his girlfriend underwent a procedure to erase him from her memory, decides to do the same. However, as he watches his memories of her fade away, he realises that he still loves her, and may be too late to correct his mistake.', ['Jim Carrey', 'Kate Winslet', 'Kirsten Dunst'], ['Michel Gondry']]\n",
            "[538362, 'On My Skin', ['Drama'], \"The incredible true story behind the most controversial Italian court cases in recent years. Stefano Cucchi was arrested for a minor crime and mysteriously found dead during his detention. In one week's time, a family is changed forever.\", ['Alessandro Borghi', 'Massimiliano Tortora', 'Jasmine Trinca'], ['Andrea Occhipinti']]\n",
            "[458220, 'Palmer', ['Drama'], \"After 12 years in prison, former high school football star Eddie Palmer returns home to put his life back together—and forms an unlikely bond with Sam, an outcast boy from a troubled home. But Eddie's past threatens to ruin his new life and family.\", ['Justin Timberlake', 'Ryder Allen', 'Juno Temple'], ['Charles B. Wessler']]\n",
            "[310569, 'The Second Mother', ['Drama'], 'After leaving her daughter Jessica in a small town in Pernambuco to be raised by relatives, Val spends the next 13 years working as a nanny to Fabinho in São Paulo. She has financial stability but has to live with the guilt of having not raised Jessica herself. As Fabinho’s university entrance exams approach, Jessica reappears in her life and seems to want to give her mother a second chance. However, Jessica has not been raised to be a servant and her very existence will turn Val’s routine on its head. With precision and humour, the subtle and powerful forces that keep rigid class structures in place and how the youth may just be the ones to shake it all up.', ['Regina Casé', 'Camila Márdila', 'Karine Teles'], ['Miriam Biderman']]\n",
            "[1955, 'The Elephant Man', ['Drama', 'History'], 'A Victorian surgeon rescues a heavily disfigured man being mistreated by his \"owner\" as a side-show freak. Behind his monstrous façade, there is revealed a person of great intelligence and sensitivity. Based on the true story of Joseph Merrick (called John Merrick in the film), a severely deformed man in 19th century London.', ['Anthony Hopkins', 'John Hurt', 'Anne Bancroft'], ['John Morris']]\n",
            "[8392, 'My Neighbor Totoro', ['Fantasy', 'Animation', 'Family'], 'Two sisters move to the country with their father in order to be closer to their hospitalized mother, and discover the surrounding trees are inhabited by Totoros, magical spirits of the forest. When the youngest runs away from home, the older sister seeks help from the spirits to find her.', ['Noriko Hidaka', 'Hitoshi Takagi', 'Chika Sakamoto'], ['Tensai Okamura']]\n",
            "[527774, 'Raya and the Last Dragon', ['Family', 'Fantasy', 'Animation', 'Action', 'Adventure'], 'Long ago, in the fantasy world of Kumandra, humans and dragons lived together in harmony. But when an evil force threatened the land, the dragons sacrificed themselves to save humanity. Now, 500 years later, that same evil has returned and it’s up to a lone warrior, Raya, to track down the legendary last dragon to restore the fractured land and its divided people.', ['Kelly Marie Tran', 'Awkwafina', 'Izaac Wang'], ['James Newton Howard']]\n",
            "[19426, 'Nights of Cabiria', ['Drama'], 'Rome, 1957. A woman, Cabiria, is robbed and left to drown by her boyfriend, Giorgio. Rescued, she resumes her life and tries her best to find happiness in a cynical world. Even when she thinks her struggles are over and she has found happiness and contentment, things may not be what they seem.', ['Giulietta Masina', 'François Périer', 'Franca Marzi'], ['Nino Rota']]\n",
            "[9702, 'Bound by Honor', ['Action', 'Crime', 'Drama', 'Thriller'], 'Based on the true life experiences of poet Jimmy Santiago Baca, the film focuses on half-brothers Paco and Cruz, and their bi-racial cousin Miklo. It opens in 1972, as the three are members of an East L.A. gang known as the \"Vatos Locos\", and the story focuses on how a violent crime and the influence of narcotics alter their lives. Miklo is incarcerated and sent to San Quentin, where he makes a \"home\" for himself. Cruz becomes an exceptional artist, but a heroin addiction overcomes him with tragic results. Paco becomes a cop and an enemy to his \"carnal\", Miklo.', ['Damian Chapa', 'Jesse Borrego', 'Benjamin Bratt'], ['Richard Pagano']]\n",
            "[387, 'Das Boot', ['Drama', 'History', 'War'], 'A German submarine hunts allied ships during the Second World War, but it soon becomes the hunted. The crew tries to survive below the surface, while stretching both the boat and themselves to their limits.', ['Jürgen Prochnow', 'Herbert Grönemeyer', 'Klaus Wennemann'], ['Monika Bauert']]\n",
            "[11423, 'Memories of Murder', ['Crime', 'Drama', 'Thriller'], '1986 Gyunggi Province. The body of a young woman is found brutally raped and murdered. Two months later, a series of rapes and murders commences under similar circumstances. And in a country that had never known such crimes, the dark whispers about a serial murderer grow louder. A special task force is set up in the area, with two local detectives Park Doo-Man and Jo Young-Goo joined by a detective from Seoul who requested to be assigned to the case.', ['Song Kang-ho', 'Kim Sang-kyung', 'Kim Roi-ha'], ['Ryu Seong-hie']]\n",
            "[4348, 'Pride & Prejudice', ['Drama', 'Romance'], \"A story of love and life among the landed English gentry during the Georgian era. Mr. Bennet is a gentleman living in Hertfordshire with his overbearing wife and five daughters, but if he dies their house will be inherited by a distant cousin whom they have never met, so the family's future happiness and security is dependent on the daughters making good marriages.\", ['Keira Knightley', 'Talulah Riley', 'Rosamund Pike'], ['Jina Jay']]\n",
            "[588228, 'The Tomorrow War', ['Action', 'Science Fiction', 'Adventure'], 'The world is stunned when a group of time travelers arrive from the year 2051 to deliver an urgent message: Thirty years in the future, mankind is losing a global war against a deadly alien species. The only hope for survival is for soldiers and civilians from the present to be transported to the future and join the fight. Among those recruited is high school teacher and family man Dan Forester. Determined to save the world for his young daughter, Dan teams up with a brilliant scientist and his estranged father in a desperate quest to rewrite the fate of the planet.', ['Chris Pratt', 'Yvonne Strahovski', 'J.K. Simmons'], ['David S. Goyer']]\n",
            "[961, 'The General', ['Action', 'Adventure', 'Comedy', 'Drama', 'War'], \"During America’s Civil War, Union spies steal engineer Johnnie Gray's beloved locomotive, 'The General'—with Johnnie's lady love aboard an attached boxcar—and he single-handedly must do all in his power to both get The General back and to rescue Annabelle.\", ['Buster Keaton', 'Marion Mack', 'Glen Cavender'], ['Al Boasberg']]\n",
            "[821, 'Judgment at Nuremberg', ['Drama', 'History', 'War'], 'In 1947, four German judges who served on the bench during the Nazi regime face a military tribunal to answer charges of crimes against humanity. Chief Justice Haywood hears evidence and testimony not only from lead defendant Ernst Janning and his defense attorney Hans Rolfe, but also from the widow of a Nazi general, an idealistic U.S. Army captain and reluctant witness Irene Wallner.', ['Spencer Tracy', 'Burt Lancaster', 'Richard Widmark'], ['Stanley Kramer']]\n",
            "[38360, 'The Cranes Are Flying', ['Drama', 'Romance', 'War'], \"Veronika and Boris come together in Moscow shortly before World War II. Walking along the river, they watch cranes fly overhead, and promise to rendezvous before Boris leaves to fight. Boris misses the meeting and is off to the front lines, while Veronika waits patiently, sending letters faithfully. After her house is bombed, Veronika moves in with Boris' family, into the company of a cousin with his own intentions.\", ['Tatyana Samoylova', 'Aleksey Batalov', 'Vasili Merkuryev'], ['Mikhail Kalatozov']]\n",
            "[62, '2001: A Space Odyssey', ['Science Fiction', 'Mystery', 'Adventure'], \"Humanity finds a mysterious object buried beneath the lunar surface and sets off to find its origins with the help of HAL 9000, the world's most advanced super computer.\", ['Keir Dullea', 'Gary Lockwood', 'William Sylvester'], ['Stanley Kubrick']]\n",
            "[264644, 'Room', ['Drama', 'Thriller'], 'Held captive for 7 years in an enclosed space, a woman and her young son finally gain their freedom, allowing the boy to experience the outside world for the first time.', ['Brie Larson', 'Jacob Tremblay', 'Joan Allen'], ['Tessa Ross']]\n",
            "[501929, 'The Mitchells vs. the Machines', ['Animation', 'Adventure', 'Comedy', 'Family', 'Science Fiction', 'Action'], \"A quirky, dysfunctional family's road trip is upended when they find themselves in the middle of the robot apocalypse and suddenly become humanity's unlikeliest last hope.\", ['Abbi Jacobson', 'Danny McBride', 'Maya Rudolph'], ['Mark Mothersbaugh']]\n",
            "[7347, 'Elite Squad', ['Drama', 'Action', 'Crime'], 'In 1997, before the visit of the pope to Rio de Janeiro, Captain Nascimento from BOPE (Special Police Operations Battalion) is assigned to eliminate the risks of the drug dealers in a dangerous slum nearby where the pope intends to be lodged.', ['Wagner Moura', 'Caio Junqueira', 'André Ramiro'], ['Bráulio Mantovani']]\n",
            "[582, 'The Lives of Others', ['Drama', 'Thriller'], 'A tragic love story set in East Berlin with the backdrop of an undercover Stasi controlled culture. Stasi captain Wieler is ordered to follow author Dreyman and plunges deeper and deeper into his life until he reaches the threshold of doubting the system.', ['Martina Gedeck', 'Ulrich Mühe', 'Sebastian Koch'], ['Andreas Schreitmüller']]\n",
            "[307, 'Rome, Open City', ['Drama', 'History'], 'A realistic portrayal of the underground resistance in Italy in 1945. The film has strong impacting imagery with its mix of fiction and reality that strengthened Italian Neo-realism and the film industry.', ['Aldo Fabrizi', 'Anna Magnani'], ['Roberto Rossellini']]\n",
            "[400928, 'Gifted', ['Family', 'Drama', 'Comedy'], 'Frank, a single man raising his child prodigy niece Mary, is drawn into a custody battle with his mother.', ['Chris Evans', 'Mckenna Grace', 'Lindsay Duncan'], ['Bill Pankow']]\n",
            "[28978, 'The Circus', ['Comedy', 'Romance'], \"Charlie, a wandering tramp, becomes a circus handyman - soon the star of the show - and falls in love with the circus owner's stepdaughter.\", ['Charlie Chaplin', 'Al Ernest Garcia', 'Merna Kennedy'], ['Charlie Chaplin']]\n",
            "[282848, 'Doctor Who: The Time of the Doctor', ['Drama', 'Science Fiction', 'TV Movie'], \"Orbiting a quiet backwater planet, the massed forces of the universe's deadliest species gather, drawn to a mysterious message that echoes out to the stars. And amongst them, the Doctor. Rescuing Clara from a family Christmas dinner, the Time Lord and his best friend must learn what this enigmatic signal means for his own fate and that of the universe.\", ['Matt Smith', 'Jenna Coleman', 'Peter Capaldi'], ['Claire Pritchard']]\n",
            "[204, 'The Wages of Fear', ['Drama', 'Thriller', 'Adventure'], 'In the South American jungle, supplies of nitroglycerine are needed at a remote oil field. The oil company pays four men to deliver the supplies in two trucks. A tense rivalry develops between the two sets of drivers on the rough remote roads where the slightest jolt can result in death.', ['Yves Montand', 'Charles Vanel', 'Peter van Eyck'], ['Henri-Georges Clouzot']]\n",
            "[315465, 'The Boy and the Beast', ['Animation', 'Fantasy', 'Action', 'Adventure', 'Drama'], \"Kyuta, a boy living in Shibuya, and Kumatetsu, a lonesome beast from Jutengai, an imaginary world. One day, Kyuta forays into the imaginary world and, as he's looking for his way back, meets Kumatetsu who becomes his spirit guide. That encounter leads them to many adventures.\", ['Koji Yakusho', 'Aoi Miyazaki', 'Shota Sometani'], ['Yōji Takeshige']]\n",
            "[2517, 'Nobody Knows', ['Drama'], 'In a small Tokyo apartment, twelve-year-old Akira must care for his younger siblings after their mother leaves them and shows no sign of returning.', ['Yuya Yagira', 'Ayu Kitaura', 'Hiei Kimura'], ['Toshihiro Isomi']]\n",
            "[58007, 'Poverty and Nobility', ['Comedy'], 'Eugene, a young nobleman, asks two penniless idlers to impersonate his noble relatives to help him marry Gemma, the daughter of an enriched cook.', ['Totò', 'Enzo Turco', 'Dolores Palumbo'], ['Roberto Cinquini']]\n",
            "[801335, 'Girl in the Basement', ['Crime', 'Thriller'], 'Sara is a teen girl who is looking forward to her 18th birthday to move away from her controlling father Don. But before she could even blow out the candles, Don imprisons her in the basement of their home.', ['Judd Nelson', 'Stefanie Scott', 'Joely Fisher'], ['Leslie Greif']]\n",
            "[26022, 'My Name Is Khan', ['Drama', 'Romance'], \"Rizwan Khan, a Muslim from the Borivali section of Mumbai, has Asperger's syndrome. He marries a Hindu single mother, Mandira, in San Francisco. After 9/11, Rizwan is detained by authorities at LAX who treat him as a terrorist because of his condition and his race.\", ['Shah Rukh Khan', 'Kajol', 'Jimmy Shergill'], ['Farah Khan']]\n",
            "[523781, 'Words on Bathroom Walls', ['Drama', 'Romance'], 'Diagnosed with a mental illness halfway through his senior year of high school, a witty, introspective teen struggles to keep it a secret while falling in love with a brilliant classmate who inspires him to open his heart and not be defined by his condition.', ['Charlie Plummer', 'Molly Parker', 'Walton Goggins'], ['John Papsidera']]\n",
            "[110416, 'Song of the Sea', ['Family', 'Animation', 'Fantasy'], 'The story of the last Seal Child’s journey home. After their mother’s disappearance, Ben and Saoirse are sent to live with Granny in the city. When they resolve to return to their home by the sea, their journey becomes a race against time as they are drawn into a world Ben knows only from his mother’s folktales. But this is no bedtime story; these fairy folk have been in our world far too long. It soon becomes clear to Ben that Saoirse is the key to their survival.', ['Brendan Gleeson', 'Fionnula Flanagan', 'Pat Shortt'], ['Darren T. Holmes']]\n",
            "[280, 'Terminator 2: Judgment Day', ['Action', 'Thriller', 'Science Fiction'], 'Nearly 10 years have passed since Sarah Connor was targeted for termination by a cyborg from the future. Now her son, John, the future leader of the resistance, is the target for a newer, more deadly terminator. Once again, the resistance has managed to send a protector back to attempt to save John and his mother Sarah.', ['Arnold Schwarzenegger', 'Linda Hamilton', 'Edward Furlong'], ['Dody Dorn']]\n",
            "[552532, 'Charm City Kings', ['Drama'], 'Mouse desperately wants to join The Midnight Clique, the infamous Baltimore dirt bike riders who rule the summertime streets. When Midnight’s leader, Blax, takes 14-year-old Mouse under his wing, Mouse soon finds himself torn between the straight-and-narrow and a road filled with fast money and violence.', [\"Jahi Di'Allo Winston\", 'Meek Mill', 'Teyonah Parris'], ['Luis Carballar']]\n",
            "[381284, 'Hidden Figures', ['Drama', 'History'], 'The untold story of Katherine G. Johnson, Dorothy Vaughan and Mary Jackson – brilliant African-American women working at NASA and serving as the brains behind one of the greatest operations in history – the launch of astronaut John Glenn into orbit. The visionary trio crossed all gender and race lines to inspire generations to dream big.', ['Taraji P. Henson', 'Octavia Spencer', 'Janelle Monáe'], ['Hans Zimmer']]\n",
            "[595, 'To Kill a Mockingbird', ['Crime', 'Drama'], 'Scout Finch, 6, and her older brother Jem live in sleepy Maycomb, Alabama, spending much of their time with their friend Dill and spying on their reclusive and mysterious neighbor, Boo Radley. When Atticus, their widowed father and a respected lawyer, defends a black man named Tom Robinson against fabricated rape charges, the trial and tangent events expose the children to evils of racism and stereotyping.', ['Gregory Peck', 'John Megna', 'Frank Overton'], ['Henry Bumstead']]\n",
            "[429210, 'Bingo: The King of the Mornings', ['Comedy', 'Drama'], '1980s. Brazilian television exploding in color and auditorium programs not so politically correct. In the middle of this fervor, Augusto Mendes, a young rising actor, seeks his place in the sun. From porn studios to soap operas, he finally finds success and fame when he becomes \"Bingo\", a TV host clown from one of the audience leader TV shows for children. It turns out that behind the rice powder and red nose, nobody knows who he is.', ['Vladimir Brichta', 'Leandra Leal', 'Tainá Müller'], ['Daniel Rezende']]\n",
            "[9277, 'The Sting', ['Comedy', 'Crime', 'Drama'], 'Set in the 1930s this intricate caper deals with an ambitious small-time crook and a veteran con man who seek revenge on a vicious crime lord who murdered one of their gang.', ['Paul Newman', 'Robert Redford', 'Robert Shaw'], ['Henry Bumstead']]\n",
            "[10681, 'WALL·E', ['Animation', 'Family', 'Science Fiction'], \"WALL·E is the last robot left on an Earth that has been overrun with garbage and all humans have fled to outer space. For 700 years he has continued to try and clean up the mess, but has developed some rather interesting human-like qualities. When a ship arrives with a sleek new type of robot, WALL·E thinks he's finally found a friend and stows away on the ship when it leaves.\", ['Elissa Knight', 'Jeff Garlin'], ['Andrew Stanton']]\n",
            "[3090, 'The Treasure of the Sierra Madre', ['Adventure', 'Drama', 'Western'], 'Fred C. Dobbs and Bob Curtin, both down on their luck in Tampico, Mexico in 1925, meet up with a grizzled prospector named Howard and decide to join with him in search of gold in the wilds of central Mexico. Through enormous difficulties, they eventually succeed in finding gold, but bandits, the elements, and most especially greed threaten to turn their success into disaster.', ['Humphrey Bogart', 'Walter Huston', 'Tim Holt'], ['Jack L. Warner']]\n",
            "[1059, 'The Hidden Fortress', ['Adventure', 'Drama', 'Action', 'Comedy'], \"Japanese peasants Matashichi and Tahei try and fail to make a profit from a tribal war. They find a man and woman whom they believe are simple tribe members hiding in a fortress. Although the peasants don't know that Rokurota is a general and Yuki is a princess, the peasants agree to accompany the pair to safety in return for gold. Along the way, the general must prove his expertise in battle while also hiding his identity.\", ['Toshirō Mifune', 'Minoru Chiaki', 'Kamatari Fujiwara'], ['Akira Kurosawa']]\n",
            "[521, 'Dial M for Murder', ['Crime', 'Thriller'], 'An ex-tennis pro carries out a plot to have his wife murdered after discovering she is having an affair, and assumes she will soon leave him for the other man anyway. When things go wrong, he improvises a new plan—to frame her for murder instead.', ['Ray Milland', 'Grace Kelly', 'Robert Cummings'], ['Alfred Hitchcock']]\n",
            "[667520, 'A Whisker Away', ['Animation', 'Drama', 'Romance', 'Fantasy', 'Science Fiction'], 'Miyo \"Muge\" Sasaki is a peculiar second-year junior high student who has fallen in love with her classmate Kento Hinode. Muge resolutely pursues Kento every day, but he takes no notice of her. Nevertheless, while carrying a secret she can tell no one, Muge continues to pursue Kento. Muge discovers a magic mask that allows her to transform into a cat named Tarō. The magic lets Muge get close to Kento, but eventually it may also make her unable to transform back to a human.', ['Mirai Shida', 'Natsuki Hanae', 'Koichi Yamadera'], ['Yusuke Takeda']]\n",
            "[120467, 'The Grand Budapest Hotel', ['Comedy', 'Drama'], 'The Grand Budapest Hotel tells of a legendary concierge at a famous European hotel between the wars and his friendship with a young employee who becomes his trusted protégé. The story involves the theft and recovery of a priceless Renaissance painting, the battle for an enormous family fortune and the slow and then sudden upheavals that transformed Europe during the first half of the 20th century.', ['Ralph Fiennes', 'Tony Revolori', 'Adrien Brody'], ['Anna Pinnock']]\n",
            "[15, 'Citizen Kane', ['Mystery', 'Drama'], 'Newspaper magnate, Charles Foster Kane is taken from his mother as a boy and made the ward of a rich industrialist. As a result, every well-meaning, tyrannical or self-destructive move he makes for the rest of his life appears in some way to be a reaction to that deeply wounding event.', ['Joseph Cotten', 'Dorothy Comingore'], ['Orson Welles']]\n",
            "[20941, 'Innocent Voices', ['Drama', 'War'], 'A young boy, in an effort to have a normal childhood in 1980s El Salvador, is caught up in a dramatic fight for his life as he desperately tries to avoid the war which is raging all around him', ['Carlos Padilla', 'Xuna Primus', 'Leonor Varela'], ['Lawrence Bender']]\n",
            "[360814, 'Dangal', ['Drama', 'Action'], 'Dangal is an extraordinary true story based on the life of Mahavir Singh and his two daughters, Geeta and Babita Phogat. The film traces the inspirational journey of a father who trains his daughters to become world class wrestlers.', ['Aamir Khan', 'Fatima Sana Shaikh', 'Sanya Malhotra'], ['Aamir Khan']]\n",
            "[14, 'American Beauty', ['Drama'], \"Lester Burnham, a depressed suburban father in a mid-life crisis, decides to turn his hectic life around after developing an infatuation with his daughter's attractive friend.\", ['Kevin Spacey', 'Annette Bening', 'Thora Birch'], ['Thomas Newman']]\n",
            "[11712, 'Sanjuro', ['Drama', 'Action', 'Comedy'], 'Toshiro Mifune swaggers and snarls to brilliant comic effect in Kurosawa\\'s tightly paced, beautifully composed \"Sanjuro.\" In this companion piece and sequel to \"Yojimbo,\" jaded samurai Sanjuro helps an idealistic group of young warriors weed out their clan\\'s evil influences, and in the process turns their image of a proper samurai on its ear.', ['Toshirō Mifune', 'Tatsuya Nakadai', 'Keiju Kobayashi'], ['Akira Kurosawa']]\n",
            "[7508, 'Taare Zameen Par', ['Drama'], \"Ishaan Awasthi is an eight-year-old whose world is filled with wonders that no one else seems to appreciate. Colours, fish, dogs, and kites don't seem important to the adults, who are much more interested in things like homework, marks, and neatness. Ishaan cannot seem to get anything right in class; he is then sent to boarding school, where his life changes forever.\", ['Darsheel Safary', 'Aamir Khan', 'Tisca Chopra'], ['Aamir Khan']]\n",
            "[654, 'On the Waterfront', ['Crime', 'Drama'], \"Terry Malloy dreams about being a prize fighter, while tending his pigeons and running errands at the docks for Johnny Friendly, the corrupt boss of the dockers union. Terry witnesses a murder by two of Johnny's thugs, and later meets the dead man's sister and feels responsible for his death. She introduces him to Father Barry, who tries to force him to provide information for the courts that will smash the dock racketeers.\", ['Marlon Brando', 'Karl Malden', 'Lee J. Cobb'], ['Elia Kazan']]\n",
            "[831405, 'Injustice', ['Animation', 'Science Fiction', 'Fantasy', 'Action'], 'When Lois Lane is killed, an unhinged Superman decides to take control of the Earth. Determined to stop him, Batman creates a team of freedom-fighting heroes. But when superheroes go to war, can the world survive?', ['Justin Hartley', 'Anson Mount', 'Laura Bailey'], ['Michael Uslan']]\n",
            "[146233, 'Prisoners', ['Drama', 'Thriller', 'Crime'], \"Keller Dover faces a parent's worst nightmare when his 6-year-old daughter, Anna, and her friend go missing. The only lead is an old motorhome that had been parked on their street. The head of the investigation, Detective Loki, arrests the driver, but a lack of evidence forces Loki to release his only suspect. Dover, knowing that his daughter's life is at stake, decides that he has no choice but to take matters into his own hands.\", ['Hugh Jackman', 'Jake Gyllenhaal', 'Maria Bello'], ['Roger Deakins']]\n",
            "[641, 'Requiem for a Dream', ['Crime', 'Drama'], 'The hopes and dreams of four ambitious people are shattered when their drug addictions begin spiraling out of control. A look into addiction and how it overcomes the mind and body.', ['Ellen Burstyn', 'Jared Leto', 'Jennifer Connelly'], ['Jay Rabinowitz']]\n",
            "[938, 'For a Few Dollars More', ['Western'], 'Two bounty hunters are in pursuit of \"El Indio,\" one of the most wanted fugitives in the western territories, and his gang.', ['Clint Eastwood', 'Lee Van Cleef', 'Gian Maria Volonté'], ['Ennio Morricone']]\n",
            "[237791, 'The Way He Looks', ['Drama', 'Romance'], 'Leonardo is a blind teenager dealing with an overprotective mother while trying to live a more independent life. To the disappointment of his best friend, Giovana, he plans to go on an exchange program abroad. When Gabriel, a new student in town, arrives at their classroom, new feelings blossom in Leonardo making him question his plans.', ['Ghilherme Lobo', 'Fábio Audi', 'Tess Amorim'], ['Daniel Ribeiro']]\n",
            "[15244, 'A Man Escaped', ['Thriller', 'Drama', 'War'], 'A captured French Resistance fighter during World War II engineers a daunting escape from prison.', ['Charles Le Clainche', 'Maurice Beerblock'], ['Alain Poiré']]\n",
            "[505262, 'My Hero Academia: Two Heroes', ['Animation', 'Action', 'Adventure', 'Fantasy'], \"All Might and Deku accept an invitation to go abroad to a floating and mobile manmade city, called 'I-Island', where they research quirks as well as hero supplemental items at the special 'I-Expo' convention that is currently being held on the island. During that time, suddenly, despite an iron wall of security surrounding the island, the system is breached by a villain, and the only ones able to stop him are the students of Class 1-A.\", ['Daiki Yamashita', 'Kenta Miyake', 'Mirai Shida'], ['Masafumi Mima']]\n",
            "[424694, 'Bohemian Rhapsody', ['Music', 'Drama', 'History'], \"Singer Freddie Mercury, guitarist Brian May, drummer Roger Taylor and bass guitarist John Deacon take the music world by storm when they form the rock 'n' roll band Queen in 1970. Hit songs become instant classics. When Mercury's increasingly wild lifestyle starts to spiral out of control, Queen soon faces its greatest challenge yet – finding a way to keep the band together amid the success and excess.\", ['Rami Malek', 'Gwilym Lee', 'Ben Hardy'], ['Arnon Milchan']]\n",
            "[11104, 'Chungking Express', ['Drama', 'Comedy', 'Romance'], 'Two melancholic Hong Kong policemen fall in love: one with a mysterious underworld figure, the other with a beautiful and ethereal server at a late-night restaurant he frequents.', ['Brigitte Lin', 'Tony Leung Chiu-wai', 'Faye Wong'], ['Christopher Doyle']]\n",
            "[205596, 'The Imitation Game', ['History', 'Drama', 'Thriller', 'War'], \"Based on the real life story of legendary cryptanalyst Alan Turing, the film portrays the nail-biting race against time by Turing and his brilliant team of code-breakers at Britain's top-secret Government Code and Cypher School at Bletchley Park, during the darkest days of World War II.\", ['Benedict Cumberbatch', 'Keira Knightley', 'Matthew Goode'], ['Maria Djurkovic']]\n",
            "[11778, 'The Deer Hunter', ['Drama', 'War'], 'A group of working-class friends decide to enlist in the Army during the Vietnam War and finds it to be hellish chaos -- not the noble venture they imagined. Before they left, Steven married his pregnant girlfriend -- and Michael and Nick were in love with the same woman. But all three are different men upon their return.', ['Robert De Niro', 'Christopher Walken', 'John Cazale'], ['Michael Deeley']]\n",
            "[508943, 'Luca', ['Animation', 'Comedy', 'Family', 'Fantasy'], 'Luca and his best friend Alberto experience an unforgettable summer on the Italian Riviera. But all the fun is threatened by a deeply-held secret: they are sea monsters from another world just below the water’s surface.', ['Jacob Tremblay', 'Jack Dylan Grazer', 'Emma Berman'], ['Ennio Morricone']]\n",
            "[12104, 'Pink Floyd: The Wall', ['Music', 'Drama'], 'A troubled rock star descends into madness in the midst of his physical and social isolation from everyone.', ['Bob Geldof', 'Christine Hargreaves', 'James Laurenson'], ['Jim Morahan']]\n",
            "[962, 'The Gold Rush', ['Adventure', 'Comedy', 'Drama'], 'A lone prospector ventures into Alaska looking for gold. He soon gets mixed up with some burly characters, falls in love with the beautiful Georgia, and tries to win her heart with his singular charm.', ['Charlie Chaplin', 'Georgia Hale', 'Mack Swain'], ['Charles D. Hall']]\n",
            "[770, 'Gone with the Wind', ['Drama', 'War', 'Romance'], 'The spoiled daughter of a well-to-do plantation owner is forced to use every means at her disposal to claw her way out of poverty, following Maj. Gen. William Sherman\\'s destructive \"March to the Sea,” during the American Civil War.', ['Vivien Leigh', 'Clark Gable', 'Olivia de Havilland'], ['Ernest Haller']]\n",
            "[438631, 'Dune', ['Action', 'Adventure', 'Drama', 'Science Fiction'], \"Paul Atreides, a brilliant and gifted young man born into a great destiny beyond his understanding, must travel to the most dangerous planet in the universe to ensure the future of his family and his people. As malevolent forces explode into conflict over the planet's exclusive supply of the most precious resource in existence-a commodity capable of unlocking humanity's greatest potential-only those who can conquer their fear will survive.\", ['Timothée Chalamet', 'Rebecca Ferguson', 'Oscar Isaac'], ['Eric Roth']]\n",
            "[106646, 'The Wolf of Wall Street', ['Crime', 'Drama', 'Comedy'], \"A New York stockbroker refuses to cooperate in a large securities fraud case involving corruption on Wall Street, corporate banking world and mob infiltration. Based on Jordan Belfort's autobiography.\", ['Leonardo DiCaprio', 'Jonah Hill', 'Margot Robbie'], ['Rodrigo Prieto']]\n",
            "[20803, 'Ivan Vasilyevich Changes His Profession', ['Comedy', 'Science Fiction'], 'Shurik Timofeev builds a working model of a time machine. By accident, Ivan Bunsha, an apartment complex manager, and George Miloslavsky, a petty burglar, are transferred to 16th century Moscow, while Tsar Ivan the Terrible goes into the year 1973.', ['Aleksandr Demyanenko', 'Yuriy Yakovlev', 'Leonid Kuravlyov'], ['Vladlen Bakhnov']]\n",
            "[548544, 'Invisible Life', ['Drama'], 'Rio de Janeiro, Brazil, 1950. In the conservative home of the Gusmão family, Eurídice and Guida are two inseparable sisters who support each other. While Guida can share with her younger sister the details of her romantic adventures, Eurídice finds in her older sister the encouragement she needs to pursue her dream of becoming a professional pianist.', ['Carol Duarte', 'Julia Stockler', 'Fernanda Montenegro'], ['Michael Weber']]\n",
            "[140420, 'Paperman', ['Animation', 'Family', 'Romance'], 'An urban office worker finds that paper airplanes are instrumental in meeting a girl in ways he never expected.', ['Kari Wahlgren'], ['John Lasseter']]\n",
            "[673, 'Harry Potter and the Prisoner of Azkaban', ['Adventure', 'Fantasy'], 'Year three at Hogwarts means new fun and challenges as Harry learns the delicate art of approaching a Hippogriff, transforming shape-shifting Boggarts into hilarity and even turning back time. But the term also brings danger: soul-sucking Dementors hover over the school, an ally of the accursed He-Who-Cannot-Be-Named lurks within the castle walls, and fearsome wizard Sirius Black escapes Azkaban. And Harry will confront them all.', ['Daniel Radcliffe', 'Rupert Grint', 'Emma Watson'], ['John Williams']]\n",
            "[160885, 'Tel chi el telùn', ['Comedy'], 'A comedy show.', ['Aldo Baglio', 'Giovanni Storti', 'Giacomo Poretti'], ['Arturo Brachetti']]\n",
            "[94047, 'My Way', ['Drama', 'Action', 'History', 'War'], 'Jun-shik, who works for Tatsuo’s grandfather’s farm while Korea is colonized by Japan, dreams about participating in the Tokyo Olympics as a marathon runner. Tatsuo also aims to become a marathon runner, so the two become rivals. But the war breaks out and they both are forced to enlist in the army. Tatsuo becomes the head of defense in Jun-shik’s unit and he devises a scheme but fails. Jun-shik and Tatsuo are held captive by the Soviets. They run away but soon are captured by the Germans and forced to separate. In 1944, they meet again on the shores of Normandy.', ['Jang Dong-gun', 'Joe Odagiri', 'Fan Bingbing'], ['Takefumi Yoshikawa']]\n",
            "[279, 'Amadeus', ['Music', 'Drama', 'History'], \"Wolfgang Amadeus Mozart is a remarkably talented young Viennese composer who unwittingly finds a fierce rival in the disciplined and determined Antonio Salieri. Resenting Mozart for both his hedonistic lifestyle and his undeniable talent, the highly religious Salieri is gradually consumed by his jealousy and becomes obsessed with Mozart's downfall, leading to a devious scheme that has dire consequences for both men.\", ['F. Murray Abraham', 'Tom Hulce', 'Elizabeth Berridge'], ['Bonnie Timmermann']]\n",
            "[28178, \"Hachi: A Dog's Tale\", ['Drama', 'Family'], \"A drama based on the true story of a college professor's bond with the abandoned dog he takes into his home.\", ['Richard Gere', 'Joan Allen', 'Sarah Roemer'], ['Richard Gere']]\n",
            "[3175, 'Barry Lyndon', ['Drama', 'Romance', 'War'], 'An Irish rogue uses his cunning and wit to work his way up the social classes of 18th century England, transforming himself from the humble Redmond Barry into the noble Barry Lyndon.', [\"Ryan O'Neal\", 'Marisa Berenson', 'Patrick Magee'], ['Stanley Kubrick']]\n",
            "[25376, 'The Secret in Their Eyes', ['Crime', 'Drama', 'Mystery'], 'A retired legal counselor writes a novel hoping to find closure for one of his past unresolved homicide cases and for his unreciprocated love with his superior - both of which still haunt him decades later.', ['Ricardo Darín', 'Soledad Villamil', 'Pablo Rago'], ['Walter Rippell']]\n",
            "[242828, 'When Marnie Was There', ['Animation', 'Drama'], 'Upon being sent to live with relatives in the countryside due to an illness, an emotionally distant adolescent girl becomes obsessed with an abandoned mansion and infatuated with a girl who lives there - a girl who may or may not be real.', ['Sara Takatsuki', 'Kasumi Arimura', 'Nanako Matsushima'], ['Toshio Suzuki']]\n",
            "[110, 'Three Colors: Red', ['Drama', 'Mystery', 'Romance'], \"Valentine, a student model in Geneva, struggles with a possessive boyfriend and a troubled family. When she runs over a dog, she discovers that its owner, a retired judge, is illegally wiretapping and eavesdropping on his neighbors' phone calls. Although Valentine is outraged, she develops a strange bond with the judge – and as the two become closer, she finds herself caught in the middle of events that could change her life.\", ['Irène Jacob', 'Jean-Louis Trintignant', 'Jean-Pierre Lorit'], ['Krzysztof Kieślowski']]\n",
            "[524, 'Casino', ['Crime', 'Drama'], 'In early-1970s Las Vegas, low-level mobster Sam \"Ace\" Rothstein gets tapped by his bosses to head the Tangiers Casino. At first, he\\'s a great success in the job, but over the years, problems with his loose-cannon enforcer Nicky Santoro, his ex-hustler wife Ginger, her con-artist ex Lester Diamond and a handful of corrupt politicians put Sam in ever-increasing danger.', ['Robert De Niro', 'Sharon Stone', 'Joe Pesci'], ['Robert Richardson']]\n",
            "[488623, 'Forgotten', ['Thriller', 'Mystery', 'Drama', 'Horror', 'Crime'], 'Seoul, South Korea, 1997. When the young but extremely anxious student Jin-seok, his parents and his successful older brother Yoo-seok move to a new home, mysterious and frightening events begin to happen around them, unexplained events that threaten to ruin their seemingly happy lives. Unable to understand what is happening, Jin-seok wonders if he is losing his mind.', ['Kang Ha-neul', 'Kim Moo-yul', 'Moon Sung-keun'], ['Kim Min-jae']]\n",
            "[29264, 'The Exterminating Angel', ['Comedy', 'Drama', 'Fantasy'], 'After a lavish dinner party, the guests find themselves mysteriously unable to leave the room.', ['Silvia Pinal', 'Jacqueline Andere', 'José Baviera'], ['Luis Buñuel']]\n",
            "[10238, 'Cries and Whispers', ['Drama'], \"As Agnes slowly dies of cancer, her sisters are so deeply immersed in their own psychic pains that they can't offer her the support she needs. Maria is wracked with guilt at her husband's attempted suicide, caused by his discovery of her extramarital affair. The self-loathing, suicidal Karin seems to regard her sister with revulsion. Only Anna, the deeply religious maid who lost her young child, seems able to offer Agnes solace and empathy.\", ['Harriet Andersson', 'Ingrid Thulin', 'Kari Sylwan'], ['Ingmar Bergman']]\n",
            "[1091, 'The Thing', ['Horror', 'Mystery', 'Science Fiction'], \"Members of an American scientific research outpost in Antarctica find themselves battling a parasitic alien organism capable of perfectly imitating its victims. They soon discover that this task will be harder than they thought, as they don't know which members of the team have already been assimilated and their paranoia threatens to tear them apart.\", ['Kurt Russell', 'Keith David', 'Wilford Brimley'], ['Larry J. Franco']]\n",
            "[556901, 'Teen Titans Go! vs. Teen Titans', ['Action', 'Animation'], \"In Teen Titans Go! vs Teen Titans, the comedic modern-day quintet takes on their 2003 counterparts when villains from each of their worlds join forces to pit the two Titan teams against each other. They'll need to set aside their differences and work together to combat Trigon, Hexagon, Santa Claus (that's right, Santa!) and time itself in order to save the multiverse.\", ['Scott Menville', 'Hynden Walch', 'Khary Payton'], ['Marly Halpern-Graser']]\n",
            "[13223, 'Gran Torino', ['Drama'], \"Disgruntled Korean War veteran Walt Kowalski sets out to reform his neighbor, Thao Lor, a Hmong teenager who tried to steal Kowalski's prized possession: a 1972 Gran Torino.\", ['Clint Eastwood', 'Christopher Carley', 'Bee Vang'], ['Clint Eastwood']]\n",
            "[10242, 'What Ever Happened to Baby Jane?', ['Drama', 'Horror', 'Thriller'], 'Two aging film actresses live as virtual recluses in an old Hollywood mansion. Jane Hudson, a successful child star, cares for her crippled sister Blanche, whose career in later years eclipsed that of Jane. Now the two live together, their relationship affected by simmering subconscious thoughts of mutual envy, hate and revenge.', ['Bette Davis', 'Joan Crawford', 'Victor Buono'], ['Jack Solomon']]\n",
            "[594634, 'Close to the Horizon', ['Drama', 'Romance'], 'Jessica knows exactly what her life is supposed to look like and where it takes her. But then she meets Danny. He has a complicated past and could confuse all their plans. Jessica has to decide.', ['Luna Wedler', 'Jannik Schümann', 'Luise Befort'], ['Charles Ladmiral']]\n",
            "[41050, 'La Notte', ['Drama', 'Romance'], 'A day in the life of an unfaithful married couple and their steadily deteriorating relationship in Milan.', ['Marcello Mastroianni', 'Jeanne Moreau', 'Monica Vitti'], ['Eraldo Da Roma']]\n",
            "[213, 'North by Northwest', ['Mystery', 'Thriller'], 'Advertising man Roger Thornhill is mistaken for a spy, triggering a deadly cross-country chase.', ['Cary Grant', 'Eva Marie Saint', 'James Mason'], ['Bernard Herrmann']]\n",
            "[38286, 'Three Men and a Leg', ['Comedy'], \"Three friends –Aldo, Giovanni, and Giacomo– travel from Milan to Gallipoli for Giacomo's wedding, with a valuable cargo: the father of the bride, a mean, rich businessman who is both their employer and father-in-law, has given them a wooden leg, the work of a famous artist.\", ['Aldo Baglio', 'Giovanni Storti', 'Giacomo Poretti'], ['Giovanni Fiore Coltellacci']]\n",
            "[20271, 'Divorce Italian Style', ['Comedy'], 'Ferdinando Cefalù is desperate to marry his cousin, Angela, but he is married to Rosalia and divorce is illegal in Italy. To get around the law, he tries to trick his wife into having an affair so he can catch her and murder her, as he knows he would be given a light sentence for killing an adulterous woman. He persuades a painter to lure his wife into an affair, but Rosalia proves to be more faithful than he expected.', ['Marcello Mastroianni', 'Daniela Rocca', 'Stefania Sandrelli'], ['Franco Cristaldi']]\n",
            "[1580, 'Rope', ['Crime', 'Thriller'], 'Two men attempt to prove they committed the perfect crime by hosting a dinner party after strangling their former classmate to death.', ['James Stewart', 'John Dall', 'Farley Granger'], ['Alfred Hitchcock']]\n",
            "[28971, 'Limelight', ['Drama', 'Music', 'Romance'], 'A fading music hall comedian tries to help a despondent ballet dancer learn to walk and to again feel confident about life.', ['Charlie Chaplin', 'Claire Bloom', 'Nigel Bruce'], ['Karl Struss']]\n",
            "[11658, 'Tae Guk Gi: The Brotherhood of War', ['Action', 'Adventure', 'Drama', 'History', 'War'], 'When two brothers are forced to fight in the Korean War, the elder decides to take the riskiest missions if it will help shield the younger from battle.', ['Jang Dong-gun', 'Won Bin', 'Lee Eun-ju'], ['Kang Je-gyu']]\n",
            "[18438, 'Castaway on the Moon', ['Drama', 'Comedy', 'Romance'], 'Mr. Kim is jobless, lost in debt and has been dumped by his girlfriend. He decides to end it all by jumping into the Han River - only to find himself washed up on a small, mid-river island. He soon abandons thoughts of suicide or rescue and begins a new life as a castaway. His antics catch the attention of a young woman whose apartment overlooks the river. Her discovery changes both their lives.', ['Jung Jae-young', 'Jung Ryeo-won', 'Yang Mi-kyung'], ['Lee Seung-chul']]\n",
            "[359724, 'Ford v Ferrari', ['Drama', 'Action', 'History'], 'American car designer Carroll Shelby and the British-born driver Ken Miles work together to battle corporate interference, the laws of physics, and their own personal demons to build a revolutionary race car for Ford Motor Company and take on the dominating race cars of Enzo Ferrari at the 24 Hours of Le Mans in France in 1966.', ['Christian Bale', 'Matt Damon', 'Jon Bernthal'], ['Ronna Kress']]\n",
            "[522212, 'Just Mercy', ['Drama', 'Crime', 'History'], 'The powerful true story of Harvard-educated lawyer Bryan Stevenson, who goes to Alabama to defend the disenfranchised and wrongly condemned — including Walter McMillian, a man sentenced to death despite evidence proving his innocence. Bryan fights tirelessly for Walter with the system stacked against them.', ['Michael B. Jordan', 'Brie Larson', 'Jamie Foxx'], ['Jay Meagher']]\n",
            "[31411, 'The Cameraman', ['Comedy', 'Romance', 'Drama', 'Family'], 'A photographer takes up newsreel shooting to impress a secretary.', ['Buster Keaton', 'Marceline Day', 'Harold Goodwin'], ['Lawrence Weingarten']]\n",
            "[615453, 'Ne Zha', ['Animation', 'Fantasy', 'Adventure'], 'The Primus extracts a Mixed Yuan Bead into a Spirit Seed and a Demon Pill. The Spirit Seed can be reincarnated as a human to help King Zhou establish a new dynasty, whereas the Demon Pill will create a devil threatening humanity. Ne Zha is the one who is destined to be the hero, but instead he becomes a devil incarnate, because the Spirit Seed and a Demon Pill are switched.', ['Yanting Lü', 'Joseph', 'Mo Han'], ['Wang Changtian']]\n",
            "[10404, 'Raise the Red Lantern', ['Drama'], \"China in the 1920s. After her father's death, 19 year old Songlian is forced to marry the much older lord of a powerful family. With three wives already, each living in a separate house within the great castle, there is fierce competition for his attention and the privileges that are gained. This competition gets out of hand...\", ['Gong Li', 'Ma Jingwu', 'He Saifei'], ['Zhang Yimou']]\n",
            "[1092, 'The Third Man', ['Thriller', 'Mystery'], 'In postwar Vienna, Austria, Holly Martins, a writer of pulp Westerns, arrives penniless as a guest of his childhood chum Harry Lime, only to learn he has died. Martins develops a conspiracy theory after learning of a \"third man\" present at the time of Harry\\'s death, running into interference from British officer Major Calloway, and falling head-over-heels for Harry\\'s grief-stricken lover, Anna.', ['Joseph Cotten', 'Alida Valli'], ['Alexander Korda']]\n",
            "[1578, 'Raging Bull', ['Drama', 'History'], 'The life of boxer Jake LaMotta, whose violence and temper that led him to the top in the ring destroyed his life outside of it.', ['Robert De Niro', 'Joe Pesci', 'Cathy Moriarty'], ['Martin Scorsese']]\n",
            "[15383, 'Army of Shadows', ['War', 'Drama', 'Thriller'], 'Betrayed by an informant, Philippe Gerbier finds himself trapped in a torturous Nazi prison camp. Though Gerbier escapes to rejoin the Resistance in occupied Marseilles, France, and exacts his revenge on the informant, he must continue a quiet, seemingly endless battle against the Nazis in an atmosphere of tension, paranoia and distrust.', ['Lino Ventura', 'Paul Meurisse', 'Jean-Pierre Cassel'], ['Françoise Bonnot']]\n",
            "[17295, 'The Battle of Algiers', ['Drama', 'War', 'History'], \"Tracing the struggle of the Algerian Front de Liberation Nationale to gain freedom from French colonial rule as seen through the eyes of Ali from his start as a petty thief to his rise to prominence in the organisation and capture by the French in 1957. The film traces the rebels' struggle and the increasingly extreme measures taken by the French government to quell the revolt.\", ['Brahim Hadjadj', 'Jean Martin', 'Yacef Saadi'], ['Franco Solinas']]\n",
            "[12761, 'Autumn Sonata', ['Drama'], 'After a seven-year absence, Charlotte Andergast travels to Sweden to reunite with her daughter Eva. The pair have a troubled relationship: Charlotte sacrificed the responsibilities of motherhood for a career as a classical pianist. Over an emotional night, the pair reopen the wounds of the past. Charlotte gets another shock when she finds out that her mentally impaired daughter, Helena, is out of the asylum and living with Eva.', ['Ingrid Bergman', 'Liv Ullmann', 'Lena Nyman'], ['Katinka Faragó']]\n",
            "[48035, 'Ordet', ['Drama'], \"The three sons of devout Danish farmer Morten have widely disparate religious beliefs. Youngest son Anders shares his father's religion, but eldest son Mikkel has lost his faith, while middle child Johannes has become delusional and proclaims that he is Jesus Christ himself. When Mikkel's wife, Inger goes into a difficult childbirth, everyone's beliefs are put to the test.\", ['Birgitte Federspiel', 'Henrik Malberg', 'Emil Hass Christensen'], ['Carl Theodor Dreyer']]\n",
            "[627, 'Trainspotting', ['Drama', 'Crime'], \"Heroin addict Mark Renton stumbles through bad ideas and sobriety attempts with his unreliable friends -- Sick Boy, Begbie, Spud and Tommy. He also has an underage girlfriend, Diane, along for the ride. After cleaning up and moving from Edinburgh to London, Mark finds he can't escape the life he left behind when Begbie shows up at his front door on the lam, and a scheming Sick Boy follows.\", ['Ewan McGregor', 'Ewen Bremner', 'Jonny Lee Miller'], ['Brian Tufano']]\n",
            "[142061, 'Batman: The Dark Knight Returns, Part 2', ['Science Fiction', 'Action', 'Animation', 'Mystery'], 'Batman has stopped the reign of terror that The Mutants had cast upon his city.  Now an old foe wants a reunion and the government wants The Man of Steel to put a stop to Batman.', ['Peter Weller', 'Ariel Winter', 'David Selby'], ['Frank Miller']]\n",
            "[20453, '3 Idiots', ['Drama', 'Comedy'], 'In the tradition of “Ferris Bueller’s Day Off” comes this refreshing comedy about a rebellious prankster with a crafty mind and a heart of gold. Rascal. Joker. Dreamer. Genius... You\\'ve never met a college student quite like \"Rancho.\" From the moment he arrives at India\\'s most prestigious university, Rancho\\'s outlandish schemes turn the campus upside down—along with the lives of his two newfound best friends. Together, they make life miserable for \"Virus,\" the school’s uptight and heartless dean. But when Rancho catches the eye of the dean\\'s sexy daughter, Virus sets his sights on flunking out the \"3 idiots\" once and for all.', ['Aamir Khan', 'R. Madhavan', 'Sharman Joshi'], ['Boman Irani']]\n",
            "[11010, 'The Postman', ['Comedy', 'Drama', 'Romance'], 'Simple Italian postman learns to love poetry while delivering mail to a famous poet; he uses this to woo local beauty Beatrice.', ['Philippe Noiret', 'Massimo Troisi', 'Maria Grazia Cucinotta'], ['Furio Scarpelli']]\n",
            "[10515, 'Castle in the Sky', ['Adventure', 'Fantasy', 'Animation', 'Action', 'Family', 'Romance'], 'A young boy and a girl with a magic crystal must race against pirates and foreign agents in a search for a legendary floating castle.', ['Keiko Yokozawa', 'Mayumi Tanaka', 'Minori Terada'], ['Hayao Miyazaki']]\n",
            "[947, 'Lawrence of Arabia', ['War', 'History', 'Adventure', 'Drama'], \"The story of British officer T.E. Lawrence's mission to aid the Arab tribes in their revolt against the Ottoman Empire during the First World War. Lawrence becomes a flamboyant, messianic figure in the cause of Arab unity but his psychological instability threatens to undermine his achievements.\", [\"Peter O'Toole\", 'Omar Sharif', 'Alec Guinness'], ['Ray Lovejoy']]\n",
            "[10728, 'Faust', ['Drama', 'Fantasy', 'Horror'], 'God and Satan war over earth; to settle things, they wager on the soul of Faust, a learned and prayerful alchemist.', ['Gösta Ekman', 'Emil Jannings', 'Camilla Horn'], ['Erich Pommer']]\n",
            "[24, 'Kill Bill: Vol. 1', ['Action', 'Crime'], 'An assassin is shot by her ruthless employer, Bill, and other members of their assassination circle – but she lives to plot her vengeance.', ['Uma Thurman', 'Lucy Liu', 'Vivica A. Fox'], ['Robert Rodriguez']]\n",
            "[530915, '1917', ['War', 'Drama', 'Action', 'Thriller'], 'At the height of the First World War, two young British soldiers must cross enemy territory and deliver a message that will stop a deadly attack on hundreds of soldiers.', ['George MacKay', 'Dean-Charles Chapman', 'Mark Strong'], ['Thomas Newman']]\n",
            "[7857, 'Amarcord', ['Comedy', 'Drama'], 'In an Italian seaside town, young Titta gets into trouble with his friends and watches various local eccentrics as they engage in often absurd behavior. Frequently clashing with his stern father and defended by his doting mother, Titta witnesses the actions of a wide range of characters, from his extended family to Fascist loyalists to sensual women, with certain moments shifting into fantastical scenarios.', ['Bruno Zanin', 'Armando Brancia', 'Pupella Maggio'], ['Franco Cristaldi']]\n",
            "[316029, 'The Greatest Showman', ['Drama'], 'The story of American showman P.T. Barnum, founder of the circus that became the famous traveling Ringling Bros. and Barnum & Bailey Circus.', ['Hugh Jackman', 'Zac Efron', 'Michelle Williams'], ['Peter Kohn']]\n",
            "[3083, 'Mr. Smith Goes to Washington', ['Comedy', 'Drama'], \"Naive and idealistic Jefferson Smith, leader of the Boy Rangers, is appointed to the United States Senate by the puppet governor of his state. He soon discovers, upon going to Washington, many shortcomings of the political process as his earnest goal of a national boys' camp leads to a conflict with the state political boss.\", ['James Stewart', 'Jean Arthur', 'Claude Rains'], ['Frank Capra']]\n",
            "[946, 'Letter from an Unknown Woman', ['Drama', 'Romance'], 'A pianist about to flee from a duel receives a letter from a woman he cannot remember. As she tells the story of her lifelong love for him, he is forced to reinterpret his own past.', ['Joan Fontaine', 'Louis Jourdan', 'Mady Christians'], ['Franz Planer']]\n",
            "[775, 'A Trip to the Moon', ['Adventure', 'Fantasy', 'Science Fiction'], 'Professor Barbenfouillis and five of his colleagues from the Academy of Astronomy travel to the Moon aboard a rocket propelled by a giant cannon. Once on the lunar surface, the bold explorers face the many perils hidden in the caves of the mysterious satellite.', ['Bleuette Bernon', 'Victor André'], ['Jules Verne']]\n",
            "[70, 'Million Dollar Baby', ['Drama'], \"Despondent over a painful estrangement from his daughter, trainer Frankie Dunn isn't prepared for boxer Maggie Fitzgerald to enter his life. But Maggie's determined to go pro and to convince Dunn and his cohort to help her.\", ['Clint Eastwood', 'Hilary Swank', 'Morgan Freeman'], ['Clint Eastwood']]\n",
            "[30588, 'Monsieur Verdoux', ['Comedy', 'Crime'], 'The film is about an unemployed banker, Henri Verdoux, and his sociopathic methods of attaining income. While being both loyal and competent in his work, Verdoux has been laid-off. To make money for his wife and child, he marries wealthy widows and then murders them. His crime spree eventually works against him when two particular widows break his normal routine.', ['Charlie Chaplin', 'Mady Correll', 'Allison Roddan'], ['Orson Welles']]\n",
            "[21334, 'Children of Heaven', ['Drama', 'Family'], \"Zohre's shoes are gone; her older brother Ali lost them. They are poor, there are no shoes for Zohre until they come up with an idea: they will share one pair of shoes, Ali's. School awaits...\", ['Reza Naji', 'Amir Farrokh Hashemian', 'Bahare Seddiqi'], ['Hassan Hassandoust']]\n",
            "[5925, 'The Great Escape', ['Adventure', 'Drama', 'History', 'Thriller', 'War'], \"The Nazis, exasperated at the number of escapes from their prison camps by a relatively small number of Allied prisoners, relocate them to a high-security 'escape-proof' camp to sit out the remainder of the war. Undaunted, the prisoners plan one of the most ambitious escape attempts of World War II. Based on a true story.\", ['Steve McQueen', 'James Garner', 'Richard Attenborough'], ['Richard Carruth']]\n",
            "[149, 'Akira', ['Animation', 'Science Fiction', 'Action'], 'A secret military project endangers Neo-Tokyo when it turns a biker gang member into a rampaging psychic psychopath that only two teenagers and a group of psychics can stop.', ['Mitsuo Iwata', 'Nozomu Sasaki', 'Mami Koyama'], ['Katsuhiro Otomo']]\n",
            "[455714, 'Bad Genius', ['Comedy', 'Drama', 'Crime', 'Thriller'], 'Lynn, a brilliant student, after helping her friends to get the grades they need, develops the idea of starting a much bigger exam-cheating business.', ['Chutimon Chuengcharoensukying', 'Eisaya Hosuwan', 'Teeradon Supapunpinyo'], ['Traithep Wongpaiboon']]\n",
            "[405, 'La Strada', ['Drama'], \"When Gelsomina, a naïve young woman, is purchased from her impoverished mother by brutish circus strongman Zampanò to be his wife and partner, she loyally endures her husband's coldness and abuse as they travel the Italian countryside performing together. Soon Zampanò must deal with his jealousy and conflicted feelings about Gelsomina when she finds a kindred spirit in Il Matto, the carefree circus fool, and contemplates leaving Zampanò.\", ['Anthony Quinn', 'Giulietta Masina', 'Richard Basehart'], ['Nino Rota']]\n",
            "[862, 'Toy Story', ['Animation', 'Adventure', 'Family', 'Comedy'], \"Led by Woody, Andy's toys live happily in his room until Andy's birthday brings Buzz Lightyear onto the scene. Afraid of losing his place in Andy's heart, Woody plots against Buzz. But when circumstances separate Buzz and Woody from their owner, the duo eventually learns to put aside their differences.\", ['Tom Hanks', 'Tim Allen', 'Don Rickles'], ['Andrew Stanton']]\n",
            "[152532, 'Dallas Buyers Club', ['Drama', 'History'], 'Loosely based on the true-life tale of Ron Woodroof, a drug-taking, women-loving, homophobic man who in 1986 was diagnosed with HIV/AIDS and given thirty days to live.', ['Matthew McConaughey', 'Jared Leto', 'Jennifer Garner'], ['Kerry Barden']]\n",
            "[414419, 'Kill Bill: The Whole Bloody Affair', ['Action', 'Crime', 'Thriller', 'Drama'], \"An assassin is shot and almost killed by her ruthless employer, Bill, and other members of their assassination circle – but she lives to plot her vengeance.  Kill Bill: The Whole Bloody Affair is a complete edit of the two-part martial arts action films Kill Bill: Vol. 1 and Kill Bill: Vol. 2. The film was originally scheduled to be released as one part. However, due to the film's over 4 hour running time, it was split into two parts.\", ['Uma Thurman', 'Lucy Liu', 'Vivica A. Fox'], ['Robert Rodriguez']]\n",
            "[76, 'Before Sunrise', ['Drama', 'Romance'], 'On his way to Vienna, American Jesse meets Céline, a student returning to Paris. After long conversations forge a surprising connection between them, Jesse convinces Celine to get off the train with him in Vienna. Since his flight to the U.S. departs the next morning and he has no money for lodging, they wander the city together, taking in the experiences of Vienna and each other.', ['Ethan Hawke', 'Julie Delpy', 'Andrea Eckert'], ['Richard Linklater']]\n",
            "[76203, '12 Years a Slave', ['Drama', 'History'], 'In the pre-Civil War United States, Solomon Northup, a free black man from upstate New York, is abducted and sold into slavery. Facing cruelty as well as unexpected kindnesses Solomon struggles not only to stay alive, but to retain his dignity. In the twelfth year of his unforgettable odyssey, Solomon’s chance meeting with a Canadian abolitionist will forever alter his life.', ['Chiwetel Ejiofor', 'Michael Fassbender', \"Lupita Nyong'o\"], ['Hans Zimmer']]\n",
            "[23160, 'Werckmeister Harmonies', ['Drama'], 'This story takes place in a small town on the Hungarian Plain. In a provincial town, which is surrounded with nothing else but frost. It is bitterly cold weather — without snow. Even in this bewildered cold hundreds of people are standing around the circus tent, which is put up in the main square, to see — as the outcome of their wait — the chief attraction, the stuffed carcass of a real whale. The people are coming from everywhere. From the neighboring settlings, even from quite far away parts of the country. They are following this clumsy monster as a dumb, faceless, rag-wearing crowd. This strange state of affairs — the appearance of the foreigners, the extreme frost — disturbs the order of the small town. Ambitious personages of the story feel they can take advantage of this situation. The tension growing to the unbearable is brought to explosion by the figure of the Prince, who is pretending facelessness. Even his mere appearance is enough to break loose destructive emotions...', ['Lars Rudolph', 'Peter Fitz', 'Hanna Schygulla'], ['Paulo Branco']]\n",
            "[3777, 'Throne of Blood', ['Drama', 'History'], 'Returning to their lord\\'s castle, samurai warriors Washizu and Miki are waylaid by a spirit who predicts their futures. When the first part of the spirit\\'s prophecy comes true, Washizu\\'s scheming wife, Asaji, presses him to speed up the rest of the spirit\\'s prophecy by murdering his lord and usurping his place. Director Akira Kurosawa\\'s resetting of William Shakespeare\\'s \"Macbeth\" in feudal Japan is one of his most acclaimed films.', ['Toshirō Mifune', 'Isuzu Yamada', 'Takashi Shimura'], ['Akira Kurosawa']]\n",
            "[640, 'Catch Me If You Can', ['Drama', 'Crime'], 'A true story about Frank Abagnale Jr. who, before his 19th birthday, successfully conned millions of dollars worth of checks as a Pan Am pilot, doctor, and legal prosecutor. An FBI agent makes it his mission to put him behind bars. But Frank not only eludes capture, he revels in the pursuit.', ['Leonardo DiCaprio', 'Tom Hanks', 'Christopher Walken'], ['John Williams']]\n",
            "[367412, 'Whiplash', ['Drama', 'Music'], 'A ferocious, bullying music teacher teaches a dedicated student. This is the 18 min short film that the feature film was based on.', ['Johnny Simmons', 'J.K. Simmons', 'Nate Lang'], ['Terri Taylor']]\n",
            "[491480, 'The Boy Who Harnessed the Wind', ['Drama', 'History', 'Family'], 'Against all the odds, a thirteen year old boy in Malawi invents an unconventional way to save his family and village from famine.', ['Maxwell Simba', 'Chiwetel Ejiofor', 'Aïssa Maïga'], ['Natascha Wharton']]\n",
            "[3034, 'Young Frankenstein', ['Comedy'], 'A young neurosurgeon inherits the castle of his grandfather, the famous Dr. Victor von Frankenstein. In the castle he finds a funny hunchback, a pretty lab assistant and the elderly housekeeper. Young Frankenstein believes that the work of his grandfather was delusional, but when he discovers the book where the mad doctor described his reanimation experiment, he suddenly changes his mind.', ['Gene Wilder', 'Teri Garr', 'Marty Feldman'], ['Jane Feinberg']]\n",
            "[150540, 'Inside Out', ['Animation', 'Family', 'Adventure', 'Drama', 'Comedy'], \"Growing up can be a bumpy road, and it's no exception for Riley, who is uprooted from her Midwest life when her father starts a new job in San Francisco. Riley's guiding emotions— Joy, Fear, Anger, Disgust and Sadness—live in Headquarters, the control centre inside Riley's mind, where they help advise her through everyday life and tries to keep things positive, but the emotions conflict on how best to navigate a new city, house and school.\", ['Amy Poehler', 'Phyllis Smith', 'Bill Hader'], ['Andrew Stanton']]\n",
            "[150540, 'Inside Out', ['Animation', 'Family', 'Adventure', 'Drama', 'Comedy'], \"Growing up can be a bumpy road, and it's no exception for Riley, who is uprooted from her Midwest life when her father starts a new job in San Francisco. Riley's guiding emotions— Joy, Fear, Anger, Disgust and Sadness—live in Headquarters, the control centre inside Riley's mind, where they help advise her through everyday life and tries to keep things positive, but the emotions conflict on how best to navigate a new city, house and school.\", ['Amy Poehler', 'Phyllis Smith', 'Bill Hader'], ['Andrew Stanton']]\n",
            "[334533, 'Captain Fantastic', ['Adventure', 'Drama'], 'A father living in the forests of the Pacific Northwest with his six young kids tries to assimilate back into society.', ['Viggo Mortensen', 'Samantha Isler', 'Annalise Basso'], ['Jeanne McCarthy']]\n",
            "[183011, 'Justice League: The Flashpoint Paradox', ['Science Fiction', 'Animation', 'Action', 'Adventure'], 'The Flash finds himself in a war-torn alternate timeline and teams up with alternate versions of his fellow heroes to restore the timeline.', ['Justin Chambers', 'C. Thomas Howell', 'Michael B. Jordan'], ['Alan Burnett']]\n",
            "[579792, 'Cindy La Regia', ['Comedy', 'Romance'], \"When Cindy decides that she doesn't want to marry her boyfriend, she runs to Mexico City, where new friendships and unexpected paths teach her that there are so much more possibilities on her life and her talent than she imagines.\", ['Cassandra Sánchez Navarro', 'Regina Blandón', 'Diana Bovio'], ['Catalina Aguilar Mastretta']]\n",
            "[234, 'The Cabinet of Dr. Caligari', ['Drama', 'Horror', 'Thriller', 'Crime'], 'Francis, a young man, recalls in his memory the horrible experiences he and his fiancée Jane recently went through. Francis and his friend Alan visit The Cabinet of Dr. Caligari, an exhibit where the mysterious doctor shows the somnambulist Cesare, and awakens him for some moments from his death-like sleep.', ['Werner Krauß', 'Conrad Veidt', 'Friedrich Fehér'], ['Erich Pommer']]\n",
            "[745, 'The Sixth Sense', ['Mystery', 'Thriller', 'Drama'], 'Following an unexpected tragedy, a child psychologist named Malcolm Crowe meets an nine year old boy named Cole Sear, who is hiding a dark secret.', ['Bruce Willis', 'Haley Joel Osment', 'Toni Collette'], ['Avy Kaufman']]\n",
            "[829, 'Chinatown', ['Crime', 'Drama', 'Mystery', 'Thriller'], \"Private eye Jake Gittes lives off of the murky moral climate of sunbaked, pre-World War II Southern California. Hired by a beautiful socialite to investigate her husband's extra-marital affair, Gittes is swept into a maelstrom of double dealings and deadly deceits, uncovering a web of personal and political scandals that come crashing together.\", ['Jack Nicholson', 'Faye Dunaway'], ['Jane Feinberg']]\n",
            "[662, 'La Jetée', ['Romance', 'Science Fiction'], 'A man is sent back and forth and in and out of time in an experiment that attempts to unravel the fate and the solution to the problems of a post-apocalyptic world during the aftermath of WW3. The experiment results in him getting caught up in a perpetual reminiscence of past events that are recreated on an airport’s viewing pier.', ['Davos Hanich', 'Hélène Chatelain', 'Jean Négroni'], ['Anatole Dauman']]\n",
            "[331482, 'Little Women', ['Drama', 'Romance'], 'Four sisters come of age in America in the aftermath of the Civil War.', ['Saoirse Ronan', 'Florence Pugh', 'Emma Watson'], ['Arnon Milchan']]\n",
            "[14160, 'Up', ['Animation', 'Comedy', 'Family', 'Adventure'], 'Carl Fredricksen spent his entire life dreaming of exploring the globe and experiencing life to its fullest. But at age 78, life seems to have passed him by, until a twist of fate (and a persistent 8-year old Wilderness Explorer named Russell) gives him a new lease on life.', ['Ed Asner', 'Christopher Plummer', 'Jordan Nagai'], ['Andrew Stanton']]\n",
            "[2011, 'Persepolis', ['Animation', 'Drama'], \"In 1970s Iran, Marjane 'Marji' Statrapi watches events through her young eyes and her idealistic family of a long dream being fulfilled of the hated Shah's defeat in the Iranian Revolution of 1979. However as Marji grows up, she witnesses first hand how the new Iran, now ruled by Islamic fundamentalists, has become a repressive tyranny on its own.\", ['Chiara Mastroianni', 'Danielle Darrieux', 'Catherine Deneuve'], ['Kathleen Kennedy']]\n",
            "[223, 'Rebecca', ['Mystery', 'Drama', 'Thriller', 'Romance'], 'Story of a young woman who marries a fascinating widower only to find out that she must live in the shadow of his former wife, Rebecca, who died mysteriously several years earlier. The young wife must come to grips with the terrible secret of her handsome, cold husband, Max De Winter. She must also deal with the jealous, obsessed Mrs. Danvers, the housekeeper, who will not accept her as the mistress of the house.', ['Laurence Olivier', 'Joan Fontaine', 'George Sanders'], ['Irving Rosenberg']]\n",
            "[8290, \"Don't Look Now: We're Being Shot At\", ['Comedy', 'War'], 'During World War II, two French civilians and a downed British Bomber Crew set out from Paris to cross the demarcation line between Nazi-occupied Northern France and the South. From there they will be able to escape to England. First, they must avoid German troops - and the consequences of their own blunders.', ['Bourvil', 'Louis de Funès', 'Terry-Thomas'], ['Danièle Thompson']]\n",
            "[3870, '1900', ['Drama', 'History'], \"Set in Bertolucci's ancestral region of Emilia, the film chronicles the lives of two men during the political turmoils that took place in Italy in the first half of the 20th century.\", ['Robert De Niro', 'Gérard Depardieu', 'Dominique Sanda'], ['Vittorio Storaro']]\n",
            "[78, 'Blade Runner', ['Science Fiction', 'Drama', 'Thriller'], 'In the smog-choked dystopian Los Angeles of 2019, blade runner Rick Deckard is called out of retirement to terminate a quartet of replicants who have escaped to Earth seeking their creator for a way to extend their short life spans.', ['Harrison Ford', 'Rutger Hauer', 'Sean Young'], ['Brian Tufano']]\n",
            "[198, 'To Be or Not to Be', ['Comedy', 'War'], \"During the Nazi occupation of Poland, an acting troupe becomes embroiled in a Polish soldier's efforts to track down a German spy.\", ['Carole Lombard', 'Jack Benny', 'Robert Stack'], ['Ernst Lubitsch']]\n",
            "[10674, 'Mulan', ['Animation', 'Family', 'Adventure'], 'A tomboyish girl disguises herself as a young man so she can fight with the Imperial Chinese Army against the invading Huns. With help from wise-cracking dragon Mushu, Mulan just might save her country -- and win the heart of handsome Captain Li Shang.', ['Ming-Na Wen', 'Eddie Murphy', 'BD Wong'], ['David Reynolds']]\n",
            "[746957, \"You've Got This\", ['Romance', 'Comedy'], 'An ad creative and a successful exec have a great marriage — until he wants to be a dad just as her star is rising. Then he brings someone new home.', ['Mauricio Ochmann', 'Esmeralda Pimentel', 'Tato Alexander'], ['Tiaré Scanda']]\n",
            "[3112, 'The Night of the Hunter', ['Crime', 'Drama', 'Thriller'], 'In the Deep South, a serial-killing preacher hunts two young children who know the whereabouts of a stash of money.', ['Robert Mitchum', 'Shelley Winters', 'Lillian Gish'], ['James Agee']]\n",
            "[33, 'Unforgiven', ['Western'], 'William Munny is a retired, once-ruthless killer turned gentle widower and hog farmer. To help support his two motherless children, he accepts one last bounty-hunter mission to find the men who brutalized a prostitute. Joined by his former partner and a cocky greenhorn, he takes on a corrupt sheriff.', ['Clint Eastwood', 'Gene Hackman', 'Morgan Freeman'], ['Clint Eastwood']]\n",
            "[60243, 'A Separation', ['Drama'], \"A married couple are faced with a difficult decision - to improve the life of their child by moving to another country or to stay in Iran and look after a deteriorating parent who has Alzheimer's disease.\", ['Leila Hatami', 'Payman Maadi', 'Shahab Hosseini'], ['Asghar Farhadi']]\n",
            "[197, 'Braveheart', ['Action', 'Drama', 'History', 'War'], \"Enraged at the slaughter of Murron, his new bride and childhood love, Scottish warrior William Wallace slays a platoon of the local English lord's soldiers. This leads the village to revolt and, eventually, the entire country to rise up against English rule.\", ['Mel Gibson', 'Catherine McCormack', 'Sophie Marceau'], ['Jina Jay']]\n",
            "[10997, 'Farewell My Concubine', ['Drama'], 'Abandoned by his prostitute mother in 1920, Douzi was raised by a theater troupe. There he meets Shitou and over the following years the two develop an act entitled \"Farewell My Concubine\" that brings them fame and fortune. When Shitou marries Juxian, Douzi becomes jealous, the beginnings of the acting duo\\'s explosive breakup and tragic fall take root.', ['Leslie Cheung', 'Zhang Fengyi', 'Gong Li'], ['Chen Kaige']]\n",
            "[9323, 'Ghost in the Shell', ['Action', 'Animation', 'Science Fiction'], \"In the year 2029, the barriers of our world have been broken down by the net and by cybernetics, but this brings new vulnerability to humans in the form of brain-hacking. When a highly-wanted hacker known as 'The Puppetmaster' begins involving them in politics, Section 9, a group of cybernetically enhanced cops, are called in to investigate and stop the Puppetmaster.\", ['Atsuko Tanaka', 'Akio Otsuka', 'Iemasa Kayumi'], ['Tensai Okamura']]\n",
            "[81, 'Nausicaä of the Valley of the Wind', ['Adventure', 'Animation', 'Fantasy'], 'After a global war, the seaside kingdom known as the Valley of the Wind remains one of the last strongholds on Earth untouched by a poisonous jungle and the powerful insects that guard it. Led by the courageous Princess Nausicaä, the people of the Valley engage in an epic struggle to restore the bond between humanity and Earth.', ['Sumi Shimamoto', 'Ichirō Nagai', 'Gorō Naya'], ['Hayao Miyazaki']]\n",
            "[16, 'Dancer in the Dark', ['Drama', 'Crime'], \"Selma, a Czech immigrant on the verge of blindness, struggles to make ends meet for herself and her son, who has inherited the same genetic disorder and will suffer the same fate without an expensive operation. When life gets too difficult, Selma learns to cope through her love of musicals, escaping life's troubles - even if just for a moment - by dreaming up little numbers to the rhythmic beats of her surroundings.\", ['Björk', 'Catherine Deneuve', 'David Morse'], ['Lars von Trier']]\n",
            "[25364, 'Ace in the Hole', ['Drama'], 'A frustrated former big-city journalist now stuck working for an Albuquerque newspaper exploits a story about a man trapped in a cave to revitalize his career, but the situation quickly escalates into an out-of-control media circus.', ['Kirk Douglas', 'Jan Sterling', 'Robert Arthur'], ['Billy Wilder']]\n",
            "[7984, 'In the Name of the Father', ['Drama'], \"A small time thief from Belfast, Gerry Conlon, is falsely implicated in the IRA bombing of a pub that kills several people while he is in London. He and his four friends are coerced by British police into confessing their guilt. Gerry's father and other relatives in London are also implicated in the crime. He spends fifteen years in prison with his father trying to prove his innocence.\", ['Daniel Day-Lewis', 'Pete Postlethwaite', 'Emma Thompson'], ['Francis Ford Coppola']]\n",
            "[6977, 'No Country for Old Men', ['Crime', 'Drama', 'Thriller'], 'Llewelyn Moss stumbles upon dead bodies, $2 million and a hoard of heroin in a Texas desert, but methodical killer Anton Chigurh comes looking for it, with local sheriff Ed Tom Bell hot on his trail. The roles of prey and predator blur as the violent pursuit of money and justice collide.', ['Josh Brolin', 'Javier Bardem', 'Tommy Lee Jones'], ['Roger Deakins']]\n",
            "[369557, 'Sing Street', ['Comedy', 'Romance', 'Drama', 'Music'], 'A boy growing up in Dublin during the 1980s escapes his strained family life by starting a band to impress the mysterious girl he likes.', ['Ferdia Walsh-Peelo', 'Lucy Boynton', 'Maria Doyle Kennedy'], ['Anthony Bregman']]\n",
            "[1646, 'Freedom Writers', ['Crime', 'Drama'], 'A young teacher inspires her class of at-risk students to learn tolerance, apply themselves, and pursue education beyond high school.', ['Hilary Swank', 'Scott Glenn', 'Imelda Staunton'], ['Hilary Swank']]\n",
            "[404378, 'A Street Cat Named Bob', ['Family', 'Drama'], 'James Bowen, a homeless busker and recovering drug addict, has his life transformed when he meets a stray ginger cat.', ['Luke Treadaway', 'Ruta Gedmintas', 'Joanne Froggatt'], ['Irene Lamb']]\n",
            "[1892, 'Return of the Jedi', ['Adventure', 'Action', 'Science Fiction'], 'Luke Skywalker leads a mission to rescue his friend Han Solo from the clutches of Jabba the Hutt, while the Emperor seeks to destroy the Rebellion once and for all with a second dreaded Death Star.', ['Mark Hamill', 'Harrison Ford', 'Carrie Fisher'], ['George Lucas']]\n",
            "[435129, 'The Breadwinner', ['War', 'Drama', 'Animation'], 'A headstrong young girl in Afghanistan, ruled by the Taliban, disguises herself as a boy in order to provide for her family.', ['Saara Chaudry', 'Soma Bhatia', 'Laara Sadiq'], ['Mychael Danna']]\n",
            "[1675, 'Day for Night', ['Comedy', 'Drama'], 'A committed film director struggles to complete his movie while coping with a myriad of crises, personal and professional, among the cast and crew.', ['Jacqueline Bisset', 'Jean-Pierre Léaud', 'Jean-Pierre Aumont'], ['Pierre-William Glenn']]\n",
            "[827, 'Diabolique', ['Drama', 'Horror', 'Thriller'], \"The cruel and abusive headmaster of a boarding school, Michel Delassalle, is murdered by an unlikely duo -- his meek wife and the mistress he brazenly flaunts. The women become increasingly unhinged by a series of odd occurrences after Delassalle's corpse mysteriously disappears.\", ['Véra Clouzot', 'Simone Signoret', 'Jean Brochard'], ['Henri-Georges Clouzot']]\n",
            "[85, 'Raiders of the Lost Ark', ['Adventure', 'Action'], 'When Dr. Indiana Jones – the tweed-suited professor who just happens to be a celebrated archaeologist – is hired by the government to locate the legendary Ark of the Covenant, he finds himself up against the entire Nazi regime.', ['Harrison Ford', 'Karen Allen', 'Paul Freeman'], ['George Lucas']]\n",
            "[430424, 'See You Up There', ['Drama', 'Crime', 'War'], 'In November 1918, a few days before the Armistice, when Lieutenant Pradelle orders a senseless attack, he causes a useless disaster; but his outrageous act also binds the lives of two soldiers who have nothing more in common than the battlefield: Édouard saves Albert, although at a high cost. They become companions in misfortune who will attempt to survive in a changing world. Pradelle, in his own way, does the same.', ['Nahuel Pérez Biscayart', 'Albert Dupontel', 'Laurent Lafitte'], ['Antoinette Boulat']]\n",
            "[379170, 'Sherlock: The Abominable Bride', ['Crime', 'Drama', 'Mystery', 'TV Movie'], 'Sherlock Holmes and Dr. Watson find themselves in 1890s London in this holiday special.', ['Benedict Cumberbatch', 'Martin Freeman', 'Una Stubbs'], ['David Arnold']]\n",
            "[185789, 'Mulholland Dr.', ['Thriller', 'TV Movie', 'Drama', 'Mystery'], 'Initially, \"Mulholland Dr.\" was to mark David Lynch\\'s return to television. It is a retooling of a script originally shot as a 94-minute pilot for a TV series (co-written with TV screenwriter Joyce Eliason) for the channel ABC, which had approved the script, but chose not even to air the pilot once it was done in 1999, despite Lynch\\'s labours to cut the project to their liking. It was left in limbo until 18 month later French company Studio Canal Plus (also producer of \\'The Straight Story\\') agreed to pay ABC $7 million for the pilot, and budget a few million more to turn the pilot into a two-hour, 27-minute movie. The cost of the film doubled to $14 million as sets had to be reconstructed and actors recalled.', ['Justin Theroux', 'Naomi Watts', 'Laura Harring'], ['Brian Grazer']]\n",
            "[56231, 'The Working Class Goes to Heaven', ['Drama'], 'A conscientious factory worker gets his finger cut off by a machine. The accident causes him to become more involved in political and revolutionary groups.', ['Gian Maria Volonté', 'Mariangela Melato', 'Salvo Randone'], ['Ennio Morricone']]\n",
            "[10386, 'The Iron Giant', ['Family', 'Animation', 'Adventure', 'Science Fiction', 'Comedy'], 'In the small town of Rockwell, Maine in October 1957, a giant metal machine befriends a nine-year-old boy and ultimately finds its humanity by unselfishly saving people from their own fears and prejudices.', ['Eli Marienthal', 'Jennifer Aniston', 'Harry Connick Jr.'], ['Sheri Galloway']]\n",
            "[671, \"Harry Potter and the Philosopher's Stone\", ['Adventure', 'Fantasy'], \"Harry Potter has lived under the stairs at his aunt and uncle's house his whole life. But on his 11th birthday, he learns he's a powerful wizard—with a place waiting for him at the Hogwarts School of Witchcraft and Wizardry. As he learns to harness his newfound powers with the help of the school's kindly headmaster, Harry uncovers the truth about his parents' deaths—and about the villain who's to blame.\", ['Daniel Radcliffe', 'Rupert Grint', 'Emma Watson'], ['John Williams']]\n",
            "[631, 'Sunrise: A Song of Two Humans', ['Drama', 'Romance'], 'A married farmer falls under the spell of a slatternly woman from the city, who tries to convince him to drown his wife.', ['George O’Brien', 'Janet Gaynor', 'Margaret Livingston'], ['Edgar G. Ulmer']]\n",
            "[301, 'Rio Bravo', ['Western'], \"The sheriff of a small town in southwest Texas must keep custody of a murderer whose brother, a powerful rancher, is trying to help him escape. After a friend is killed trying to muster support for him, he and his deputies - a disgraced drunk and a cantankerous old cripple - must find a way to hold out against the rancher's hired guns until the marshal arrives. In the meantime, matters are complicated by the presence of a young gunslinger - and a mysterious beauty who just came in on the last stagecoach.\", ['John Wayne', 'Dean Martin', 'Ricky Nelson'], ['Dean Smith']]\n",
            "[934, 'Rififi', ['Drama', 'Action', 'Crime'], \"Out of prison after a five-year stretch, jewel thief Tony turns down a quick job his friend Jo offers him, until he discovers that his old girlfriend Mado has become the lover of local gangster Pierre Grutter during Tony's absence. Expanding a minor smash-and-grab into a full-scale jewel heist, Tony and his crew appear to get away clean, but their actions after the job is completed threaten the lives of everyone involved.\", ['Jean Servais', 'Carl Möhner', 'Robert Manuel'], ['Georges Auric']]\n",
            "[194, 'Amélie', ['Comedy', 'Romance'], 'At a tiny Parisian café, the adorable yet painfully shy Amélie accidentally discovers a gift for helping others. Soon Amelie is spending her days as a matchmaker, guardian angel, and all-around do-gooder. But when she bumps into a handsome stranger, will she find the courage to become the star of her very own love story?', ['Audrey Tautou', 'Mathieu Kassovitz', 'Rufus'], ['Jean-Marc Deschamps']]\n",
            "[25538, 'Yi Yi', ['Drama', 'Romance'], \"Each member of a family in Taipei asks hard questions about life's meaning as they live through everyday quandaries.\", ['Jonathan Chang', 'Kelly Lee'], ['Edward Yang']]\n",
            "[118340, 'Guardians of the Galaxy', ['Action', 'Science Fiction', 'Adventure'], 'Light years from Earth, 26 years after being abducted, Peter Quill finds himself the prime target of a manhunt after discovering an orb wanted by Ronan the Accuser.', ['Chris Pratt', 'Zoe Saldana', 'Dave Bautista'], ['Craig Wood']]\n",
            "[1402, 'The Pursuit of Happyness', ['Drama'], \"A struggling salesman takes custody of his son as he's poised to begin a life-changing professional career.\", ['Will Smith', 'Jaden Smith', 'Thandiwe Newton'], ['Steve Tisch']]\n",
            "[329, 'Jurassic Park', ['Adventure', 'Science Fiction'], 'A wealthy entrepreneur secretly creates a theme park featuring living dinosaurs drawn from prehistoric DNA. Before opening day, he invites a team of experts and his two eager grandchildren to experience the park and help calm anxious investors. However, the park is anything but amusing as the security systems go off-line and the dinosaurs escape.', ['Sam Neill', 'Laura Dern', 'Jeff Goldblum'], ['John Williams']]\n",
            "[804, 'Roman Holiday', ['Romance', 'Comedy', 'Drama'], \"Overwhelmed by her suffocating schedule, touring European princess Ann takes off for a night while in Rome. When a sedative she took from her doctor kicks in, however, she falls asleep on a park bench and is found by an American reporter, Joe Bradley, who takes her back to his apartment for safety. At work the next morning, Joe finds out Ann's regal identity and bets his editor he can get exclusive interview with her, but romance soon gets in the way.\", ['Gregory Peck', 'Audrey Hepburn', 'Eddie Albert'], ['Henri Alekan']]\n",
            "[122906, 'About Time', ['Drama', 'Romance', 'Fantasy'], \"The night after another unsatisfactory New Year's party, Tim's father tells his son that the men in his family have always had the ability to travel through time. They can't change history, but they can change what happens and has happened in their own lives. Thus begins the start of a lesson in learning to appreciate life itself as it is, as it comes, and most importantly, the people living alongside us.\", ['Domhnall Gleeson', 'Rachel McAdams', 'Bill Nighy'], ['Nicky Kentish Barnes']]\n",
            "[83564, 'La luna', ['Animation', 'Family'], \"A young boy comes of age in the most peculiar of circumstances. Tonight is the very first time his Papa and Grandpa are taking him to work. In an old wooden boat they row far out to sea, and with no land in sight, they stop and wait. A big surprise awaits the boy as he discovers his family's most unusual line of work. Should he follow the example of his Papa, or his Grandpa? Will he be able to find his own way in the midst of their conflicting opinions and timeworn traditions?\", ['Tony Fucile', 'Krista Sheffler', 'Phil Sheridan'], ['John Lasseter']]\n",
            "[16804, 'Departures', ['Drama'], 'Daigo, a cellist, is laid off from his orchestra and moves with his wife back to his small hometown where the living is cheaper. Thinking he’s applying for a job at a travel agency he finds he’s being interviewed for work with departures of a more permanent nature – as an undertaker’s assistant.', ['Masahiro Motoki', 'Ryoko Hirosue', 'Tsutomu Yamazaki'], ['Joe Hisaishi']]\n",
            "[679, 'Aliens', ['Action', 'Thriller', 'Science Fiction'], \"When Ripley's lifepod is found by a salvage crew over 50 years later, she finds that terra-formers are on the very planet they found the alien species. When the company sends a family of colonists out to investigate her story—all contact is lost with the planet and colonists. They enlist Ripley and the colonial marines to return and search for answers.\", ['Sigourney Weaver', 'Carrie Henn', 'Michael Biehn'], ['Michael Lamont']]\n",
            "[2721, 'Z', ['Drama', 'History', 'Thriller'], \"Repression is the rule of the day in this film that skewers Greek governance of the 1960s. Z, a leftist rabble rouser, is killed in what appears to be a traffic accident. But given the political climate, the death of such a prominent activist raises troubling questions. Though it's too late to save Z's life, a postmortem examination suggests that the ruling party was behind his death. As the facts leak out, those who tell the truth pay the price for their honesty.\", ['Yves Montand', 'Irene Papas', 'Jean-Louis Trintignant'], ['Costa-Gavras']]\n",
            "[24167, 'Two Women', ['Drama', 'War'], 'Widowed shopkeeper Cesira and her 13-year-old daughter Rosetta flee from the allied bombs in Rome during the second World War; they travel to the remote village where Cesira was born. During their journey and in the village and onward, the mother does everything she can to protect Rosetta. Meanwhile, a sensitive young intellectual, Michele, falls in love with Cesira.', ['Sophia Loren', 'Jean-Paul Belmondo', 'Raf Vallone'], ['Carlo Ponti']]\n",
            "[5544, 'Hiroshima Mon Amour', ['Drama', 'History', 'Romance'], 'The deep conversation between a Japanese architect and a French actress forms the basis of this celebrated French film, considered one of the vanguard productions of the French New Wave. Set in Hiroshima after the end of World War II, the couple -- lovers turned friends -- recount, over many hours, previous romances and life experiences. The two intertwine their stories about the past with pondering the devastation wrought by the atomic bomb dropped on the city.', ['Emmanuelle Riva', 'Eiji Okada', 'Stella Dassas'], ['Anatole Dauman']]\n",
            "[579245, 'The Specials', ['Comedy', 'Drama'], 'For twenty years, Bruno and Malik have lived in a different world—the world of autistic children and teens. In charge of two separate nonprofit organizations (The Hatch & The Shelter), they train young people from underprivileged areas to be caregivers for extreme cases that have been refused by all other institutions. It’s an exceptional partnership, outside of traditional settings, for some quite extraordinary characters.', ['Vincent Cassel', 'Reda Kateb', 'Hélène Vincent'], ['Jean-Paul Hurier']]\n",
            "[381341, 'Perfect Strangers', ['Comedy', 'Drama'], 'During a dinner, a group of friends decide to share whatever text message or phone call they will receive during the evening - and all hell breaks loose.', ['Valerio Mastandrea', 'Kasia Smutniak', 'Marco Giallini'], ['Barbara Giordani']]\n",
            "[752, 'V for Vendetta', ['Action', 'Thriller', 'Fantasy'], 'In a world in which Great Britain has become a fascist state, a masked vigilante known only as “V” conducts guerrilla warfare against the oppressive British government. When V rescues a young woman from the secret police, he finds in her an ally with whom he can continue his fight to free the people of Britain.', ['Natalie Portman', 'Hugo Weaving', 'Stephen Rea'], ['Lucinda Syson']]\n",
            "[317442, 'The Last: Naruto the Movie', ['Action', 'Romance', 'Animation'], 'Two years after the events of the Fourth Great Ninja War, the moon that Hagoromo Otsutsuki created long ago to seal away the Gedo Statue begins to descend towards the world, threatening to become a meteor that would destroy everything on impact. Amidst this crisis, a direct descendant of Kaguya Otsutsuki named Toneri Otsutsuki attempts to kidnap Hinata Hyuga but ends up abducting her younger sister Hanabi. Naruto and his allies now mount a rescue mission before finding themselves embroiled in a final battle to decide the fate of everything.', ['Junko Takeuchi', 'Nana Mizuki', 'Jun Fukuyama'], ['Hirotsugu Kawasaki']]\n",
            "[323272, 'War Room', ['Drama', 'Romance'], 'The family-friendly movie explores the transformational role prayer plays in the lives of the Jordan family. Tony and Elizabeth Jordan, a middle-class couple who seemingly have it all – great jobs, a beautiful daughter, their dream home. But appearances can be deceiving. In reality, the Jordan’s marriage has become a war zone and their daughter is collateral damage. With the help of Miss Clara, an older, wiser woman, Elizabeth discovers she can start fighting for her family instead of against them. Through a newly energized faith, Elizabeth and Tony’s real enemy doesn’t have a prayer.', ['Karen Abercrombie', 'Priscilla C. Shirer', 'T.C. Stallings'], ['Alex Kendrick']]\n",
            "[113833, 'The Normal Heart', ['Drama'], \"The story of the onset of the HIV-AIDS crisis in New York City in the early 1980s, taking an unflinching look at the nation's sexual politics as gay activists and their allies in the medical community fight to expose the truth about the burgeoning epidemic to a city and nation in denial.\", ['Mark Ruffalo', 'Jim Parsons', 'Matt Bomer'], ['Cliff Martinez']]\n",
            "[5511, 'Le Samouraï', ['Crime', 'Thriller'], 'In a career-defining performance, Alain Delon plays Jef Costello, a contract killer with samurai instincts. After carrying out a flawlessly planned hit, Jef finds himself caught between a persistent police investigator and a ruthless employer, and not even his armor of fedora and trench coat can protect him. An elegantly stylized masterpiece of cool by maverick director Jean‑Pierre Melville, Le samouraï is a razor-sharp cocktail of 1940s American gangster cinema and 1960s French pop culture—with a liberal dose of Japanese lone-warrior mythology.', ['Alain Delon', 'François Périer', 'Nathalie Delon'], ['Henri Decaë']]\n",
            "[47796, 'Mamma Roma', ['Drama'], 'After years spent working as a prostitute in her Italian village, middle-aged Mamma Roma has saved enough money to buy herself a fruit stand so that she can have a respectable middle-class life and reestablish contact with the 16-year-old son she abandoned when he was an infant. But her former pimp threatens to expose her sordid past, and her troubled son seems destined to fall into a life of crime and violence.', ['Anna Magnani', 'Ettore Garofolo', 'Franco Citti'], ['Tonino Delli Colli']]\n",
            "[949, 'Heat', ['Action', 'Crime', 'Drama', 'Thriller'], 'Obsessive master thief Neil McCauley leads a top-notch crew on various daring heists throughout Los Angeles while determined detective Vincent Hanna pursues him without rest. Each man recognizes and respects the ability and the dedication of the other even though they are aware their cat-and-mouse game may end in violence.', ['Al Pacino', 'Robert De Niro', 'Val Kilmer'], ['Arnon Milchan']]\n",
            "[303867, 'World of Tomorrow', ['Animation', 'Comedy', 'Science Fiction', 'Drama'], 'A little girl is taken on a mind-bending tour of her distant future. 2016 Academy Award nominee for Best Animated Short Film and winner of the Short Film Grand Prize at the 2015 Sundance Film Festival.', ['Winona Mae', 'Sara Cushman'], ['Don Hertzfeldt']]\n",
            "[539517, 'Constantine: City of Demons - The Movie', ['Fantasy', 'Animation', 'Horror', 'Action'], 'A decade after a tragic mistake, family man Chas and occult detective John Constantine set out to cure Chas’s daughter Trish from a mysterious supernatural coma. With the help of the mysterious Nightmare Nurse, the influential Queen of Angels, and brutal Aztec God Mictlantecuhtli, the pair just might have a chance at outsmarting the demon Beroul to save Trish’s soul. In a world of shadows and dark magic, not everything is what it seems, and there’s always a price to pay. The path to redemption is never easy, and if Constantine is to succeed, he must navigate through the dark urban underbelly of Los Angeles, outwit the most cunning spawns of hell, and come face to face with arch-nemesis Nergal – all while battling his own inner demons!', ['Matt Ryan', 'Robin Atkin Downes', 'Laura Bailey'], ['David S. Goyer']]\n",
            "[399566, 'Godzilla vs. Kong', ['Action', 'Adventure', 'Fantasy'], 'In a time when monsters walk the Earth, humanity’s fight for its future sets Godzilla and Kong on a collision course that will see the two most powerful forces of nature on the planet collide in a spectacular battle for the ages.', ['Alexander Skarsgård', 'Millie Bobby Brown', 'Rebecca Hall'], ['Terry Rossio']]\n",
            "[6715, 'The Cure', ['Drama', 'Family'], \"Erik, a loner, finds a friend in Dexter, an eleven-year-old boy with AIDS. They vow to find a cure for AIDS together and save Dexter's life in an eventful summer.\", ['Brad Renfro', 'Joseph Mazzello', 'Annabella Sciorra'], ['Mark Burg']]\n",
            "[446159, 'Bacurau', ['Mystery', 'Western', 'Thriller'], 'Bacurau, a small town in the Brazilian sertão, mourns the loss of its matriarch, Carmelita, who lived to be 94. Days later, its inhabitants notice that their community has vanished from most maps.', ['Bárbara Colen', 'Udo Kier', 'Sônia Braga'], ['Saïd Ben Saïd']]\n",
            "[37797, 'Whisper of the Heart', ['Animation', 'Drama', 'Family'], \"Shizuku lives a simple life, dominated by her love for stories and writing. One day she notices that all the library books she has have been previously checked out by the same person: 'Seiji Amasawa'.\", ['Yoko Honna', 'Issey Takahashi', 'Takashi Tachibana'], ['Hayao Miyazaki']]\n",
            "[210577, 'Gone Girl', ['Mystery', 'Thriller', 'Drama'], \"With his wife's disappearance having become the focus of an intense media circus, a man sees the spotlight turned on him when it's suspected that he may not be innocent.\", ['Rosamund Pike', 'Ben Affleck', 'Kim Dickens'], ['Arnon Milchan']]\n",
            "[11293, 'Paper Moon', ['Comedy', 'Crime', 'Drama'], 'During the Great Depression, a con man finds himself saddled with a young girl—who may or may not be his daughter—and the two forge an unlikely partnership.', [\"Ryan O'Neal\", \"Tatum O'Neal\", 'Madeline Kahn'], ['Francis Ford Coppola']]\n",
            "[3078, 'It Happened One Night', ['Comedy', 'Romance'], 'A renegade reporter and a crazy young heiress meet on a bus heading for New York, and end up stuck with each other when the bus leaves them behind at one of the stops.', ['Clark Gable', 'Claudette Colbert', 'Walter Connolly'], ['Frank Capra']]\n",
            "[593, 'Solaris', ['Drama', 'Science Fiction', 'Mystery'], 'A psychologist is sent to a space station orbiting a planet called Solaris to investigate the death of a doctor and the mental problems of cosmonauts on the station. He soon discovers that the water on the planet is a type of brain which brings out repressed memories and obsessions.', ['Donatas Banionis', 'Natalya Bondarchuk', 'Jüri Järvet'], ['Andrei Tarkovsky']]\n",
            "[506574, 'Descendants 3', ['Family', 'TV Movie', 'Music', 'Adventure', 'Fantasy'], \"The teenagers of Disney's most infamous villains return to the Isle of the Lost to recruit a new batch of villainous offspring to join them at Auradon Prep.\", ['Dove Cameron', 'Cameron Boyce', 'Sofia Carson'], ['David Lawrence']]\n",
            "[266856, 'The Theory of Everything', ['Drama', 'Romance'], 'The Theory of Everything is the extraordinary story of one of the world’s greatest living minds, the renowned astrophysicist Stephen Hawking, who falls deeply in love with fellow Cambridge student Jane Wilde.', ['Eddie Redmayne', 'Felicity Jones', 'Charlie Cox'], ['Tim Bevan']]\n",
            "[31442, \"Ivan's Childhood\", ['Drama', 'War'], 'In WW2, twelve year old Soviet orphan Ivan Bondarev works for the Soviet army as a scout behind the German lines and strikes a friendship with three sympathetic Soviet officers.', ['Nikolay Burlyaev', 'Valentin Zubkov', 'Nikolay Grinko'], ['Andrei Tarkovsky']]\n",
            "[31056, 'A Short Film About Love', ['Drama', 'Romance'], \"19-year-old Tomek whiles away his lonely life by spying on his opposite neighbour Magda through binoculars. She's an artist in her mid-thirties, and appears to have everything - not least a constant stream of men at her beck and call. But when the two finally meet, they discover that they have a lot more in common than appeared at first sight...\", ['Grażyna Szapołowska', 'Olaf Lubaszenko', 'Stefania Iwińska'], ['Krzysztof Kieślowski']]\n",
            "[275, 'Fargo', ['Crime', 'Drama', 'Thriller'], \"Jerry, a small-town Minnesota car salesman is bursting at the seams with debt... but he's got a plan. He's going to hire two thugs to kidnap his wife in a scheme to collect a hefty ransom from his wealthy father-in-law. It's going to be a snap and nobody's going to get hurt... until people start dying. Enter Police Chief Marge, a coffee-drinking, parka-wearing - and extremely pregnant - investigator who'll stop at nothing to get her man. And if you think her small-time investigative skills will give the crooks a run for their ransom... you betcha!\", ['Frances McDormand', 'William H. Macy', 'Steve Buscemi'], ['Roger Deakins']]\n",
            "[293299, 'Feast', ['Animation', 'Comedy', 'Drama', 'Family'], \"This Oscar-winning animated short film tells the story of one man's love life as seen through the eyes of his best friend and dog, Winston, and revealed bite by bite through the meals they share.\", ['Stephen Apostolina', 'Kirk Baily', 'Ben Bledsoe'], ['John Lasseter']]\n",
            "[11036, 'The Notebook', ['Romance', 'Drama'], \"An epic love story centered around an older man who reads aloud to a woman with Alzheimer's. From a faded notebook, the old man's words bring to life the story about a couple who is separated by World War II, and is then passionately reunited, seven years later, after they have taken different paths.\", ['Rachel McAdams', 'Ryan Gosling', 'Gena Rowlands'], ['Alan Heim']]\n",
            "[1394, 'Nostalgia', ['Drama', 'Romance'], 'A Russian poet and his interpreter travel to Italy to research the life of an 18th-century composer.', ['Oleg Yankovskiy', 'Erland Josephson', 'Domiziana Giordano'], ['Andrea Crisanti']]\n",
            "[445030, 'No Game No Life: Zero', ['Animation', 'Action', 'Drama'], 'In ancient Disboard, Riku is an angry, young warrior intent on saving humanity from the warring Exceed, the sixteen sentient species, fighting to establish the \"One True God\" amongst the Old Deus. In a lawless land, humanity\\'s lack of magic and weak bodies have made them easy targets, leaving them on the brink of extinction. One day, hope returns to humanity when Riku finds a powerful female Ex-machina, whom he names Schwi. Exiled from her Cluster because of her research into human emotions, Schwi is convinced that humanity has only survived due to the power of these feelings. Forming an unlikely partnership in the midst of the overwhelming chaos, Riku and Schwi must now find the answers to their individual shortcomings in each other, and discover for themselves what it truly means to be human as they fight for their lives against all odds. Each with a powerful new ally in tow, it is now up to them to prevent the extinction of the human race and establish peace throughout Disboard!', ['Yoko Hikasa', 'Ai Kayano', 'Yoshitsugu Matsuoka'], ['Jukki Hanada']]\n",
            "[22843, 'Evangelion: 2.0 You Can (Not) Advance', ['Animation', 'Science Fiction', 'Action', 'Drama'], 'Under constant attack by monstrous creatures called Angels that seek to eradicate humankind, U.N. Special Agency NERV introduces two new EVA pilots to help defend the city of Tokyo-3: the mysterious Makinami Mari Illustrous and the intense Asuka Langley Shikinami. Meanwhile, Gendo Ikari and SEELE proceed with a secret project that involves both Rei and Shinji.', ['Megumi Ogata', 'Megumi Hayashibara', 'Yuko Miyamura'], ['Kazuchika Kise']]\n",
            "[29455, 'Winter Light', ['Drama'], 'A Swedish pastor fails a loving woman, a suicidal fisherman and God.', ['Gunnar Björnstrand', 'Ingrid Thulin', 'Gunnel Lindblom'], ['Ingmar Bergman']]\n",
            "[5924, 'Papillon', ['Crime', 'Drama'], 'A man befriends a fellow criminal as the two of them begin serving their sentence on a dreadful prison island, which inspires the man to plot his escape.', ['Steve McQueen', 'Dustin Hoffman', 'Victor Jory'], ['Robert Watts']]\n",
            "[10774, 'Network', ['Drama'], 'When veteran anchorman Howard Beale is forced to retire his 25-year post because of his age, he announces to viewers that he will kill himself during his farewell broadcast. Network executives rethink their decision when his fanatical tirade results in a spike in ratings.', ['Faye Dunaway', 'Peter Finch', 'William Holden'], ['Alan Heim']]\n",
            "[833, 'Umberto D.', ['Drama'], \"When elderly pensioner Umberto Domenico Ferrari returns to his boarding house from a protest calling for a hike in old-age pensions, his landlady demands her 15,000-lire rent by the end of the month or he and his small dog will be turned out onto the street. Unable to get the money in time, Umberto fakes illness to get sent to a hospital, giving his beloved dog to the landlady's pregnant and abandoned maid for temporary safekeeping.\", ['Carlo Battisti', 'Maria Pia Casilio', 'Lina Gennari'], ['Giuseppe Amato']]\n",
            "[564427, 'Minha Vida em Marte', ['Comedy', 'Romance'], 'With the help of her best friend, Fernanda now has to deal with the perks of being married, or perhaps unmarried.', ['Mônica Martelli', 'Paulo Gustavo', 'Marcos Palmeira'], ['Mônica Costa']]\n",
            "[505192, 'Shoplifters', ['Drama'], 'After one of their shoplifting sessions, Osamu and his son come across a little girl in the freezing cold. At first reluctant to shelter the girl, Osamu’s wife agrees to take care of her after learning of the hardships she faces. Although the family is poor, barely making enough money to survive through petty crime, they seem to live happily together until an unforeseen incident reveals hidden secrets, testing the bonds that unite them.', ['Lily Franky', 'Sakura Ando', 'Mayu Matsuoka'], ['Hirokazu Kore-eda']]\n",
            "[391, 'A Fistful of Dollars', ['Western'], 'The Man With No Name enters the Mexican village of San Miguel in the midst of a power struggle among the three Rojo brothers and sheriff John Baxter. When a regiment of Mexican soldiers bearing gold intended to pay for new weapons is waylaid by the Rojo brothers, the stranger inserts himself into the middle of the long-simmering battle, selling false information to both sides for his own benefit.', ['Clint Eastwood', 'Marianne Koch', 'Gian Maria Volonté'], ['Ennio Morricone']]\n",
            "[398924, 'A Bag of Marbles', ['War', 'Drama'], 'In occupied France, Maurice and Joseph, two young Jewish brothers left to their own devices demonstrate an incredible amount of cleverness, courage, and ingenuity to escape the enemy invasion and to try to reunite their family once again.', ['Dorian Le Clech', 'Batyste Fleurial', 'Patrick Bruel'], ['Armand Amar']]\n",
            "[13398, 'Tokyo Godfathers', ['Animation', 'Drama'], \"During a Christmas Eve in Tokyo, three homeless people, middle-aged alcoholic Gin, former drag queen Hana, and dependent runaway girl Miyuki, discover an abandoned newborn while looking through the garbage. With only a handful of clues to the baby's identity, the three misfits search the city to find its parents.\", ['Aya Okamoto', 'Yoshiaki Umegaki', 'Toru Emori'], ['Takeshi Seyama']]\n",
            "[32480, 'The Marquis of Grillo', ['Comedy'], 'The marquess of Grillo is a good-natured, clever and women-loving man who is always inventing stories and cracking all types of jokes. The film tells the story of his life.', ['Alberto Sordi', 'Paolo Stoppa', 'Flavio Bucci'], ['Leonardo Benvenuti']]\n",
            "Process complete! error in these pages:\n",
            "{'adult': False, 'backdrop_path': '/aMFl4wOPhJ7NVua6SgU9zIJvFSx.jpg', 'genre_ids': [16, 10751, 35, 12, 10770], 'id': 755812, 'original_language': 'fr', 'original_title': 'Miraculous World : New York, les héros unis', 'overview': 'During a school field trip, Ladybug and Cat Noir meet the American superheroes, whom they have to save from an akumatised super-villain. They discover that Miraculous exist in the United States too.', 'popularity': 325.222, 'poster_path': '/19kfvGktytDZInUmpv3WlaHoTxP.jpg', 'release_date': '2020-09-26', 'title': 'Miraculous World: New York, United HeroeZ', 'video': False, 'vote_average': 8.3, 'vote_count': 809}\n",
            "{'adult': False, 'backdrop_path': '/4GWYk5VP9qu1rNSeNAwNaBy9mwS.jpg', 'genre_ids': [10751, 16], 'id': 399106, 'original_language': 'en', 'original_title': 'Piper', 'overview': 'A mother bird tries to teach her little one how to find food by herself. In the process, she encounters a traumatic experience that she must overcome in order to survive.', 'popularity': 8.021, 'poster_path': '/9tzpqQic0VJt4JCAJ5ZGrfs1qWV.jpg', 'release_date': '2016-06-16', 'title': 'Piper', 'video': False, 'vote_average': 8.2, 'vote_count': 1275}\n",
            "{'adult': False, 'backdrop_path': '/nicDo6SnBxK93ROGAhpKTOAhy2i.jpg', 'genre_ids': [35, 10402], 'id': 400608, 'original_language': 'en', 'original_title': 'Bo Burnham: Make Happy', 'overview': 'Combining his trademark wit and self-deprecating humor with original music, Bo Burnham offers up his unique twist on life in this stand-up special about  life, death, sexuality, hypocrisy, mental illness and Pringles cans.', 'popularity': 6.016, 'poster_path': '/1RqDE7X2rGjxKOklweUFd2U7Vn0.jpg', 'release_date': '2016-06-03', 'title': 'Bo Burnham: Make Happy', 'video': False, 'vote_average': 8.2, 'vote_count': 247}\n",
            "{'adult': False, 'backdrop_path': '/n26DIR4qNozRawHix7HtTSATGGL.jpg', 'genre_ids': [35], 'id': 529531, 'original_language': 'en', 'original_title': 'Hannah Gadsby: Nanette', 'overview': 'The Australian comedian Hannah Gadsby is taking an anti-comedy stance in her newest special.', 'popularity': 5.87, 'poster_path': '/xyDapdXEqic7pkLFvvvEW5dI3or.jpg', 'release_date': '2018-06-19', 'title': 'Hannah Gadsby: Nanette', 'video': False, 'vote_average': 8.2, 'vote_count': 212}\n",
            "{'adult': False, 'backdrop_path': '/l9w4vKgjStkoBxPYDGW2nYrtHai.jpg', 'genre_ids': [10751, 16, 10749, 35], 'id': 455661, 'original_language': 'en', 'original_title': 'In a Heartbeat', 'overview': 'A closeted boy runs the risk of being outed by his own heart after it pops out of his chest to chase down the boy of his dreams.', 'popularity': 5.368, 'poster_path': '/wJUJROdLOtOzMixkjkx1aaZGSLl.jpg', 'release_date': '2017-06-01', 'title': 'In a Heartbeat', 'video': False, 'vote_average': 8.1, 'vote_count': 877}\n",
            "{'adult': False, 'backdrop_path': '/bAqEMKPKkYjH3JeW4jeda2AogpR.jpg', 'genre_ids': [16, 10751, 35], 'id': 406785, 'original_language': 'en', 'original_title': 'Inner Workings', 'overview': 'This is the story of the internal struggle between a man’s Brain—a pragmatic protector who calculates his every move, and his Heart—a free-spirited adventurer who wants to let loose.', 'popularity': 6.604, 'poster_path': '/vUZqG2SvTkAlMVlzARXaMNCYMuk.jpg', 'release_date': '2016-11-23', 'title': 'Inner Workings', 'video': False, 'vote_average': 8.1, 'vote_count': 200}\n",
            "{'adult': False, 'backdrop_path': '/xtj3EhrFHMrZCLTWH6LarEXAG8r.jpg', 'genre_ids': [16, 10751, 18], 'id': 574074, 'original_language': 'en', 'original_title': 'Kitbull', 'overview': 'An unlikely connection sparks between two creatures: a fiercely independent stray kitten and a pit bull. Together, they experience friendship for the first time.', 'popularity': 6.411, 'poster_path': '/mwKO3cZbxipgd9QAPboJVTDLPiN.jpg', 'release_date': '2019-01-18', 'title': 'Kitbull', 'video': False, 'vote_average': 8.1, 'vote_count': 228}\n",
            "{'adult': False, 'backdrop_path': '/1EfLDlkrcgSUgxVT56T9PGUGs5N.jpg', 'genre_ids': [16, 18, 10751], 'id': 20722, 'original_language': 'ja', 'original_title': 'つみきのいえ', 'overview': \"La Maison en Petits Cubes tells the story of a grandfather's memories as he adds more blocks to his house to stem the flooding waters.\", 'popularity': 10.737, 'poster_path': '/1FhBKs0aOXkbAB8veAyqVZqbNe1.jpg', 'release_date': '2008-06-10', 'title': 'La Maison en Petits Cubes', 'video': False, 'vote_average': 8, 'vote_count': 341}\n",
            "{'adult': False, 'backdrop_path': '/7OY9BSM5CYQiHvonQhlQiJGaEnL.jpg', 'genre_ids': [16, 14], 'id': 32085, 'original_language': 'en', 'original_title': 'Vincent', 'overview': 'Young Vincent Malloy dreams of being just like Vincent Price and loses himself in macabre daydreams that annoy his mother.', 'popularity': 6.213, 'poster_path': '/qNhlPzgZDg9jYRtQRc64Wh16Uyz.jpg', 'release_date': '1982-10-01', 'title': 'Vincent', 'video': False, 'vote_average': 8, 'vote_count': 648}\n",
            "{'adult': False, 'backdrop_path': '/rlNnwObbMu5G2FaOUlacnUIdIIA.jpg', 'genre_ids': [16, 35, 10751, 12], 'id': 726684, 'original_language': 'fr', 'original_title': 'Miraculous World: Shanghai, la légende de Ladydragon', 'overview': 'On school break, Marinette heads to Shanghai to meet Adrien. But after arriving, Marinette loses all her stuff, including the Miraculous that allows her to turn into Ladybug!', 'popularity': 403.365, 'poster_path': '/qQ0VKsGRQ2ofAmswGNzZnvC1xPE.jpg', 'release_date': '2021-04-04', 'title': 'Miraculous World: Shanghai – The Legend of Ladydragon', 'video': False, 'vote_average': 7.9, 'vote_count': 617}\n",
            "{'adult': False, 'backdrop_path': '/sdyRGgBTHIqwDieL7WepBWlkNFh.jpg', 'genre_ids': [16, 10751, 35], 'id': 24480, 'original_language': 'en', 'original_title': 'Partly Cloudy', 'overview': 'Everyone knows that the stork delivers babies, but where do the storks get the babies from? The answer lies up in the stratosphere, where cloud people sculpt babies from clouds and bring them to life. Gus, a lonely and insecure grey cloud, is a master at creating \"dangerous\" babies. Crocodiles, porcupines, rams and more - Gus\\'s beloved creations are works of art, but more than a handful for his loyal delivery stork partner, Peck. As Gus\\'s creations become more and more rambunctious, Peck\\'s job gets harder and harder. How will Peck manage to handle both his hazardous cargo and his friend\\'s fiery temperament?', 'popularity': 7.134, 'poster_path': '/oqYX2AJV53ibLVPrUZ1Z5XlGv5U.jpg', 'release_date': '2009-05-28', 'title': 'Partly Cloudy', 'video': False, 'vote_average': 7.9, 'vote_count': 802}\n"
          ]
        }
      ]
    },
    {
      "cell_type": "code",
      "metadata": {
        "colab": {
          "base_uri": "https://localhost:8080/",
          "height": 405
        },
        "id": "pvnegdaWgDrK",
        "outputId": "83624d4e-b4b6-4408-ae5d-71471a0f2f1d"
      },
      "source": [
        "df.head()"
      ],
      "execution_count": 120,
      "outputs": [
        {
          "output_type": "execute_result",
          "data": {
            "text/html": [
              "<div>\n",
              "<style scoped>\n",
              "    .dataframe tbody tr th:only-of-type {\n",
              "        vertical-align: middle;\n",
              "    }\n",
              "\n",
              "    .dataframe tbody tr th {\n",
              "        vertical-align: top;\n",
              "    }\n",
              "\n",
              "    .dataframe thead th {\n",
              "        text-align: right;\n",
              "    }\n",
              "</style>\n",
              "<table border=\"1\" class=\"dataframe\">\n",
              "  <thead>\n",
              "    <tr style=\"text-align: right;\">\n",
              "      <th></th>\n",
              "      <th>id</th>\n",
              "      <th>title</th>\n",
              "      <th>genre</th>\n",
              "      <th>overview</th>\n",
              "      <th>cast</th>\n",
              "      <th>director</th>\n",
              "    </tr>\n",
              "  </thead>\n",
              "  <tbody>\n",
              "    <tr>\n",
              "      <th>0</th>\n",
              "      <td>19404</td>\n",
              "      <td>Dilwale Dulhania Le Jayenge</td>\n",
              "      <td>[Comedy, Drama, Romance]</td>\n",
              "      <td>Raj is a rich, carefree, happy-go-lucky second...</td>\n",
              "      <td>[Shah Rukh Khan, Kajol, Amrish Puri]</td>\n",
              "      <td>[Farah Khan]</td>\n",
              "    </tr>\n",
              "    <tr>\n",
              "      <th>1</th>\n",
              "      <td>278</td>\n",
              "      <td>The Shawshank Redemption</td>\n",
              "      <td>[Drama, Crime]</td>\n",
              "      <td>Framed in the 1940s for the double murder of h...</td>\n",
              "      <td>[Tim Robbins, Morgan Freeman, Bob Gunton]</td>\n",
              "      <td>[Thomas Newman]</td>\n",
              "    </tr>\n",
              "    <tr>\n",
              "      <th>2</th>\n",
              "      <td>238</td>\n",
              "      <td>The Godfather</td>\n",
              "      <td>[Drama, Crime]</td>\n",
              "      <td>Spanning the years 1945 to 1955, a chronicle o...</td>\n",
              "      <td>[Marlon Brando, Al Pacino, James Caan]</td>\n",
              "      <td>[Francis Ford Coppola]</td>\n",
              "    </tr>\n",
              "    <tr>\n",
              "      <th>3</th>\n",
              "      <td>724089</td>\n",
              "      <td>Gabriel's Inferno Part II</td>\n",
              "      <td>[Romance]</td>\n",
              "      <td>Professor Gabriel Emerson finally learns the t...</td>\n",
              "      <td>[Melanie Zanetti, Giulio Berruti, James Andrew...</td>\n",
              "      <td>[Denis Maloney]</td>\n",
              "    </tr>\n",
              "    <tr>\n",
              "      <th>4</th>\n",
              "      <td>761053</td>\n",
              "      <td>Gabriel's Inferno Part III</td>\n",
              "      <td>[Romance, Comedy]</td>\n",
              "      <td>The final part of the film adaption of the ero...</td>\n",
              "      <td>[Melanie Zanetti, Giulio Berruti, Rhett Wellin...</td>\n",
              "      <td>[Tosca Musk]</td>\n",
              "    </tr>\n",
              "  </tbody>\n",
              "</table>\n",
              "</div>"
            ],
            "text/plain": [
              "       id  ...                director\n",
              "0   19404  ...            [Farah Khan]\n",
              "1     278  ...         [Thomas Newman]\n",
              "2     238  ...  [Francis Ford Coppola]\n",
              "3  724089  ...         [Denis Maloney]\n",
              "4  761053  ...            [Tosca Musk]\n",
              "\n",
              "[5 rows x 6 columns]"
            ]
          },
          "metadata": {},
          "execution_count": 120
        }
      ]
    },
    {
      "cell_type": "code",
      "metadata": {
        "id": "RrC6n1ekgIyt"
      },
      "source": [
        "df.to_csv(\"tmdb_movie.csv\")"
      ],
      "execution_count": 121,
      "outputs": []
    },
    {
      "cell_type": "code",
      "metadata": {
        "colab": {
          "base_uri": "https://localhost:8080/"
        },
        "id": "I85o9g8vgchc",
        "outputId": "7c5e09ae-62ad-4066-a85d-b62d29d471c4"
      },
      "source": [
        "df.shape"
      ],
      "execution_count": 122,
      "outputs": [
        {
          "output_type": "execute_result",
          "data": {
            "text/plain": [
              "(469, 6)"
            ]
          },
          "metadata": {},
          "execution_count": 122
        }
      ]
    },
    {
      "cell_type": "code",
      "metadata": {
        "id": "0ByptZmesShV"
      },
      "source": [
        "import pandas as pd\n",
        "import numpy as np\n",
        "from sklearn.feature_extraction.text import TfidfVectorizer\n",
        "from sklearn.metrics.pairwise import linear_kernel\n",
        "from ast import literal_eval"
      ],
      "execution_count": null,
      "outputs": []
    },
    {
      "cell_type": "code",
      "metadata": {
        "id": "58dAhXUYsn-8",
        "colab": {
          "base_uri": "https://localhost:8080/",
          "height": 707
        },
        "outputId": "99548c62-5142-40fc-e696-323a65ecb74b"
      },
      "source": [
        "md = pd. read_csv('/content/drive/MyDrive/data_movies/movies_metadata.csv')\n",
        "md.head()"
      ],
      "execution_count": null,
      "outputs": [
        {
          "output_type": "stream",
          "text": [
            "/usr/local/lib/python3.7/dist-packages/IPython/core/interactiveshell.py:2718: DtypeWarning: Columns (10) have mixed types.Specify dtype option on import or set low_memory=False.\n",
            "  interactivity=interactivity, compiler=compiler, result=result)\n"
          ],
          "name": "stderr"
        },
        {
          "output_type": "execute_result",
          "data": {
            "text/html": [
              "<div>\n",
              "<style scoped>\n",
              "    .dataframe tbody tr th:only-of-type {\n",
              "        vertical-align: middle;\n",
              "    }\n",
              "\n",
              "    .dataframe tbody tr th {\n",
              "        vertical-align: top;\n",
              "    }\n",
              "\n",
              "    .dataframe thead th {\n",
              "        text-align: right;\n",
              "    }\n",
              "</style>\n",
              "<table border=\"1\" class=\"dataframe\">\n",
              "  <thead>\n",
              "    <tr style=\"text-align: right;\">\n",
              "      <th></th>\n",
              "      <th>adult</th>\n",
              "      <th>belongs_to_collection</th>\n",
              "      <th>budget</th>\n",
              "      <th>genres</th>\n",
              "      <th>homepage</th>\n",
              "      <th>id</th>\n",
              "      <th>imdb_id</th>\n",
              "      <th>original_language</th>\n",
              "      <th>original_title</th>\n",
              "      <th>overview</th>\n",
              "      <th>popularity</th>\n",
              "      <th>poster_path</th>\n",
              "      <th>production_companies</th>\n",
              "      <th>production_countries</th>\n",
              "      <th>release_date</th>\n",
              "      <th>revenue</th>\n",
              "      <th>runtime</th>\n",
              "      <th>spoken_languages</th>\n",
              "      <th>status</th>\n",
              "      <th>tagline</th>\n",
              "      <th>title</th>\n",
              "      <th>video</th>\n",
              "      <th>vote_average</th>\n",
              "      <th>vote_count</th>\n",
              "    </tr>\n",
              "  </thead>\n",
              "  <tbody>\n",
              "    <tr>\n",
              "      <th>0</th>\n",
              "      <td>False</td>\n",
              "      <td>{'id': 10194, 'name': 'Toy Story Collection', ...</td>\n",
              "      <td>30000000</td>\n",
              "      <td>[{'id': 16, 'name': 'Animation'}, {'id': 35, '...</td>\n",
              "      <td>http://toystory.disney.com/toy-story</td>\n",
              "      <td>862</td>\n",
              "      <td>tt0114709</td>\n",
              "      <td>en</td>\n",
              "      <td>Toy Story</td>\n",
              "      <td>Led by Woody, Andy's toys live happily in his ...</td>\n",
              "      <td>21.9469</td>\n",
              "      <td>/rhIRbceoE9lR4veEXuwCC2wARtG.jpg</td>\n",
              "      <td>[{'name': 'Pixar Animation Studios', 'id': 3}]</td>\n",
              "      <td>[{'iso_3166_1': 'US', 'name': 'United States o...</td>\n",
              "      <td>1995-10-30</td>\n",
              "      <td>373554033.0</td>\n",
              "      <td>81.0</td>\n",
              "      <td>[{'iso_639_1': 'en', 'name': 'English'}]</td>\n",
              "      <td>Released</td>\n",
              "      <td>NaN</td>\n",
              "      <td>Toy Story</td>\n",
              "      <td>False</td>\n",
              "      <td>7.7</td>\n",
              "      <td>5415.0</td>\n",
              "    </tr>\n",
              "    <tr>\n",
              "      <th>1</th>\n",
              "      <td>False</td>\n",
              "      <td>NaN</td>\n",
              "      <td>65000000</td>\n",
              "      <td>[{'id': 12, 'name': 'Adventure'}, {'id': 14, '...</td>\n",
              "      <td>NaN</td>\n",
              "      <td>8844</td>\n",
              "      <td>tt0113497</td>\n",
              "      <td>en</td>\n",
              "      <td>Jumanji</td>\n",
              "      <td>When siblings Judy and Peter discover an encha...</td>\n",
              "      <td>17.0155</td>\n",
              "      <td>/vzmL6fP7aPKNKPRTFnZmiUfciyV.jpg</td>\n",
              "      <td>[{'name': 'TriStar Pictures', 'id': 559}, {'na...</td>\n",
              "      <td>[{'iso_3166_1': 'US', 'name': 'United States o...</td>\n",
              "      <td>1995-12-15</td>\n",
              "      <td>262797249.0</td>\n",
              "      <td>104.0</td>\n",
              "      <td>[{'iso_639_1': 'en', 'name': 'English'}, {'iso...</td>\n",
              "      <td>Released</td>\n",
              "      <td>Roll the dice and unleash the excitement!</td>\n",
              "      <td>Jumanji</td>\n",
              "      <td>False</td>\n",
              "      <td>6.9</td>\n",
              "      <td>2413.0</td>\n",
              "    </tr>\n",
              "    <tr>\n",
              "      <th>2</th>\n",
              "      <td>False</td>\n",
              "      <td>{'id': 119050, 'name': 'Grumpy Old Men Collect...</td>\n",
              "      <td>0</td>\n",
              "      <td>[{'id': 10749, 'name': 'Romance'}, {'id': 35, ...</td>\n",
              "      <td>NaN</td>\n",
              "      <td>15602</td>\n",
              "      <td>tt0113228</td>\n",
              "      <td>en</td>\n",
              "      <td>Grumpier Old Men</td>\n",
              "      <td>A family wedding reignites the ancient feud be...</td>\n",
              "      <td>11.7129</td>\n",
              "      <td>/6ksm1sjKMFLbO7UY2i6G1ju9SML.jpg</td>\n",
              "      <td>[{'name': 'Warner Bros.', 'id': 6194}, {'name'...</td>\n",
              "      <td>[{'iso_3166_1': 'US', 'name': 'United States o...</td>\n",
              "      <td>1995-12-22</td>\n",
              "      <td>0.0</td>\n",
              "      <td>101.0</td>\n",
              "      <td>[{'iso_639_1': 'en', 'name': 'English'}]</td>\n",
              "      <td>Released</td>\n",
              "      <td>Still Yelling. Still Fighting. Still Ready for...</td>\n",
              "      <td>Grumpier Old Men</td>\n",
              "      <td>False</td>\n",
              "      <td>6.5</td>\n",
              "      <td>92.0</td>\n",
              "    </tr>\n",
              "    <tr>\n",
              "      <th>3</th>\n",
              "      <td>False</td>\n",
              "      <td>NaN</td>\n",
              "      <td>16000000</td>\n",
              "      <td>[{'id': 35, 'name': 'Comedy'}, {'id': 18, 'nam...</td>\n",
              "      <td>NaN</td>\n",
              "      <td>31357</td>\n",
              "      <td>tt0114885</td>\n",
              "      <td>en</td>\n",
              "      <td>Waiting to Exhale</td>\n",
              "      <td>Cheated on, mistreated and stepped on, the wom...</td>\n",
              "      <td>3.85949</td>\n",
              "      <td>/16XOMpEaLWkrcPqSQqhTmeJuqQl.jpg</td>\n",
              "      <td>[{'name': 'Twentieth Century Fox Film Corporat...</td>\n",
              "      <td>[{'iso_3166_1': 'US', 'name': 'United States o...</td>\n",
              "      <td>1995-12-22</td>\n",
              "      <td>81452156.0</td>\n",
              "      <td>127.0</td>\n",
              "      <td>[{'iso_639_1': 'en', 'name': 'English'}]</td>\n",
              "      <td>Released</td>\n",
              "      <td>Friends are the people who let you be yourself...</td>\n",
              "      <td>Waiting to Exhale</td>\n",
              "      <td>False</td>\n",
              "      <td>6.1</td>\n",
              "      <td>34.0</td>\n",
              "    </tr>\n",
              "    <tr>\n",
              "      <th>4</th>\n",
              "      <td>False</td>\n",
              "      <td>{'id': 96871, 'name': 'Father of the Bride Col...</td>\n",
              "      <td>0</td>\n",
              "      <td>[{'id': 35, 'name': 'Comedy'}]</td>\n",
              "      <td>NaN</td>\n",
              "      <td>11862</td>\n",
              "      <td>tt0113041</td>\n",
              "      <td>en</td>\n",
              "      <td>Father of the Bride Part II</td>\n",
              "      <td>Just when George Banks has recovered from his ...</td>\n",
              "      <td>8.38752</td>\n",
              "      <td>/e64sOI48hQXyru7naBFyssKFxVd.jpg</td>\n",
              "      <td>[{'name': 'Sandollar Productions', 'id': 5842}...</td>\n",
              "      <td>[{'iso_3166_1': 'US', 'name': 'United States o...</td>\n",
              "      <td>1995-02-10</td>\n",
              "      <td>76578911.0</td>\n",
              "      <td>106.0</td>\n",
              "      <td>[{'iso_639_1': 'en', 'name': 'English'}]</td>\n",
              "      <td>Released</td>\n",
              "      <td>Just When His World Is Back To Normal... He's ...</td>\n",
              "      <td>Father of the Bride Part II</td>\n",
              "      <td>False</td>\n",
              "      <td>5.7</td>\n",
              "      <td>173.0</td>\n",
              "    </tr>\n",
              "  </tbody>\n",
              "</table>\n",
              "</div>"
            ],
            "text/plain": [
              "   adult  ... vote_count\n",
              "0  False  ...     5415.0\n",
              "1  False  ...     2413.0\n",
              "2  False  ...       92.0\n",
              "3  False  ...       34.0\n",
              "4  False  ...      173.0\n",
              "\n",
              "[5 rows x 24 columns]"
            ]
          },
          "metadata": {
            "tags": []
          },
          "execution_count": 191
        }
      ]
    },
    {
      "cell_type": "code",
      "metadata": {
        "colab": {
          "base_uri": "https://localhost:8080/"
        },
        "id": "fEmIgVK-JqeR",
        "outputId": "592d1e5d-b221-4d60-f7ca-b4b08b9dd944"
      },
      "source": [
        "vote_counts = md[md['vote_count'].notnull()]['vote_count'].astype('int')\n",
        "vote_averages = md[md['vote_average'].notnull()]['vote_average'].astype('int')\n",
        "C = vote_averages.mean()\n",
        "C"
      ],
      "execution_count": null,
      "outputs": [
        {
          "output_type": "execute_result",
          "data": {
            "text/plain": [
              "5.244896612406511"
            ]
          },
          "metadata": {
            "tags": []
          },
          "execution_count": 192
        }
      ]
    },
    {
      "cell_type": "code",
      "metadata": {
        "colab": {
          "base_uri": "https://localhost:8080/"
        },
        "id": "pV0StGNSJunj",
        "outputId": "dd316282-9133-48b1-c7f7-1628fb80faa8"
      },
      "source": [
        "m = vote_counts.quantile(0.95)\n",
        "m"
      ],
      "execution_count": null,
      "outputs": [
        {
          "output_type": "execute_result",
          "data": {
            "text/plain": [
              "434.0"
            ]
          },
          "metadata": {
            "tags": []
          },
          "execution_count": 193
        }
      ]
    },
    {
      "cell_type": "code",
      "metadata": {
        "colab": {
          "base_uri": "https://localhost:8080/"
        },
        "id": "5fT8Hx-2J154",
        "outputId": "6dc7d522-3be0-44cb-c695-a1b3863366e1"
      },
      "source": [
        "qualified = md[(md['vote_count'] >= m) & (md['vote_count'].notnull()) & (md['vote_average'].notnull())][['title', 'vote_count', 'vote_average', 'popularity']]\n",
        "qualified['vote_count'] = qualified['vote_count'].astype('int')\n",
        "qualified['vote_average'] = qualified['vote_average'].astype('int')\n",
        "qualified.shape"
      ],
      "execution_count": null,
      "outputs": [
        {
          "output_type": "execute_result",
          "data": {
            "text/plain": [
              "(2274, 4)"
            ]
          },
          "metadata": {
            "tags": []
          },
          "execution_count": 194
        }
      ]
    },
    {
      "cell_type": "markdown",
      "metadata": {
        "id": "R72RDGU6uweH"
      },
      "source": [
        "v is the number of votes for the movie\n",
        "\n",
        "m is the minimum votes required to be listed in the chart\n",
        "\n",
        "R is the average rating of the movie\n",
        "\n",
        "C is the mean vote across the whole report\n",
        "\n"
      ]
    },
    {
      "cell_type": "code",
      "metadata": {
        "id": "QWBbPxuQKYxp"
      },
      "source": [
        "def weighted_rating(x):\n",
        "    v = x['vote_count']\n",
        "    R = x['vote_average']\n",
        "    return (v/(v+m) * R) + (m/(m+v) * C)"
      ],
      "execution_count": null,
      "outputs": []
    },
    {
      "cell_type": "code",
      "metadata": {
        "id": "9cMUsccoKCsx"
      },
      "source": [
        "qualified['wr'] = qualified.apply(weighted_rating, axis=1)"
      ],
      "execution_count": null,
      "outputs": []
    },
    {
      "cell_type": "code",
      "metadata": {
        "id": "GAM5Jba_Kgus"
      },
      "source": [
        "qualified = qualified.sort_values('wr', ascending=False).head(25)"
      ],
      "execution_count": null,
      "outputs": []
    },
    {
      "cell_type": "code",
      "metadata": {
        "colab": {
          "base_uri": "https://localhost:8080/"
        },
        "id": "N3qzOG1TLPYC",
        "outputId": "0086cdda-bd7d-46fc-ea5a-adc320bd1e49"
      },
      "source": [
        "print(qualified['title'])"
      ],
      "execution_count": null,
      "outputs": [
        {
          "output_type": "stream",
          "text": [
            "15480                                            Inception\n",
            "12481                                      The Dark Knight\n",
            "22879                                         Interstellar\n",
            "2843                                            Fight Club\n",
            "4863     The Lord of the Rings: The Fellowship of the Ring\n",
            "292                                           Pulp Fiction\n",
            "314                               The Shawshank Redemption\n",
            "7000         The Lord of the Rings: The Return of the King\n",
            "351                                           Forrest Gump\n",
            "5814                 The Lord of the Rings: The Two Towers\n",
            "256                                              Star Wars\n",
            "1225                                    Back to the Future\n",
            "834                                          The Godfather\n",
            "1154                               The Empire Strikes Back\n",
            "46                                                   Se7en\n",
            "24860                                   The Imitation Game\n",
            "359                                          The Lion King\n",
            "18465                                     The Intouchables\n",
            "22841                             The Grand Budapest Hotel\n",
            "586                               The Silence of the Lambs\n",
            "11354                                         The Prestige\n",
            "522                                       Schindler's List\n",
            "23673                                             Whiplash\n",
            "289                                 Leon: The Professional\n",
            "4099                                               Memento\n",
            "Name: title, dtype: object\n"
          ],
          "name": "stdout"
        }
      ]
    },
    {
      "cell_type": "code",
      "metadata": {
        "id": "CDLRehq_hUwd"
      },
      "source": [
        "links_small = pd.read_csv('/content/drive/MyDrive/data_movies/links_small.csv')\n",
        "links_small = links_small[links_small['tmdbId'].notnull()]['tmdbId'].astype('int')"
      ],
      "execution_count": null,
      "outputs": []
    },
    {
      "cell_type": "code",
      "metadata": {
        "id": "Q1nuj7Gxhiqb"
      },
      "source": [
        "md = md.drop([19730, 29503, 35587])"
      ],
      "execution_count": null,
      "outputs": []
    },
    {
      "cell_type": "code",
      "metadata": {
        "id": "3pQtua5ihlpD"
      },
      "source": [
        "md['id'] = md['id'].astype('int')"
      ],
      "execution_count": null,
      "outputs": []
    },
    {
      "cell_type": "code",
      "metadata": {
        "colab": {
          "base_uri": "https://localhost:8080/"
        },
        "id": "Wg5XQJ2Ehpic",
        "outputId": "d6f60046-046b-41cb-d21c-d806c4a84f21"
      },
      "source": [
        "smd = md[md['id'].isin(links_small)]\n",
        "smd.shape"
      ],
      "execution_count": null,
      "outputs": [
        {
          "output_type": "execute_result",
          "data": {
            "text/plain": [
              "(9099, 24)"
            ]
          },
          "metadata": {
            "tags": []
          },
          "execution_count": 202
        }
      ]
    },
    {
      "cell_type": "code",
      "metadata": {
        "colab": {
          "base_uri": "https://localhost:8080/",
          "height": 673
        },
        "id": "Rf3LmXE5Zfq3",
        "outputId": "c6b86cc4-3bc5-4e12-c739-4ab45be6edcc"
      },
      "source": [
        "smd.head()"
      ],
      "execution_count": null,
      "outputs": [
        {
          "output_type": "execute_result",
          "data": {
            "text/html": [
              "<div>\n",
              "<style scoped>\n",
              "    .dataframe tbody tr th:only-of-type {\n",
              "        vertical-align: middle;\n",
              "    }\n",
              "\n",
              "    .dataframe tbody tr th {\n",
              "        vertical-align: top;\n",
              "    }\n",
              "\n",
              "    .dataframe thead th {\n",
              "        text-align: right;\n",
              "    }\n",
              "</style>\n",
              "<table border=\"1\" class=\"dataframe\">\n",
              "  <thead>\n",
              "    <tr style=\"text-align: right;\">\n",
              "      <th></th>\n",
              "      <th>adult</th>\n",
              "      <th>belongs_to_collection</th>\n",
              "      <th>budget</th>\n",
              "      <th>genres</th>\n",
              "      <th>homepage</th>\n",
              "      <th>id</th>\n",
              "      <th>imdb_id</th>\n",
              "      <th>original_language</th>\n",
              "      <th>original_title</th>\n",
              "      <th>overview</th>\n",
              "      <th>popularity</th>\n",
              "      <th>poster_path</th>\n",
              "      <th>production_companies</th>\n",
              "      <th>production_countries</th>\n",
              "      <th>release_date</th>\n",
              "      <th>revenue</th>\n",
              "      <th>runtime</th>\n",
              "      <th>spoken_languages</th>\n",
              "      <th>status</th>\n",
              "      <th>tagline</th>\n",
              "      <th>title</th>\n",
              "      <th>video</th>\n",
              "      <th>vote_average</th>\n",
              "      <th>vote_count</th>\n",
              "    </tr>\n",
              "  </thead>\n",
              "  <tbody>\n",
              "    <tr>\n",
              "      <th>0</th>\n",
              "      <td>False</td>\n",
              "      <td>{'id': 10194, 'name': 'Toy Story Collection', ...</td>\n",
              "      <td>30000000</td>\n",
              "      <td>[{'id': 16, 'name': 'Animation'}, {'id': 35, '...</td>\n",
              "      <td>http://toystory.disney.com/toy-story</td>\n",
              "      <td>862</td>\n",
              "      <td>tt0114709</td>\n",
              "      <td>en</td>\n",
              "      <td>Toy Story</td>\n",
              "      <td>Led by Woody, Andy's toys live happily in his ...</td>\n",
              "      <td>21.9469</td>\n",
              "      <td>/rhIRbceoE9lR4veEXuwCC2wARtG.jpg</td>\n",
              "      <td>[{'name': 'Pixar Animation Studios', 'id': 3}]</td>\n",
              "      <td>[{'iso_3166_1': 'US', 'name': 'United States o...</td>\n",
              "      <td>1995-10-30</td>\n",
              "      <td>373554033.0</td>\n",
              "      <td>81.0</td>\n",
              "      <td>[{'iso_639_1': 'en', 'name': 'English'}]</td>\n",
              "      <td>Released</td>\n",
              "      <td>NaN</td>\n",
              "      <td>Toy Story</td>\n",
              "      <td>False</td>\n",
              "      <td>7.7</td>\n",
              "      <td>5415.0</td>\n",
              "    </tr>\n",
              "    <tr>\n",
              "      <th>1</th>\n",
              "      <td>False</td>\n",
              "      <td>NaN</td>\n",
              "      <td>65000000</td>\n",
              "      <td>[{'id': 12, 'name': 'Adventure'}, {'id': 14, '...</td>\n",
              "      <td>NaN</td>\n",
              "      <td>8844</td>\n",
              "      <td>tt0113497</td>\n",
              "      <td>en</td>\n",
              "      <td>Jumanji</td>\n",
              "      <td>When siblings Judy and Peter discover an encha...</td>\n",
              "      <td>17.0155</td>\n",
              "      <td>/vzmL6fP7aPKNKPRTFnZmiUfciyV.jpg</td>\n",
              "      <td>[{'name': 'TriStar Pictures', 'id': 559}, {'na...</td>\n",
              "      <td>[{'iso_3166_1': 'US', 'name': 'United States o...</td>\n",
              "      <td>1995-12-15</td>\n",
              "      <td>262797249.0</td>\n",
              "      <td>104.0</td>\n",
              "      <td>[{'iso_639_1': 'en', 'name': 'English'}, {'iso...</td>\n",
              "      <td>Released</td>\n",
              "      <td>Roll the dice and unleash the excitement!</td>\n",
              "      <td>Jumanji</td>\n",
              "      <td>False</td>\n",
              "      <td>6.9</td>\n",
              "      <td>2413.0</td>\n",
              "    </tr>\n",
              "    <tr>\n",
              "      <th>2</th>\n",
              "      <td>False</td>\n",
              "      <td>{'id': 119050, 'name': 'Grumpy Old Men Collect...</td>\n",
              "      <td>0</td>\n",
              "      <td>[{'id': 10749, 'name': 'Romance'}, {'id': 35, ...</td>\n",
              "      <td>NaN</td>\n",
              "      <td>15602</td>\n",
              "      <td>tt0113228</td>\n",
              "      <td>en</td>\n",
              "      <td>Grumpier Old Men</td>\n",
              "      <td>A family wedding reignites the ancient feud be...</td>\n",
              "      <td>11.7129</td>\n",
              "      <td>/6ksm1sjKMFLbO7UY2i6G1ju9SML.jpg</td>\n",
              "      <td>[{'name': 'Warner Bros.', 'id': 6194}, {'name'...</td>\n",
              "      <td>[{'iso_3166_1': 'US', 'name': 'United States o...</td>\n",
              "      <td>1995-12-22</td>\n",
              "      <td>0.0</td>\n",
              "      <td>101.0</td>\n",
              "      <td>[{'iso_639_1': 'en', 'name': 'English'}]</td>\n",
              "      <td>Released</td>\n",
              "      <td>Still Yelling. Still Fighting. Still Ready for...</td>\n",
              "      <td>Grumpier Old Men</td>\n",
              "      <td>False</td>\n",
              "      <td>6.5</td>\n",
              "      <td>92.0</td>\n",
              "    </tr>\n",
              "    <tr>\n",
              "      <th>3</th>\n",
              "      <td>False</td>\n",
              "      <td>NaN</td>\n",
              "      <td>16000000</td>\n",
              "      <td>[{'id': 35, 'name': 'Comedy'}, {'id': 18, 'nam...</td>\n",
              "      <td>NaN</td>\n",
              "      <td>31357</td>\n",
              "      <td>tt0114885</td>\n",
              "      <td>en</td>\n",
              "      <td>Waiting to Exhale</td>\n",
              "      <td>Cheated on, mistreated and stepped on, the wom...</td>\n",
              "      <td>3.85949</td>\n",
              "      <td>/16XOMpEaLWkrcPqSQqhTmeJuqQl.jpg</td>\n",
              "      <td>[{'name': 'Twentieth Century Fox Film Corporat...</td>\n",
              "      <td>[{'iso_3166_1': 'US', 'name': 'United States o...</td>\n",
              "      <td>1995-12-22</td>\n",
              "      <td>81452156.0</td>\n",
              "      <td>127.0</td>\n",
              "      <td>[{'iso_639_1': 'en', 'name': 'English'}]</td>\n",
              "      <td>Released</td>\n",
              "      <td>Friends are the people who let you be yourself...</td>\n",
              "      <td>Waiting to Exhale</td>\n",
              "      <td>False</td>\n",
              "      <td>6.1</td>\n",
              "      <td>34.0</td>\n",
              "    </tr>\n",
              "    <tr>\n",
              "      <th>4</th>\n",
              "      <td>False</td>\n",
              "      <td>{'id': 96871, 'name': 'Father of the Bride Col...</td>\n",
              "      <td>0</td>\n",
              "      <td>[{'id': 35, 'name': 'Comedy'}]</td>\n",
              "      <td>NaN</td>\n",
              "      <td>11862</td>\n",
              "      <td>tt0113041</td>\n",
              "      <td>en</td>\n",
              "      <td>Father of the Bride Part II</td>\n",
              "      <td>Just when George Banks has recovered from his ...</td>\n",
              "      <td>8.38752</td>\n",
              "      <td>/e64sOI48hQXyru7naBFyssKFxVd.jpg</td>\n",
              "      <td>[{'name': 'Sandollar Productions', 'id': 5842}...</td>\n",
              "      <td>[{'iso_3166_1': 'US', 'name': 'United States o...</td>\n",
              "      <td>1995-02-10</td>\n",
              "      <td>76578911.0</td>\n",
              "      <td>106.0</td>\n",
              "      <td>[{'iso_639_1': 'en', 'name': 'English'}]</td>\n",
              "      <td>Released</td>\n",
              "      <td>Just When His World Is Back To Normal... He's ...</td>\n",
              "      <td>Father of the Bride Part II</td>\n",
              "      <td>False</td>\n",
              "      <td>5.7</td>\n",
              "      <td>173.0</td>\n",
              "    </tr>\n",
              "  </tbody>\n",
              "</table>\n",
              "</div>"
            ],
            "text/plain": [
              "   adult  ... vote_count\n",
              "0  False  ...     5415.0\n",
              "1  False  ...     2413.0\n",
              "2  False  ...       92.0\n",
              "3  False  ...       34.0\n",
              "4  False  ...      173.0\n",
              "\n",
              "[5 rows x 24 columns]"
            ]
          },
          "metadata": {
            "tags": []
          },
          "execution_count": 203
        }
      ]
    },
    {
      "cell_type": "code",
      "metadata": {
        "id": "AAeq4Usa36_v"
      },
      "source": [
        "credits = pd.read_csv('/content/drive/MyDrive/data_movies/credits.csv')"
      ],
      "execution_count": null,
      "outputs": []
    },
    {
      "cell_type": "code",
      "metadata": {
        "id": "BaZMn_KV5icS"
      },
      "source": [
        "credits['id'] = credits['id'].astype('int')\n",
        "md['id'] = md['id'].astype('int')"
      ],
      "execution_count": null,
      "outputs": []
    },
    {
      "cell_type": "code",
      "metadata": {
        "id": "JTxVNeQf5qnA"
      },
      "source": [
        "smd = smd.merge(credits, on='id')"
      ],
      "execution_count": null,
      "outputs": []
    },
    {
      "cell_type": "code",
      "metadata": {
        "id": "bxZxTF3c53kG"
      },
      "source": [
        "smd['crew'] = smd['crew'].apply(literal_eval)"
      ],
      "execution_count": null,
      "outputs": []
    },
    {
      "cell_type": "code",
      "metadata": {
        "id": "dRg9AZ8I6NZs"
      },
      "source": [
        "def get_director(x):\n",
        "    for i in x:\n",
        "        if i['job'] == 'Director':\n",
        "            return i['name']\n",
        "    return np.nan\n",
        "smd['director'] = smd['crew'].apply(get_director)"
      ],
      "execution_count": null,
      "outputs": []
    },
    {
      "cell_type": "code",
      "metadata": {
        "id": "7v--dqMIhsd4"
      },
      "source": [
        "smd['tagline'] = smd['tagline'].fillna('')\n",
        "smd['description'] = smd['overview'] + smd['tagline'] + smd['director']+ smd['director']+ smd['director']+ smd['director']\n",
        "smd['description'] = smd['description'].fillna('')"
      ],
      "execution_count": null,
      "outputs": []
    },
    {
      "cell_type": "code",
      "metadata": {
        "id": "wWlnjA0Ah7X4"
      },
      "source": [
        "tf = TfidfVectorizer(analyzer='word',ngram_range=(1, 2),min_df=0, stop_words='english')\n",
        "tfidf_matrix = tf.fit_transform(smd['description'])"
      ],
      "execution_count": null,
      "outputs": []
    },
    {
      "cell_type": "code",
      "metadata": {
        "colab": {
          "base_uri": "https://localhost:8080/"
        },
        "id": "4MIOpYTGiPst",
        "outputId": "8543179c-8134-4b2f-cb7a-d2539b759ab6"
      },
      "source": [
        "tfidf_matrix.shape"
      ],
      "execution_count": null,
      "outputs": [
        {
          "output_type": "execute_result",
          "data": {
            "text/plain": [
              "(9133, 294102)"
            ]
          },
          "metadata": {
            "tags": []
          },
          "execution_count": 211
        }
      ]
    },
    {
      "cell_type": "code",
      "metadata": {
        "id": "c7J_e-AdiVGP"
      },
      "source": [
        "cosine_sim = linear_kernel(tfidf_matrix, tfidf_matrix)"
      ],
      "execution_count": null,
      "outputs": []
    },
    {
      "cell_type": "code",
      "metadata": {
        "colab": {
          "base_uri": "https://localhost:8080/"
        },
        "id": "MJ9L9uPWi0_K",
        "outputId": "46ee2468-3803-4525-a9d0-0f5c4a957d27"
      },
      "source": [
        "cosine_sim[0]"
      ],
      "execution_count": null,
      "outputs": [
        {
          "output_type": "execute_result",
          "data": {
            "text/plain": [
              "array([1.        , 0.00568216, 0.00250467, ..., 0.        , 0.        ,\n",
              "       0.00412714])"
            ]
          },
          "metadata": {
            "tags": []
          },
          "execution_count": 213
        }
      ]
    },
    {
      "cell_type": "code",
      "metadata": {
        "id": "IjDz7b3Ji2Sl"
      },
      "source": [
        "smd = smd.reset_index()\n",
        "titles = smd['title']\n",
        "indices = pd.Series(smd.index, index=smd['title'])"
      ],
      "execution_count": null,
      "outputs": []
    },
    {
      "cell_type": "code",
      "metadata": {
        "id": "mAcvEc1li5j1"
      },
      "source": [
        "def get_recommendations(title):\n",
        "    idx = indices[title]\n",
        "    sim_scores = list(enumerate(cosine_sim[idx]))\n",
        "    sim_scores = sorted(sim_scores, key=lambda x: x[1], reverse=True)\n",
        "    sim_scores = sim_scores[1:31]\n",
        "    movie_indices = [i[0] for i in sim_scores]\n",
        "    return titles[movie_indices]"
      ],
      "execution_count": null,
      "outputs": []
    },
    {
      "cell_type": "code",
      "metadata": {
        "colab": {
          "base_uri": "https://localhost:8080/"
        },
        "id": "kS68kBrwZNKL",
        "outputId": "791a034b-a01c-473d-8c01-07fda2373759"
      },
      "source": [
        "s = get_recommendations('The Family').head(10)\n",
        "for i in s:\n",
        "  print(i)"
      ],
      "execution_count": null,
      "outputs": [
        {
          "output_type": "stream",
          "text": [
            "The Fifth Element\n",
            "La Femme Nikita\n",
            "Lucy\n",
            "The Messenger: The Story of Joan of Arc\n",
            "Leon: The Professional\n",
            "Arthur and the Invisibles\n",
            "The Big Blue\n",
            "Did You Hear About the Morgans?\n",
            "Charlie's Angels: Full Throttle\n",
            "The Whole Nine Yards\n"
          ],
          "name": "stdout"
        }
      ]
    },
    {
      "cell_type": "code",
      "metadata": {
        "colab": {
          "base_uri": "https://localhost:8080/"
        },
        "id": "WNFCdfOQt9ce",
        "outputId": "2c151682-55bb-4dea-a42e-3a2e421a4dcf"
      },
      "source": [
        "s = get_recommendations('Cool as Ice').head(10)\n",
        "for i in s:\n",
        "  print(i)"
      ],
      "execution_count": null,
      "outputs": [
        {
          "output_type": "stream",
          "text": [
            "Inspector Gadget\n",
            "Did You Hear About the Morgans?\n",
            "The Favor\n",
            "Charlie's Angels: Full Throttle\n",
            "The Family\n",
            "The Whole Nine Yards\n",
            "Eraser\n",
            "House of Sand and Fog\n",
            "Cry-Baby\n",
            "My Blue Heaven\n"
          ],
          "name": "stdout"
        }
      ]
    },
    {
      "cell_type": "code",
      "metadata": {
        "colab": {
          "base_uri": "https://localhost:8080/"
        },
        "id": "BH5lTLPH_cOn",
        "outputId": "bc49eff9-0691-4718-8f71-eeddd2869697"
      },
      "source": [
        "s = get_recommendations(\"Charlie's Angels: Full Throttle\").head(10)\n",
        "for i in s:\n",
        "  print(i)"
      ],
      "execution_count": null,
      "outputs": [
        {
          "output_type": "stream",
          "text": [
            "Did You Hear About the Morgans?\n",
            "The Family\n",
            "Eraser\n",
            "Wings of Desire\n",
            "My Blue Heaven\n",
            "The Whole Nine Yards\n",
            "Cool as Ice\n",
            "To Live and Die in L.A.\n",
            "See Spot Run\n",
            "Angels in the Outfield\n"
          ],
          "name": "stdout"
        }
      ]
    },
    {
      "cell_type": "code",
      "metadata": {
        "id": "5cTfYgqp7zk-"
      },
      "source": [
        "smd.to_csv('s_data.csv')"
      ],
      "execution_count": null,
      "outputs": []
    }
  ]
}